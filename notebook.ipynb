{
  "cells": [
    {
      "cell_type": "markdown",
      "id": "1b97cc89",
      "metadata": {
        "id": "1b97cc89"
      },
      "source": [
        "# October Code Jam\n",
        "\n",
        "Prepared by Jeel Faldu, Jimmy Koester, and Raphael Lu"
      ]
    },
    {
      "cell_type": "code",
      "execution_count": 98,
      "id": "9065662f",
      "metadata": {
        "id": "9065662f"
      },
      "outputs": [],
      "source": [
        "import pandas as pd\n",
        "import numpy as np\n",
        "import seaborn as sns\n",
        "import matplotlib.pyplot as plt\n",
        "import torch\n",
        "from sklearn.preprocessing import MultiLabelBinarizer\n",
        "from sklearn.model_selection import train_test_split\n",
        "\n",
        "#HuggingFace tools\n",
        "from transformers import DistilBertTokenizer, DistilBertForSequenceClassification\n",
        "from transformers import AutoTokenizer, AutoModelForSequenceClassification, Trainer, TrainingArguments\n",
        "from datasets import Dataset\n",
        "\n",
        "from google.colab import output\n",
        "\n",
        "import urllib.request"
      ]
    },
    {
      "cell_type": "markdown",
      "id": "96c3b408",
      "metadata": {
        "id": "96c3b408"
      },
      "source": [
        "## Introduction"
      ]
    },
    {
      "cell_type": "markdown",
      "id": "98aed7d2",
      "metadata": {
        "id": "98aed7d2"
      },
      "source": [
        "This project explores sentiment analysis using `distilbert-base-uncased-finetuned-sst-2-english` and `twitter-roberta-base-sentiment` from the Hugging Face Transformers library. The goal is to automatically classify text as positive, negative, or neutral using pretrained transformer models.\n",
        "\n",
        "We analyzed sentiment in social media posts, compared multiple models, and visualized their performance and confidence levels. We also applied the models to a creative dataset, showcasing how NLP can reveal insights from real-world text such as tweets, song lyrics, or news articles.\n"
      ]
    },
    {
      "cell_type": "markdown",
      "source": [
        "## Device Loading"
      ],
      "metadata": {
        "id": "ELpqQQ55J1qY"
      },
      "id": "ELpqQQ55J1qY"
    },
    {
      "cell_type": "code",
      "source": [
        "output.disable_custom_widget_manager()\n",
        "\n",
        "device = 'cuda' if torch.cuda.is_available() else 'cpu'\n",
        "print(f\"Device Loaded: {device}\")\n",
        "\n",
        "# model_1 = DistilBertForSequenceClassification.from_pretrained(\"distilbert-base-uncased-finetuned-sst-2-english\")\n",
        "# model_2 = AutoModelForSequenceClassification.from_pretrained(\"cardiffnlp/twitter-roberta-base-sentiment\")\n",
        "\n",
        "distil_tokenizer = DistilBertTokenizer.from_pretrained(\"distilbert-base-uncased-finetuned-sst-2-english\")"
      ],
      "metadata": {
        "id": "OnUcLb5kKQls",
        "colab": {
          "base_uri": "https://localhost:8080/"
        },
        "outputId": "bcfd654d-e665-478f-a461-99887c8e03dd"
      },
      "id": "OnUcLb5kKQls",
      "execution_count": 99,
      "outputs": [
        {
          "output_type": "stream",
          "name": "stdout",
          "text": [
            "Device Loaded: cuda\n"
          ]
        }
      ]
    },
    {
      "cell_type": "markdown",
      "id": "384f32af",
      "metadata": {
        "id": "384f32af"
      },
      "source": [
        "## Data Preprocessing\n",
        "\n",
        "In data exploration, no duplicate entries were found. In the orignal data set, Tweets were encoded as\n",
        "```\n",
        "'nocode', 'happy', 'not-relevant', 'angry', 'disgust|angry',\n",
        "'disgust', 'happy|surprise', 'sad', 'surprise', 'happy|sad',\n",
        "'sad|disgust', 'sad|angry', 'sad|disgust|angry'\n",
        "```\n",
        "\n",
        "**Summary of Data Preprocessing:**\n",
        "* Feilds were renamed `id`, `text`, and `label`\n",
        "* `id` feild was ultimately dropped\n",
        "* Target labels were re-coded into arrays using OHE:\n",
        "     * e.g. with sentiments   \n",
        "     `['angry' 'disgust' 'happy' 'nocode' 'not-relevant' 'sad' 'surprise']`,   \n",
        "     a tensor of `[1 0 0 0 0 1 0]`\n",
        "     indicates an `angry|sad` tweet\n",
        "\n",
        "* Data were split using a 80:20 (train:test) ratio and stored in `X_train, X_test, y_train, y_test`"
      ]
    },
    {
      "cell_type": "code",
      "execution_count": 100,
      "id": "1a853261",
      "metadata": {
        "colab": {
          "base_uri": "https://localhost:8080/",
          "height": 206
        },
        "id": "1a853261",
        "outputId": "52d10491-c3b4-49ee-93f0-75603a64587b"
      },
      "outputs": [
        {
          "output_type": "display_data",
          "data": {
            "text/plain": [
              "                   id                                               text  \\\n",
              "0  611857364396965889  @aandraous @britishmuseum @AndrewsAntonio Merc...   \n",
              "1  614484565059596288  Dorian Gray with Rainbow Scarf #LoveWins (from...   \n",
              "2  614746522043973632  @SelectShowcase @Tate_StIves ... Replace with ...   \n",
              "3  614877582664835073  @Sofabsports thank you for following me back. ...   \n",
              "4  611932373039644672  @britishmuseum @TudorHistory What a beautiful ...   \n",
              "\n",
              "    label  \n",
              "0  nocode  \n",
              "1   happy  \n",
              "2   happy  \n",
              "3   happy  \n",
              "4   happy  "
            ],
            "text/html": [
              "\n",
              "  <div id=\"df-b5481bad-80e4-4503-8822-9e3458bb97ed\" class=\"colab-df-container\">\n",
              "    <div>\n",
              "<style scoped>\n",
              "    .dataframe tbody tr th:only-of-type {\n",
              "        vertical-align: middle;\n",
              "    }\n",
              "\n",
              "    .dataframe tbody tr th {\n",
              "        vertical-align: top;\n",
              "    }\n",
              "\n",
              "    .dataframe thead th {\n",
              "        text-align: right;\n",
              "    }\n",
              "</style>\n",
              "<table border=\"1\" class=\"dataframe\">\n",
              "  <thead>\n",
              "    <tr style=\"text-align: right;\">\n",
              "      <th></th>\n",
              "      <th>id</th>\n",
              "      <th>text</th>\n",
              "      <th>label</th>\n",
              "    </tr>\n",
              "  </thead>\n",
              "  <tbody>\n",
              "    <tr>\n",
              "      <th>0</th>\n",
              "      <td>611857364396965889</td>\n",
              "      <td>@aandraous @britishmuseum @AndrewsAntonio Merc...</td>\n",
              "      <td>nocode</td>\n",
              "    </tr>\n",
              "    <tr>\n",
              "      <th>1</th>\n",
              "      <td>614484565059596288</td>\n",
              "      <td>Dorian Gray with Rainbow Scarf #LoveWins (from...</td>\n",
              "      <td>happy</td>\n",
              "    </tr>\n",
              "    <tr>\n",
              "      <th>2</th>\n",
              "      <td>614746522043973632</td>\n",
              "      <td>@SelectShowcase @Tate_StIves ... Replace with ...</td>\n",
              "      <td>happy</td>\n",
              "    </tr>\n",
              "    <tr>\n",
              "      <th>3</th>\n",
              "      <td>614877582664835073</td>\n",
              "      <td>@Sofabsports thank you for following me back. ...</td>\n",
              "      <td>happy</td>\n",
              "    </tr>\n",
              "    <tr>\n",
              "      <th>4</th>\n",
              "      <td>611932373039644672</td>\n",
              "      <td>@britishmuseum @TudorHistory What a beautiful ...</td>\n",
              "      <td>happy</td>\n",
              "    </tr>\n",
              "  </tbody>\n",
              "</table>\n",
              "</div>\n",
              "    <div class=\"colab-df-buttons\">\n",
              "\n",
              "  <div class=\"colab-df-container\">\n",
              "    <button class=\"colab-df-convert\" onclick=\"convertToInteractive('df-b5481bad-80e4-4503-8822-9e3458bb97ed')\"\n",
              "            title=\"Convert this dataframe to an interactive table.\"\n",
              "            style=\"display:none;\">\n",
              "\n",
              "  <svg xmlns=\"http://www.w3.org/2000/svg\" height=\"24px\" viewBox=\"0 -960 960 960\">\n",
              "    <path d=\"M120-120v-720h720v720H120Zm60-500h600v-160H180v160Zm220 220h160v-160H400v160Zm0 220h160v-160H400v160ZM180-400h160v-160H180v160Zm440 0h160v-160H620v160ZM180-180h160v-160H180v160Zm440 0h160v-160H620v160Z\"/>\n",
              "  </svg>\n",
              "    </button>\n",
              "\n",
              "  <style>\n",
              "    .colab-df-container {\n",
              "      display:flex;\n",
              "      gap: 12px;\n",
              "    }\n",
              "\n",
              "    .colab-df-convert {\n",
              "      background-color: #E8F0FE;\n",
              "      border: none;\n",
              "      border-radius: 50%;\n",
              "      cursor: pointer;\n",
              "      display: none;\n",
              "      fill: #1967D2;\n",
              "      height: 32px;\n",
              "      padding: 0 0 0 0;\n",
              "      width: 32px;\n",
              "    }\n",
              "\n",
              "    .colab-df-convert:hover {\n",
              "      background-color: #E2EBFA;\n",
              "      box-shadow: 0px 1px 2px rgba(60, 64, 67, 0.3), 0px 1px 3px 1px rgba(60, 64, 67, 0.15);\n",
              "      fill: #174EA6;\n",
              "    }\n",
              "\n",
              "    .colab-df-buttons div {\n",
              "      margin-bottom: 4px;\n",
              "    }\n",
              "\n",
              "    [theme=dark] .colab-df-convert {\n",
              "      background-color: #3B4455;\n",
              "      fill: #D2E3FC;\n",
              "    }\n",
              "\n",
              "    [theme=dark] .colab-df-convert:hover {\n",
              "      background-color: #434B5C;\n",
              "      box-shadow: 0px 1px 3px 1px rgba(0, 0, 0, 0.15);\n",
              "      filter: drop-shadow(0px 1px 2px rgba(0, 0, 0, 0.3));\n",
              "      fill: #FFFFFF;\n",
              "    }\n",
              "  </style>\n",
              "\n",
              "    <script>\n",
              "      const buttonEl =\n",
              "        document.querySelector('#df-b5481bad-80e4-4503-8822-9e3458bb97ed button.colab-df-convert');\n",
              "      buttonEl.style.display =\n",
              "        google.colab.kernel.accessAllowed ? 'block' : 'none';\n",
              "\n",
              "      async function convertToInteractive(key) {\n",
              "        const element = document.querySelector('#df-b5481bad-80e4-4503-8822-9e3458bb97ed');\n",
              "        const dataTable =\n",
              "          await google.colab.kernel.invokeFunction('convertToInteractive',\n",
              "                                                    [key], {});\n",
              "        if (!dataTable) return;\n",
              "\n",
              "        const docLinkHtml = 'Like what you see? Visit the ' +\n",
              "          '<a target=\"_blank\" href=https://colab.research.google.com/notebooks/data_table.ipynb>data table notebook</a>'\n",
              "          + ' to learn more about interactive tables.';\n",
              "        element.innerHTML = '';\n",
              "        dataTable['output_type'] = 'display_data';\n",
              "        await google.colab.output.renderOutput(dataTable, element);\n",
              "        const docLink = document.createElement('div');\n",
              "        docLink.innerHTML = docLinkHtml;\n",
              "        element.appendChild(docLink);\n",
              "      }\n",
              "    </script>\n",
              "  </div>\n",
              "\n",
              "\n",
              "    <div id=\"df-34657f61-9c65-4794-8c2c-86b9d2eb4559\">\n",
              "      <button class=\"colab-df-quickchart\" onclick=\"quickchart('df-34657f61-9c65-4794-8c2c-86b9d2eb4559')\"\n",
              "                title=\"Suggest charts\"\n",
              "                style=\"display:none;\">\n",
              "\n",
              "<svg xmlns=\"http://www.w3.org/2000/svg\" height=\"24px\"viewBox=\"0 0 24 24\"\n",
              "     width=\"24px\">\n",
              "    <g>\n",
              "        <path d=\"M19 3H5c-1.1 0-2 .9-2 2v14c0 1.1.9 2 2 2h14c1.1 0 2-.9 2-2V5c0-1.1-.9-2-2-2zM9 17H7v-7h2v7zm4 0h-2V7h2v10zm4 0h-2v-4h2v4z\"/>\n",
              "    </g>\n",
              "</svg>\n",
              "      </button>\n",
              "\n",
              "<style>\n",
              "  .colab-df-quickchart {\n",
              "      --bg-color: #E8F0FE;\n",
              "      --fill-color: #1967D2;\n",
              "      --hover-bg-color: #E2EBFA;\n",
              "      --hover-fill-color: #174EA6;\n",
              "      --disabled-fill-color: #AAA;\n",
              "      --disabled-bg-color: #DDD;\n",
              "  }\n",
              "\n",
              "  [theme=dark] .colab-df-quickchart {\n",
              "      --bg-color: #3B4455;\n",
              "      --fill-color: #D2E3FC;\n",
              "      --hover-bg-color: #434B5C;\n",
              "      --hover-fill-color: #FFFFFF;\n",
              "      --disabled-bg-color: #3B4455;\n",
              "      --disabled-fill-color: #666;\n",
              "  }\n",
              "\n",
              "  .colab-df-quickchart {\n",
              "    background-color: var(--bg-color);\n",
              "    border: none;\n",
              "    border-radius: 50%;\n",
              "    cursor: pointer;\n",
              "    display: none;\n",
              "    fill: var(--fill-color);\n",
              "    height: 32px;\n",
              "    padding: 0;\n",
              "    width: 32px;\n",
              "  }\n",
              "\n",
              "  .colab-df-quickchart:hover {\n",
              "    background-color: var(--hover-bg-color);\n",
              "    box-shadow: 0 1px 2px rgba(60, 64, 67, 0.3), 0 1px 3px 1px rgba(60, 64, 67, 0.15);\n",
              "    fill: var(--button-hover-fill-color);\n",
              "  }\n",
              "\n",
              "  .colab-df-quickchart-complete:disabled,\n",
              "  .colab-df-quickchart-complete:disabled:hover {\n",
              "    background-color: var(--disabled-bg-color);\n",
              "    fill: var(--disabled-fill-color);\n",
              "    box-shadow: none;\n",
              "  }\n",
              "\n",
              "  .colab-df-spinner {\n",
              "    border: 2px solid var(--fill-color);\n",
              "    border-color: transparent;\n",
              "    border-bottom-color: var(--fill-color);\n",
              "    animation:\n",
              "      spin 1s steps(1) infinite;\n",
              "  }\n",
              "\n",
              "  @keyframes spin {\n",
              "    0% {\n",
              "      border-color: transparent;\n",
              "      border-bottom-color: var(--fill-color);\n",
              "      border-left-color: var(--fill-color);\n",
              "    }\n",
              "    20% {\n",
              "      border-color: transparent;\n",
              "      border-left-color: var(--fill-color);\n",
              "      border-top-color: var(--fill-color);\n",
              "    }\n",
              "    30% {\n",
              "      border-color: transparent;\n",
              "      border-left-color: var(--fill-color);\n",
              "      border-top-color: var(--fill-color);\n",
              "      border-right-color: var(--fill-color);\n",
              "    }\n",
              "    40% {\n",
              "      border-color: transparent;\n",
              "      border-right-color: var(--fill-color);\n",
              "      border-top-color: var(--fill-color);\n",
              "    }\n",
              "    60% {\n",
              "      border-color: transparent;\n",
              "      border-right-color: var(--fill-color);\n",
              "    }\n",
              "    80% {\n",
              "      border-color: transparent;\n",
              "      border-right-color: var(--fill-color);\n",
              "      border-bottom-color: var(--fill-color);\n",
              "    }\n",
              "    90% {\n",
              "      border-color: transparent;\n",
              "      border-bottom-color: var(--fill-color);\n",
              "    }\n",
              "  }\n",
              "</style>\n",
              "\n",
              "      <script>\n",
              "        async function quickchart(key) {\n",
              "          const quickchartButtonEl =\n",
              "            document.querySelector('#' + key + ' button');\n",
              "          quickchartButtonEl.disabled = true;  // To prevent multiple clicks.\n",
              "          quickchartButtonEl.classList.add('colab-df-spinner');\n",
              "          try {\n",
              "            const charts = await google.colab.kernel.invokeFunction(\n",
              "                'suggestCharts', [key], {});\n",
              "          } catch (error) {\n",
              "            console.error('Error during call to suggestCharts:', error);\n",
              "          }\n",
              "          quickchartButtonEl.classList.remove('colab-df-spinner');\n",
              "          quickchartButtonEl.classList.add('colab-df-quickchart-complete');\n",
              "        }\n",
              "        (() => {\n",
              "          let quickchartButtonEl =\n",
              "            document.querySelector('#df-34657f61-9c65-4794-8c2c-86b9d2eb4559 button');\n",
              "          quickchartButtonEl.style.display =\n",
              "            google.colab.kernel.accessAllowed ? 'block' : 'none';\n",
              "        })();\n",
              "      </script>\n",
              "    </div>\n",
              "\n",
              "    </div>\n",
              "  </div>\n"
            ],
            "application/vnd.google.colaboratory.intrinsic+json": {
              "type": "dataframe",
              "summary": "{\n  \"name\": \"display(df\",\n  \"rows\": 5,\n  \"fields\": [\n    {\n      \"column\": \"id\",\n      \"properties\": {\n        \"dtype\": \"number\",\n        \"std\": 1544739453122322,\n        \"min\": 611857364396965889,\n        \"max\": 614877582664835073,\n        \"num_unique_values\": 5,\n        \"samples\": [\n          614484565059596288,\n          611932373039644672,\n          614746522043973632\n        ],\n        \"semantic_type\": \"\",\n        \"description\": \"\"\n      }\n    },\n    {\n      \"column\": \"text\",\n      \"properties\": {\n        \"dtype\": \"string\",\n        \"num_unique_values\": 5,\n        \"samples\": [\n          \"Dorian Gray with Rainbow Scarf #LoveWins (from @britishmuseum http://t.co/Q4XSwL0esu) http://t.co/h0evbTBWRq\",\n          \"@britishmuseum @TudorHistory What a beautiful jewel / portrait. Is the 'R' for Rex ?\",\n          \"@SelectShowcase @Tate_StIves ... Replace with your wish which the artist uses in next installation! It was entralling!\"\n        ],\n        \"semantic_type\": \"\",\n        \"description\": \"\"\n      }\n    },\n    {\n      \"column\": \"label\",\n      \"properties\": {\n        \"dtype\": \"category\",\n        \"num_unique_values\": 2,\n        \"samples\": [\n          \"happy\",\n          \"nocode\"\n        ],\n        \"semantic_type\": \"\",\n        \"description\": \"\"\n      }\n    }\n  ]\n}"
            }
          },
          "metadata": {}
        }
      ],
      "source": [
        "# Load dataset\n",
        "data_url = 'https://raw.githubusercontent.com/jeelfaldu7/transformer_sentiment_analysis/refs/heads/main/dataset.csv'\n",
        "df = pd.read_csv(data_url, header=None, names=['id', 'text', 'label'], sep=',')\n",
        "\n",
        "# Display first few rows of the dataset\n",
        "display(df.head())"
      ]
    },
    {
      "cell_type": "code",
      "execution_count": 101,
      "id": "fe8894b9",
      "metadata": {
        "colab": {
          "base_uri": "https://localhost:8080/"
        },
        "id": "fe8894b9",
        "outputId": "474cdd53-83dd-423c-bcf3-ec163ab14242"
      },
      "outputs": [
        {
          "output_type": "stream",
          "name": "stdout",
          "text": [
            "<class 'pandas.core.frame.DataFrame'>\n",
            "RangeIndex: 3085 entries, 0 to 3084\n",
            "Data columns (total 3 columns):\n",
            " #   Column  Non-Null Count  Dtype \n",
            "---  ------  --------------  ----- \n",
            " 0   id      3085 non-null   int64 \n",
            " 1   text    3085 non-null   object\n",
            " 2   label   3085 non-null   object\n",
            "dtypes: int64(1), object(2)\n",
            "memory usage: 72.4+ KB\n"
          ]
        }
      ],
      "source": [
        "# Display the summary of the dataset\n",
        "df.info()\n"
      ]
    },
    {
      "cell_type": "code",
      "source": [
        "df = df.drop('id', axis = 1)"
      ],
      "metadata": {
        "id": "zjiC9iKqdkhL"
      },
      "id": "zjiC9iKqdkhL",
      "execution_count": 102,
      "outputs": []
    },
    {
      "cell_type": "code",
      "execution_count": 103,
      "id": "469230f8",
      "metadata": {
        "colab": {
          "base_uri": "https://localhost:8080/"
        },
        "id": "469230f8",
        "outputId": "27fe8ad1-1e8b-46ff-b4da-007514f36a70"
      },
      "outputs": [
        {
          "output_type": "stream",
          "name": "stdout",
          "text": [
            "The DataFrame has 3085 rows and 2 columns\n"
          ]
        }
      ],
      "source": [
        "# Display the shape of all the DataFrame\n",
        "n_rows, n_cols = df.shape\n",
        "print(f\"The DataFrame has {n_rows} rows and {n_cols} columns\")"
      ]
    },
    {
      "cell_type": "code",
      "execution_count": 104,
      "id": "9dc410a8",
      "metadata": {
        "colab": {
          "base_uri": "https://localhost:8080/"
        },
        "id": "9dc410a8",
        "outputId": "c08144f8-f2d7-4b22-ff69-0a874f2f7e77"
      },
      "outputs": [
        {
          "output_type": "execute_result",
          "data": {
            "text/plain": [
              "(np.int64(37),\n",
              " array(['nocode', 'happy', 'not-relevant', 'angry', 'disgust|angry',\n",
              "        'disgust', 'happy|surprise', 'sad', 'surprise', 'happy|sad',\n",
              "        'sad|disgust', 'sad|angry', 'sad|disgust|angry'], dtype=object))"
            ]
          },
          "metadata": {},
          "execution_count": 104
        }
      ],
      "source": [
        "# Check for duplicates in the 'final' DataFrame\n",
        "df.duplicated().sum(),df['label'].unique()"
      ]
    },
    {
      "cell_type": "markdown",
      "source": [
        "### Train-Test Split"
      ],
      "metadata": {
        "id": "KiI4_oBjkBXT"
      },
      "id": "KiI4_oBjkBXT"
    },
    {
      "cell_type": "code",
      "source": [
        "train_df, test_df = train_test_split(df, test_size=0.2, random_state=42)\n",
        "\n",
        "X_train = train_df.drop('label', axis = 1)\n",
        "X_test = test_df.drop('label', axis = 1)\n",
        "\n",
        "mlb = MultiLabelBinarizer()\n",
        "y_train = mlb.fit_transform(train_df['label'].str.split('|'))\n",
        "y_test = mlb.transform(test_df['label'].str.split('|'))\n",
        "\n",
        "print(X_train.shape, y_train.shape)\n",
        "print(X_test.shape, y_test.shape)"
      ],
      "metadata": {
        "colab": {
          "base_uri": "https://localhost:8080/"
        },
        "id": "6x7H9JP4duSR",
        "outputId": "f851bd2b-6bc0-4322-d2b3-7840d8700bd3"
      },
      "id": "6x7H9JP4duSR",
      "execution_count": 105,
      "outputs": [
        {
          "output_type": "stream",
          "name": "stdout",
          "text": [
            "(2468, 1) (2468, 7)\n",
            "(617, 1) (617, 7)\n"
          ]
        }
      ]
    },
    {
      "cell_type": "code",
      "source": [
        "print(mlb.classes_)\n",
        "print(y_train[92])"
      ],
      "metadata": {
        "colab": {
          "base_uri": "https://localhost:8080/"
        },
        "id": "RDiFMYYOdUQy",
        "outputId": "ff358941-0a0c-440f-d0f7-0bbb1190370b"
      },
      "id": "RDiFMYYOdUQy",
      "execution_count": 106,
      "outputs": [
        {
          "output_type": "stream",
          "name": "stdout",
          "text": [
            "['angry' 'disgust' 'happy' 'nocode' 'not-relevant' 'sad' 'surprise']\n",
            "[0 0 1 0 0 0 0]\n"
          ]
        }
      ]
    },
    {
      "cell_type": "markdown",
      "source": [
        "### Data Pre-processing for roBERTa model\n",
        "\n",
        "* Tweets were processed using recommened method in model [documentation](https://huggingface.co/cardiffnlp/twitter-roberta-base-sentiment).\n",
        "     * Specifically usernames and hyperlinks were reduced to `@user` and `http` respectively\n",
        "* Tweets were tokenized and stored in X2_train and X2_test"
      ],
      "metadata": {
        "id": "mDAYxcyN_3fw"
      },
      "id": "mDAYxcyN_3fw"
    },
    {
      "cell_type": "code",
      "source": [
        "def preprocess(text):\n",
        "    new_text = []\n",
        "    for t in text.split(\" \"):\n",
        "        t = '@user' if t.startswith('@') and len(t) > 1 else t\n",
        "        t = 'http' if t.startswith('http') else t\n",
        "        new_text.append(t)\n",
        "    return \" \".join(new_text)"
      ],
      "metadata": {
        "id": "PwLdxBMDQjqx"
      },
      "id": "PwLdxBMDQjqx",
      "execution_count": 107,
      "outputs": []
    },
    {
      "cell_type": "code",
      "source": [
        "X2_train = X_train['text'].apply(preprocess)\n",
        "X2_test = X_test['text'].apply(preprocess)\n",
        "\n",
        "X2_train.head()"
      ],
      "metadata": {
        "colab": {
          "base_uri": "https://localhost:8080/",
          "height": 241
        },
        "id": "ceJ6HkFGW9rt",
        "outputId": "43485a29-4ba9-4c72-a962-950d0336e854"
      },
      "id": "ceJ6HkFGW9rt",
      "execution_count": 108,
      "outputs": [
        {
          "output_type": "execute_result",
          "data": {
            "text/plain": [
              "2634          I'm at @user in London, Greater London http\n",
              "2373    My favourite #oilpainting  'Tiger Tiger Burnin...\n",
              "839     Currently @user to discuss #DefeatingDepressio...\n",
              "2857                      @user thanks for the Favourite!\n",
              "761     Farron Gorey selfies before his performance at...\n",
              "Name: text, dtype: object"
            ],
            "text/html": [
              "<div>\n",
              "<style scoped>\n",
              "    .dataframe tbody tr th:only-of-type {\n",
              "        vertical-align: middle;\n",
              "    }\n",
              "\n",
              "    .dataframe tbody tr th {\n",
              "        vertical-align: top;\n",
              "    }\n",
              "\n",
              "    .dataframe thead th {\n",
              "        text-align: right;\n",
              "    }\n",
              "</style>\n",
              "<table border=\"1\" class=\"dataframe\">\n",
              "  <thead>\n",
              "    <tr style=\"text-align: right;\">\n",
              "      <th></th>\n",
              "      <th>text</th>\n",
              "    </tr>\n",
              "  </thead>\n",
              "  <tbody>\n",
              "    <tr>\n",
              "      <th>2634</th>\n",
              "      <td>I'm at @user in London, Greater London http</td>\n",
              "    </tr>\n",
              "    <tr>\n",
              "      <th>2373</th>\n",
              "      <td>My favourite #oilpainting  'Tiger Tiger Burnin...</td>\n",
              "    </tr>\n",
              "    <tr>\n",
              "      <th>839</th>\n",
              "      <td>Currently @user to discuss #DefeatingDepressio...</td>\n",
              "    </tr>\n",
              "    <tr>\n",
              "      <th>2857</th>\n",
              "      <td>@user thanks for the Favourite!</td>\n",
              "    </tr>\n",
              "    <tr>\n",
              "      <th>761</th>\n",
              "      <td>Farron Gorey selfies before his performance at...</td>\n",
              "    </tr>\n",
              "  </tbody>\n",
              "</table>\n",
              "</div><br><label><b>dtype:</b> object</label>"
            ]
          },
          "metadata": {},
          "execution_count": 108
        }
      ]
    },
    {
      "cell_type": "code",
      "source": [
        "roberta_tokenizer = AutoTokenizer.from_pretrained(\"cardiffnlp/twitter-roberta-base-sentiment\")"
      ],
      "metadata": {
        "id": "MGBFiSUi3GKP"
      },
      "id": "MGBFiSUi3GKP",
      "execution_count": 109,
      "outputs": []
    },
    {
      "cell_type": "code",
      "source": [
        "X2_train_tokens = roberta_tokenizer(X2_train.tolist(),\n",
        "                                    padding=True,\n",
        "                                    truncation=True,\n",
        "                                    max_length=128,\n",
        "                                    return_tensors=\"pt\")\n",
        "\n",
        "X2_test_tokens = roberta_tokenizer(X2_test.tolist(),\n",
        "                                    padding=True,\n",
        "                                    truncation=True,\n",
        "                                    max_length=128,\n",
        "                                    return_tensors=\"pt\")"
      ],
      "metadata": {
        "id": "z4A9GBzPsacD"
      },
      "id": "z4A9GBzPsacD",
      "execution_count": 110,
      "outputs": []
    },
    {
      "cell_type": "code",
      "source": [
        "base_sentiments = base_sentiments = mlb.classes_\n",
        "\n",
        "label2id = {label: idx for idx, label in enumerate(base_sentiments)}\n",
        "id2label = {idx: label for idx, label in enumerate(base_sentiments)}"
      ],
      "metadata": {
        "id": "W-ATaY0Gqycx"
      },
      "id": "W-ATaY0Gqycx",
      "execution_count": 111,
      "outputs": []
    },
    {
      "cell_type": "code",
      "source": [
        "model_2 = AutoModelForSequenceClassification.from_pretrained(\n",
        "    \"cardiffnlp/twitter-roberta-base-sentiment\",\n",
        "    num_labels=len(base_sentiments),\n",
        "    id2label=id2label,\n",
        "    label2id=label2id,\n",
        "    ignore_mismatched_sizes=True,\n",
        "    problem_type=\"multi_label_classification\"\n",
        ").to(device)\n"
      ],
      "metadata": {
        "colab": {
          "base_uri": "https://localhost:8080/"
        },
        "id": "zCnuqr-sZADD",
        "outputId": "9cfd368b-9732-475e-fb79-f8f0851ea3bf"
      },
      "id": "zCnuqr-sZADD",
      "execution_count": 112,
      "outputs": [
        {
          "output_type": "stream",
          "name": "stderr",
          "text": [
            "Some weights of RobertaForSequenceClassification were not initialized from the model checkpoint at cardiffnlp/twitter-roberta-base-sentiment and are newly initialized because the shapes did not match:\n",
            "- classifier.out_proj.weight: found shape torch.Size([3, 768]) in the checkpoint and torch.Size([7, 768]) in the model instantiated\n",
            "- classifier.out_proj.bias: found shape torch.Size([3]) in the checkpoint and torch.Size([7]) in the model instantiated\n",
            "You should probably TRAIN this model on a down-stream task to be able to use it for predictions and inference.\n"
          ]
        }
      ]
    },
    {
      "cell_type": "markdown",
      "source": [
        "#### Re-training the `roBERTa Model`"
      ],
      "metadata": {
        "id": "OFs26kvW2SSw"
      },
      "id": "OFs26kvW2SSw"
    },
    {
      "cell_type": "code",
      "source": [
        "train_dataset = Dataset.from_dict({\n",
        "    'input_ids': X2_train_tokens['input_ids'],\n",
        "    'attention_mask': X2_train_tokens['attention_mask'],\n",
        "    'labels': y_train.astype('float32').tolist()\n",
        "})\n",
        "\n",
        "test_dataset = Dataset.from_dict({\n",
        "    'input_ids': X2_test_tokens['input_ids'],\n",
        "    'attention_mask': X2_test_tokens['attention_mask'],\n",
        "    'labels': y_test.astype('float32').tolist()\n",
        "})"
      ],
      "metadata": {
        "id": "YMvBZKdkzua8"
      },
      "id": "YMvBZKdkzua8",
      "execution_count": 113,
      "outputs": []
    },
    {
      "cell_type": "code",
      "source": [
        "output.disable_custom_widget_manager()\n",
        "\n",
        "training_args = TrainingArguments(output_dir=\"./sentiment-model\",\n",
        "                                  num_train_epochs=4,\n",
        "                                  per_device_train_batch_size=16,\n",
        "                                  per_device_eval_batch_size=16,\n",
        "                                  learning_rate=5e-5,\n",
        "                                  weight_decay=0.1,\n",
        "                                  eval_strategy=\"epoch\",\n",
        "                                  save_strategy=\"epoch\",\n",
        "                                  load_best_model_at_end=True,\n",
        "                                  report_to=\"none\",\n",
        "                                  seed = 42)\n",
        "\n",
        "roberta_trainer = Trainer(model=model_2,\n",
        "                  args=training_args,\n",
        "                  train_dataset=train_dataset,\n",
        "                  eval_dataset=test_dataset,\n",
        "                  processing_class=roberta_tokenizer)\n",
        "\n",
        "roberta_trainer.train()\n",
        "\n",
        "model_2.save_pretrained(\"./my-sentiment-model\")\n",
        "roberta_tokenizer.save_pretrained(\"./my-sentiment-model\")\n",
        "\n"
      ],
      "metadata": {
        "colab": {
          "base_uri": "https://localhost:8080/",
          "height": 308
        },
        "id": "GSASiHdxzwhy",
        "outputId": "b971f231-69cc-494d-be65-d270db2165a8"
      },
      "id": "GSASiHdxzwhy",
      "execution_count": 114,
      "outputs": [
        {
          "output_type": "display_data",
          "data": {
            "text/plain": [
              "<IPython.core.display.HTML object>"
            ],
            "text/html": [
              "\n",
              "    <div>\n",
              "      \n",
              "      <progress value='620' max='620' style='width:300px; height:20px; vertical-align: middle;'></progress>\n",
              "      [620/620 01:07, Epoch 4/4]\n",
              "    </div>\n",
              "    <table border=\"1\" class=\"dataframe\">\n",
              "  <thead>\n",
              " <tr style=\"text-align: left;\">\n",
              "      <th>Epoch</th>\n",
              "      <th>Training Loss</th>\n",
              "      <th>Validation Loss</th>\n",
              "    </tr>\n",
              "  </thead>\n",
              "  <tbody>\n",
              "    <tr>\n",
              "      <td>1</td>\n",
              "      <td>No log</td>\n",
              "      <td>0.169057</td>\n",
              "    </tr>\n",
              "    <tr>\n",
              "      <td>2</td>\n",
              "      <td>No log</td>\n",
              "      <td>0.158259</td>\n",
              "    </tr>\n",
              "    <tr>\n",
              "      <td>3</td>\n",
              "      <td>No log</td>\n",
              "      <td>0.180886</td>\n",
              "    </tr>\n",
              "    <tr>\n",
              "      <td>4</td>\n",
              "      <td>0.125500</td>\n",
              "      <td>0.178156</td>\n",
              "    </tr>\n",
              "  </tbody>\n",
              "</table><p>"
            ]
          },
          "metadata": {}
        },
        {
          "output_type": "execute_result",
          "data": {
            "text/plain": [
              "('./my-sentiment-model/tokenizer_config.json',\n",
              " './my-sentiment-model/special_tokens_map.json',\n",
              " './my-sentiment-model/vocab.json',\n",
              " './my-sentiment-model/merges.txt',\n",
              " './my-sentiment-model/added_tokens.json',\n",
              " './my-sentiment-model/tokenizer.json')"
            ]
          },
          "metadata": {},
          "execution_count": 114
        }
      ]
    },
    {
      "cell_type": "code",
      "source": [
        "def predict_sentiments_debug(text, threshold=0.5):\n",
        "    inputs = roberta_tokenizer(text, return_tensors=\"pt\", truncation=True, max_length=128)\n",
        "    inputs = {k: v.to(device) for k, v in inputs.items()}\n",
        "\n",
        "    with torch.no_grad():\n",
        "        outputs = model_2(**inputs)\n",
        "\n",
        "    logits = outputs.logits\n",
        "    probs = torch.sigmoid(logits)[0].cpu().numpy()\n",
        "\n",
        "    print(\"All probabilities:\")\n",
        "    for idx, prob in enumerate(probs):\n",
        "        sentiment = id2label[idx]\n",
        "        print(f\"  {sentiment}: {prob:.4f}\")\n",
        "\n",
        "    predictions = {}\n",
        "    for idx, prob in enumerate(probs):\n",
        "        sentiment = id2label[idx]\n",
        "        if prob >= threshold:\n",
        "            predictions[sentiment] = float(prob)\n",
        "\n",
        "    return predictions\n",
        "\n",
        "result = predict_sentiments_debug(\"I'm so scared of the recent politcs from both parties\", threshold=0.3)\n",
        "print(f\"Sentiments: {result}\")"
      ],
      "metadata": {
        "colab": {
          "base_uri": "https://localhost:8080/"
        },
        "id": "FwFhJXwl2mYh",
        "outputId": "6abd91ad-da9e-47cc-f360-18d25a8f4706"
      },
      "id": "FwFhJXwl2mYh",
      "execution_count": 115,
      "outputs": [
        {
          "output_type": "stream",
          "name": "stdout",
          "text": [
            "All probabilities:\n",
            "  angry: 0.4080\n",
            "  disgust: 0.0515\n",
            "  happy: 0.0828\n",
            "  nocode: 0.0805\n",
            "  not-relevant: 0.1071\n",
            "  sad: 0.1999\n",
            "  surprise: 0.1126\n",
            "Sentiments: {'angry': 0.4079921841621399}\n"
          ]
        }
      ]
    },
    {
      "cell_type": "code",
      "source": [],
      "metadata": {
        "id": "BfrHGMqk8zpA"
      },
      "id": "BfrHGMqk8zpA",
      "execution_count": 115,
      "outputs": []
    }
  ],
  "metadata": {
    "kernelspec": {
      "display_name": "Python 3",
      "name": "python3"
    },
    "language_info": {
      "codemirror_mode": {
        "name": "ipython",
        "version": 3
      },
      "file_extension": ".py",
      "mimetype": "text/x-python",
      "name": "python",
      "nbconvert_exporter": "python",
      "pygments_lexer": "ipython3",
      "version": "3.12.4"
    },
    "colab": {
      "provenance": [],
      "gpuType": "A100"
    },
    "accelerator": "GPU"
  },
  "nbformat": 4,
  "nbformat_minor": 5
}