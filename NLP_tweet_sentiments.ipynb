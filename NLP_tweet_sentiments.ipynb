{
  "cells": [
    {
      "cell_type": "markdown",
      "metadata": {
        "id": "K3DXy4KkvE9k"
      },
      "source": [
        "<Font size = 5> <strong>October Jode Jam"
      ]
    },
    {
      "cell_type": "markdown",
      "metadata": {
        "id": "EEFpOQQyvLGH"
      },
      "source": [
        "Prepared by Jeel Faldu, Jimmy Koester, and Raphael Lu"
      ]
    },
    {
      "cell_type": "code",
      "execution_count": 59,
      "metadata": {
        "id": "Gi7zRg4Y6lZ0"
      },
      "outputs": [],
      "source": [
        "import pandas as pd\n",
        "import numpy as np\n",
        "import seaborn as sns\n",
        "import matplotlib.pyplot as plt\n",
        "import torch\n",
        "from tqdm import tqdm\n",
        "from sklearn.metrics import accuracy_score\n",
        "from sklearn.preprocessing import MultiLabelBinarizer\n",
        "from sklearn.model_selection import train_test_split\n",
        "from sklearn.preprocessing import LabelEncoder\n",
        "\n",
        "#HuggingFace tools\n",
        "from transformers import DistilBertTokenizer, DistilBertForSequenceClassification\n",
        "from transformers import AutoTokenizer, AutoModelForSequenceClassification, Trainer, TrainingArguments\n",
        "from datasets import Dataset\n",
        "\n",
        "from google.colab import output\n",
        "\n",
        "import urllib.request\n",
        "disable_colab_widgets = output.disable_custom_widget_manager()"
      ]
    },
    {
      "cell_type": "markdown",
      "metadata": {
        "id": "wlrku-EavEi7"
      },
      "source": [
        "## Introduction\n",
        "\n",
        "This project explores sentiment analysis using `distilbert-base-uncased-finetuned-sst-2-english` and `twitter-roberta-base-sentiment` from the Hugging Face Transformers library. The goal is to automatically classify text as positive, negative, or neutral using pretrained transformer models.\n",
        "\n",
        "We analyzed sentiment in social media posts, compared multiple models, and visualized their performance and confidence levels. We also applied the models to a creative dataset, showcasing how NLP can reveal insights from real-world text such as tweets, song lyrics, or news articles."
      ]
    },
    {
      "cell_type": "markdown",
      "metadata": {
        "id": "vN87cH0RvhI-"
      },
      "source": [
        "## Device Loading"
      ]
    },
    {
      "cell_type": "code",
      "execution_count": 104,
      "metadata": {
        "colab": {
          "base_uri": "https://localhost:8080/"
        },
        "id": "5bRmuQyqAFDa",
        "outputId": "dcbcd10c-7a9e-46f5-c166-9b22a76fc11d"
      },
      "outputs": [
        {
          "output_type": "stream",
          "name": "stdout",
          "text": [
            "Device Loaded: cuda\n"
          ]
        }
      ],
      "source": [
        "disable_colab_widgets\n",
        "\n",
        "device = 'cuda' if torch.cuda.is_available() else 'cpu'\n",
        "print(f\"Device Loaded: {device}\")"
      ]
    },
    {
      "cell_type": "code",
      "execution_count": 61,
      "metadata": {
        "id": "zjkpm6F75qS0"
      },
      "outputs": [],
      "source": [
        "# model_1 = DistilBertForSequenceClassification.from_pretrained(\"distilbert-base-uncased-finetuned-sst-2-english\")\n",
        "distil_tokenizer = DistilBertTokenizer.from_pretrained(\"distilbert-base-uncased-finetuned-sst-2-english\")\n",
        "\n",
        "# model_2 = AutoModelForSequenceClassification.from_pretrained(\"cardiffnlp/twitter-roberta-base-sentiment\")\n",
        "roberta_tokenizer = AutoTokenizer.from_pretrained(\"cardiffnlp/twitter-roberta-base-sentiment\")"
      ]
    },
    {
      "cell_type": "markdown",
      "metadata": {
        "id": "8WsF1UuY5qS0"
      },
      "source": [
        "We intialized the DistilBERT tokenizer which prepares raw text for the model by converting it into tokens consistent with how the pretrained model was trained."
      ]
    },
    {
      "cell_type": "code",
      "execution_count": 62,
      "metadata": {
        "id": "RG0XVw4JSEXl"
      },
      "outputs": [],
      "source": [
        "# Set random seeds for reproducibility\n",
        "torch.manual_seed(42)\n",
        "np.random.seed(42)\n",
        "torch.cuda.manual_seed_all(42)\n",
        "torch.backends.cudnn.deterministic = True\n",
        "torch.backends.cudnn.benchmark = False"
      ]
    },
    {
      "cell_type": "markdown",
      "metadata": {
        "id": "olmbpkP_5qS0"
      },
      "source": [
        "Next, we set random seeds to ensure reproducibility, meaning that everytime the code runs, it produces the same results. This helps maintain consistency across experiments and makes debugging or comparision between models more reliable."
      ]
    },
    {
      "cell_type": "markdown",
      "metadata": {
        "id": "7_TPcNPFvrhn"
      },
      "source": [
        "## Data Preprocessing\n",
        "\n",
        "In data exploration, no duplicate entries were found. In the orignal data set, Tweets were encoded as\n",
        "\n",
        "<pre>\n",
        "    'nocode', 'happy', 'not-relevant', 'angry', 'disgust|angry'\n",
        "\n",
        "    'disgust', 'happy|surprise', 'sad', 'surprise', 'happy|sad'\n",
        "\n",
        "    'sad|disgust', 'sad|angry', 'sad|disgust|angry'\n",
        "</pre>"
      ]
    },
    {
      "cell_type": "markdown",
      "metadata": {
        "id": "hLNM1rn1wjiv"
      },
      "source": [
        "### Summary of Data Preprocessing:\n",
        "  - Fields were renamed `id`, `text`, and `label`\n",
        "  - `id` field was ultimately dropped\n",
        "  - Target labels were re-coded into arrays using OHE:\n",
        "    - e.g. with sentiments\n",
        "\n",
        "      `['angry' 'disgust' 'happy' 'nocode' 'not-relevant' 'sad' 'surprise']`, a tensor of `[1 0 0 0 0 1 0]` indicates an `angry|sad` tweet\n",
        "  - Data were split using a 80:20 (train:test) ratio and stored in `X_train, X_test, y_train, y_test`\n"
      ]
    },
    {
      "cell_type": "code",
      "execution_count": 63,
      "metadata": {
        "colab": {
          "base_uri": "https://localhost:8080/",
          "height": 829
        },
        "id": "FGbtJk3_APC6",
        "outputId": "48a7b130-dcb6-413a-ae0a-850d8660d55f"
      },
      "outputs": [
        {
          "output_type": "display_data",
          "data": {
            "text/plain": [
              "                   id                                               text  \\\n",
              "0  611857364396965889  @aandraous @britishmuseum @AndrewsAntonio Merc...   \n",
              "1  614484565059596288  Dorian Gray with Rainbow Scarf #LoveWins (from...   \n",
              "2  614746522043973632  @SelectShowcase @Tate_StIves ... Replace with ...   \n",
              "3  614877582664835073  @Sofabsports thank you for following me back. ...   \n",
              "4  611932373039644672  @britishmuseum @TudorHistory What a beautiful ...   \n",
              "\n",
              "    label  \n",
              "0  nocode  \n",
              "1   happy  \n",
              "2   happy  \n",
              "3   happy  \n",
              "4   happy  "
            ],
            "text/html": [
              "\n",
              "  <div id=\"df-bcd87323-3ed6-4dfc-bc14-02482aa2537f\" class=\"colab-df-container\">\n",
              "    <div>\n",
              "<style scoped>\n",
              "    .dataframe tbody tr th:only-of-type {\n",
              "        vertical-align: middle;\n",
              "    }\n",
              "\n",
              "    .dataframe tbody tr th {\n",
              "        vertical-align: top;\n",
              "    }\n",
              "\n",
              "    .dataframe thead th {\n",
              "        text-align: right;\n",
              "    }\n",
              "</style>\n",
              "<table border=\"1\" class=\"dataframe\">\n",
              "  <thead>\n",
              "    <tr style=\"text-align: right;\">\n",
              "      <th></th>\n",
              "      <th>id</th>\n",
              "      <th>text</th>\n",
              "      <th>label</th>\n",
              "    </tr>\n",
              "  </thead>\n",
              "  <tbody>\n",
              "    <tr>\n",
              "      <th>0</th>\n",
              "      <td>611857364396965889</td>\n",
              "      <td>@aandraous @britishmuseum @AndrewsAntonio Merc...</td>\n",
              "      <td>nocode</td>\n",
              "    </tr>\n",
              "    <tr>\n",
              "      <th>1</th>\n",
              "      <td>614484565059596288</td>\n",
              "      <td>Dorian Gray with Rainbow Scarf #LoveWins (from...</td>\n",
              "      <td>happy</td>\n",
              "    </tr>\n",
              "    <tr>\n",
              "      <th>2</th>\n",
              "      <td>614746522043973632</td>\n",
              "      <td>@SelectShowcase @Tate_StIves ... Replace with ...</td>\n",
              "      <td>happy</td>\n",
              "    </tr>\n",
              "    <tr>\n",
              "      <th>3</th>\n",
              "      <td>614877582664835073</td>\n",
              "      <td>@Sofabsports thank you for following me back. ...</td>\n",
              "      <td>happy</td>\n",
              "    </tr>\n",
              "    <tr>\n",
              "      <th>4</th>\n",
              "      <td>611932373039644672</td>\n",
              "      <td>@britishmuseum @TudorHistory What a beautiful ...</td>\n",
              "      <td>happy</td>\n",
              "    </tr>\n",
              "  </tbody>\n",
              "</table>\n",
              "</div>\n",
              "    <div class=\"colab-df-buttons\">\n",
              "\n",
              "  <div class=\"colab-df-container\">\n",
              "    <button class=\"colab-df-convert\" onclick=\"convertToInteractive('df-bcd87323-3ed6-4dfc-bc14-02482aa2537f')\"\n",
              "            title=\"Convert this dataframe to an interactive table.\"\n",
              "            style=\"display:none;\">\n",
              "\n",
              "  <svg xmlns=\"http://www.w3.org/2000/svg\" height=\"24px\" viewBox=\"0 -960 960 960\">\n",
              "    <path d=\"M120-120v-720h720v720H120Zm60-500h600v-160H180v160Zm220 220h160v-160H400v160Zm0 220h160v-160H400v160ZM180-400h160v-160H180v160Zm440 0h160v-160H620v160ZM180-180h160v-160H180v160Zm440 0h160v-160H620v160Z\"/>\n",
              "  </svg>\n",
              "    </button>\n",
              "\n",
              "  <style>\n",
              "    .colab-df-container {\n",
              "      display:flex;\n",
              "      gap: 12px;\n",
              "    }\n",
              "\n",
              "    .colab-df-convert {\n",
              "      background-color: #E8F0FE;\n",
              "      border: none;\n",
              "      border-radius: 50%;\n",
              "      cursor: pointer;\n",
              "      display: none;\n",
              "      fill: #1967D2;\n",
              "      height: 32px;\n",
              "      padding: 0 0 0 0;\n",
              "      width: 32px;\n",
              "    }\n",
              "\n",
              "    .colab-df-convert:hover {\n",
              "      background-color: #E2EBFA;\n",
              "      box-shadow: 0px 1px 2px rgba(60, 64, 67, 0.3), 0px 1px 3px 1px rgba(60, 64, 67, 0.15);\n",
              "      fill: #174EA6;\n",
              "    }\n",
              "\n",
              "    .colab-df-buttons div {\n",
              "      margin-bottom: 4px;\n",
              "    }\n",
              "\n",
              "    [theme=dark] .colab-df-convert {\n",
              "      background-color: #3B4455;\n",
              "      fill: #D2E3FC;\n",
              "    }\n",
              "\n",
              "    [theme=dark] .colab-df-convert:hover {\n",
              "      background-color: #434B5C;\n",
              "      box-shadow: 0px 1px 3px 1px rgba(0, 0, 0, 0.15);\n",
              "      filter: drop-shadow(0px 1px 2px rgba(0, 0, 0, 0.3));\n",
              "      fill: #FFFFFF;\n",
              "    }\n",
              "  </style>\n",
              "\n",
              "    <script>\n",
              "      const buttonEl =\n",
              "        document.querySelector('#df-bcd87323-3ed6-4dfc-bc14-02482aa2537f button.colab-df-convert');\n",
              "      buttonEl.style.display =\n",
              "        google.colab.kernel.accessAllowed ? 'block' : 'none';\n",
              "\n",
              "      async function convertToInteractive(key) {\n",
              "        const element = document.querySelector('#df-bcd87323-3ed6-4dfc-bc14-02482aa2537f');\n",
              "        const dataTable =\n",
              "          await google.colab.kernel.invokeFunction('convertToInteractive',\n",
              "                                                    [key], {});\n",
              "        if (!dataTable) return;\n",
              "\n",
              "        const docLinkHtml = 'Like what you see? Visit the ' +\n",
              "          '<a target=\"_blank\" href=https://colab.research.google.com/notebooks/data_table.ipynb>data table notebook</a>'\n",
              "          + ' to learn more about interactive tables.';\n",
              "        element.innerHTML = '';\n",
              "        dataTable['output_type'] = 'display_data';\n",
              "        await google.colab.output.renderOutput(dataTable, element);\n",
              "        const docLink = document.createElement('div');\n",
              "        docLink.innerHTML = docLinkHtml;\n",
              "        element.appendChild(docLink);\n",
              "      }\n",
              "    </script>\n",
              "  </div>\n",
              "\n",
              "\n",
              "    <div id=\"df-67653212-a647-4040-a123-f77972f8f4fc\">\n",
              "      <button class=\"colab-df-quickchart\" onclick=\"quickchart('df-67653212-a647-4040-a123-f77972f8f4fc')\"\n",
              "                title=\"Suggest charts\"\n",
              "                style=\"display:none;\">\n",
              "\n",
              "<svg xmlns=\"http://www.w3.org/2000/svg\" height=\"24px\"viewBox=\"0 0 24 24\"\n",
              "     width=\"24px\">\n",
              "    <g>\n",
              "        <path d=\"M19 3H5c-1.1 0-2 .9-2 2v14c0 1.1.9 2 2 2h14c1.1 0 2-.9 2-2V5c0-1.1-.9-2-2-2zM9 17H7v-7h2v7zm4 0h-2V7h2v10zm4 0h-2v-4h2v4z\"/>\n",
              "    </g>\n",
              "</svg>\n",
              "      </button>\n",
              "\n",
              "<style>\n",
              "  .colab-df-quickchart {\n",
              "      --bg-color: #E8F0FE;\n",
              "      --fill-color: #1967D2;\n",
              "      --hover-bg-color: #E2EBFA;\n",
              "      --hover-fill-color: #174EA6;\n",
              "      --disabled-fill-color: #AAA;\n",
              "      --disabled-bg-color: #DDD;\n",
              "  }\n",
              "\n",
              "  [theme=dark] .colab-df-quickchart {\n",
              "      --bg-color: #3B4455;\n",
              "      --fill-color: #D2E3FC;\n",
              "      --hover-bg-color: #434B5C;\n",
              "      --hover-fill-color: #FFFFFF;\n",
              "      --disabled-bg-color: #3B4455;\n",
              "      --disabled-fill-color: #666;\n",
              "  }\n",
              "\n",
              "  .colab-df-quickchart {\n",
              "    background-color: var(--bg-color);\n",
              "    border: none;\n",
              "    border-radius: 50%;\n",
              "    cursor: pointer;\n",
              "    display: none;\n",
              "    fill: var(--fill-color);\n",
              "    height: 32px;\n",
              "    padding: 0;\n",
              "    width: 32px;\n",
              "  }\n",
              "\n",
              "  .colab-df-quickchart:hover {\n",
              "    background-color: var(--hover-bg-color);\n",
              "    box-shadow: 0 1px 2px rgba(60, 64, 67, 0.3), 0 1px 3px 1px rgba(60, 64, 67, 0.15);\n",
              "    fill: var(--button-hover-fill-color);\n",
              "  }\n",
              "\n",
              "  .colab-df-quickchart-complete:disabled,\n",
              "  .colab-df-quickchart-complete:disabled:hover {\n",
              "    background-color: var(--disabled-bg-color);\n",
              "    fill: var(--disabled-fill-color);\n",
              "    box-shadow: none;\n",
              "  }\n",
              "\n",
              "  .colab-df-spinner {\n",
              "    border: 2px solid var(--fill-color);\n",
              "    border-color: transparent;\n",
              "    border-bottom-color: var(--fill-color);\n",
              "    animation:\n",
              "      spin 1s steps(1) infinite;\n",
              "  }\n",
              "\n",
              "  @keyframes spin {\n",
              "    0% {\n",
              "      border-color: transparent;\n",
              "      border-bottom-color: var(--fill-color);\n",
              "      border-left-color: var(--fill-color);\n",
              "    }\n",
              "    20% {\n",
              "      border-color: transparent;\n",
              "      border-left-color: var(--fill-color);\n",
              "      border-top-color: var(--fill-color);\n",
              "    }\n",
              "    30% {\n",
              "      border-color: transparent;\n",
              "      border-left-color: var(--fill-color);\n",
              "      border-top-color: var(--fill-color);\n",
              "      border-right-color: var(--fill-color);\n",
              "    }\n",
              "    40% {\n",
              "      border-color: transparent;\n",
              "      border-right-color: var(--fill-color);\n",
              "      border-top-color: var(--fill-color);\n",
              "    }\n",
              "    60% {\n",
              "      border-color: transparent;\n",
              "      border-right-color: var(--fill-color);\n",
              "    }\n",
              "    80% {\n",
              "      border-color: transparent;\n",
              "      border-right-color: var(--fill-color);\n",
              "      border-bottom-color: var(--fill-color);\n",
              "    }\n",
              "    90% {\n",
              "      border-color: transparent;\n",
              "      border-bottom-color: var(--fill-color);\n",
              "    }\n",
              "  }\n",
              "</style>\n",
              "\n",
              "      <script>\n",
              "        async function quickchart(key) {\n",
              "          const quickchartButtonEl =\n",
              "            document.querySelector('#' + key + ' button');\n",
              "          quickchartButtonEl.disabled = true;  // To prevent multiple clicks.\n",
              "          quickchartButtonEl.classList.add('colab-df-spinner');\n",
              "          try {\n",
              "            const charts = await google.colab.kernel.invokeFunction(\n",
              "                'suggestCharts', [key], {});\n",
              "          } catch (error) {\n",
              "            console.error('Error during call to suggestCharts:', error);\n",
              "          }\n",
              "          quickchartButtonEl.classList.remove('colab-df-spinner');\n",
              "          quickchartButtonEl.classList.add('colab-df-quickchart-complete');\n",
              "        }\n",
              "        (() => {\n",
              "          let quickchartButtonEl =\n",
              "            document.querySelector('#df-67653212-a647-4040-a123-f77972f8f4fc button');\n",
              "          quickchartButtonEl.style.display =\n",
              "            google.colab.kernel.accessAllowed ? 'block' : 'none';\n",
              "        })();\n",
              "      </script>\n",
              "    </div>\n",
              "\n",
              "    </div>\n",
              "  </div>\n"
            ],
            "application/vnd.google.colaboratory.intrinsic+json": {
              "type": "dataframe",
              "summary": "{\n  \"name\": \"display(df_val\",\n  \"rows\": 5,\n  \"fields\": [\n    {\n      \"column\": \"id\",\n      \"properties\": {\n        \"dtype\": \"number\",\n        \"std\": 1544739453122322,\n        \"min\": 611857364396965889,\n        \"max\": 614877582664835073,\n        \"num_unique_values\": 5,\n        \"samples\": [\n          614484565059596288,\n          611932373039644672,\n          614746522043973632\n        ],\n        \"semantic_type\": \"\",\n        \"description\": \"\"\n      }\n    },\n    {\n      \"column\": \"text\",\n      \"properties\": {\n        \"dtype\": \"string\",\n        \"num_unique_values\": 5,\n        \"samples\": [\n          \"Dorian Gray with Rainbow Scarf #LoveWins (from @britishmuseum http://t.co/Q4XSwL0esu) http://t.co/h0evbTBWRq\",\n          \"@britishmuseum @TudorHistory What a beautiful jewel / portrait. Is the 'R' for Rex ?\",\n          \"@SelectShowcase @Tate_StIves ... Replace with your wish which the artist uses in next installation! It was entralling!\"\n        ],\n        \"semantic_type\": \"\",\n        \"description\": \"\"\n      }\n    },\n    {\n      \"column\": \"label\",\n      \"properties\": {\n        \"dtype\": \"category\",\n        \"num_unique_values\": 2,\n        \"samples\": [\n          \"happy\",\n          \"nocode\"\n        ],\n        \"semantic_type\": \"\",\n        \"description\": \"\"\n      }\n    }\n  ]\n}"
            }
          },
          "metadata": {}
        },
        {
          "output_type": "stream",
          "name": "stdout",
          "text": [
            "\n"
          ]
        },
        {
          "output_type": "display_data",
          "data": {
            "text/plain": [
              "                                                text  label\n",
              "0                                               text  label\n",
              "1                            i didnt feel humiliated      0\n",
              "2  i can go from feeling so hopeless to so damned...      0\n",
              "3   im grabbing a minute to post i feel greedy wrong      3\n",
              "4  i am ever feeling nostalgic about the fireplac...      2"
            ],
            "text/html": [
              "\n",
              "  <div id=\"df-73fd8a3e-5f52-4905-b3b1-edd1e3c55969\" class=\"colab-df-container\">\n",
              "    <div>\n",
              "<style scoped>\n",
              "    .dataframe tbody tr th:only-of-type {\n",
              "        vertical-align: middle;\n",
              "    }\n",
              "\n",
              "    .dataframe tbody tr th {\n",
              "        vertical-align: top;\n",
              "    }\n",
              "\n",
              "    .dataframe thead th {\n",
              "        text-align: right;\n",
              "    }\n",
              "</style>\n",
              "<table border=\"1\" class=\"dataframe\">\n",
              "  <thead>\n",
              "    <tr style=\"text-align: right;\">\n",
              "      <th></th>\n",
              "      <th>text</th>\n",
              "      <th>label</th>\n",
              "    </tr>\n",
              "  </thead>\n",
              "  <tbody>\n",
              "    <tr>\n",
              "      <th>0</th>\n",
              "      <td>text</td>\n",
              "      <td>label</td>\n",
              "    </tr>\n",
              "    <tr>\n",
              "      <th>1</th>\n",
              "      <td>i didnt feel humiliated</td>\n",
              "      <td>0</td>\n",
              "    </tr>\n",
              "    <tr>\n",
              "      <th>2</th>\n",
              "      <td>i can go from feeling so hopeless to so damned...</td>\n",
              "      <td>0</td>\n",
              "    </tr>\n",
              "    <tr>\n",
              "      <th>3</th>\n",
              "      <td>im grabbing a minute to post i feel greedy wrong</td>\n",
              "      <td>3</td>\n",
              "    </tr>\n",
              "    <tr>\n",
              "      <th>4</th>\n",
              "      <td>i am ever feeling nostalgic about the fireplac...</td>\n",
              "      <td>2</td>\n",
              "    </tr>\n",
              "  </tbody>\n",
              "</table>\n",
              "</div>\n",
              "    <div class=\"colab-df-buttons\">\n",
              "\n",
              "  <div class=\"colab-df-container\">\n",
              "    <button class=\"colab-df-convert\" onclick=\"convertToInteractive('df-73fd8a3e-5f52-4905-b3b1-edd1e3c55969')\"\n",
              "            title=\"Convert this dataframe to an interactive table.\"\n",
              "            style=\"display:none;\">\n",
              "\n",
              "  <svg xmlns=\"http://www.w3.org/2000/svg\" height=\"24px\" viewBox=\"0 -960 960 960\">\n",
              "    <path d=\"M120-120v-720h720v720H120Zm60-500h600v-160H180v160Zm220 220h160v-160H400v160Zm0 220h160v-160H400v160ZM180-400h160v-160H180v160Zm440 0h160v-160H620v160ZM180-180h160v-160H180v160Zm440 0h160v-160H620v160Z\"/>\n",
              "  </svg>\n",
              "    </button>\n",
              "\n",
              "  <style>\n",
              "    .colab-df-container {\n",
              "      display:flex;\n",
              "      gap: 12px;\n",
              "    }\n",
              "\n",
              "    .colab-df-convert {\n",
              "      background-color: #E8F0FE;\n",
              "      border: none;\n",
              "      border-radius: 50%;\n",
              "      cursor: pointer;\n",
              "      display: none;\n",
              "      fill: #1967D2;\n",
              "      height: 32px;\n",
              "      padding: 0 0 0 0;\n",
              "      width: 32px;\n",
              "    }\n",
              "\n",
              "    .colab-df-convert:hover {\n",
              "      background-color: #E2EBFA;\n",
              "      box-shadow: 0px 1px 2px rgba(60, 64, 67, 0.3), 0px 1px 3px 1px rgba(60, 64, 67, 0.15);\n",
              "      fill: #174EA6;\n",
              "    }\n",
              "\n",
              "    .colab-df-buttons div {\n",
              "      margin-bottom: 4px;\n",
              "    }\n",
              "\n",
              "    [theme=dark] .colab-df-convert {\n",
              "      background-color: #3B4455;\n",
              "      fill: #D2E3FC;\n",
              "    }\n",
              "\n",
              "    [theme=dark] .colab-df-convert:hover {\n",
              "      background-color: #434B5C;\n",
              "      box-shadow: 0px 1px 3px 1px rgba(0, 0, 0, 0.15);\n",
              "      filter: drop-shadow(0px 1px 2px rgba(0, 0, 0, 0.3));\n",
              "      fill: #FFFFFF;\n",
              "    }\n",
              "  </style>\n",
              "\n",
              "    <script>\n",
              "      const buttonEl =\n",
              "        document.querySelector('#df-73fd8a3e-5f52-4905-b3b1-edd1e3c55969 button.colab-df-convert');\n",
              "      buttonEl.style.display =\n",
              "        google.colab.kernel.accessAllowed ? 'block' : 'none';\n",
              "\n",
              "      async function convertToInteractive(key) {\n",
              "        const element = document.querySelector('#df-73fd8a3e-5f52-4905-b3b1-edd1e3c55969');\n",
              "        const dataTable =\n",
              "          await google.colab.kernel.invokeFunction('convertToInteractive',\n",
              "                                                    [key], {});\n",
              "        if (!dataTable) return;\n",
              "\n",
              "        const docLinkHtml = 'Like what you see? Visit the ' +\n",
              "          '<a target=\"_blank\" href=https://colab.research.google.com/notebooks/data_table.ipynb>data table notebook</a>'\n",
              "          + ' to learn more about interactive tables.';\n",
              "        element.innerHTML = '';\n",
              "        dataTable['output_type'] = 'display_data';\n",
              "        await google.colab.output.renderOutput(dataTable, element);\n",
              "        const docLink = document.createElement('div');\n",
              "        docLink.innerHTML = docLinkHtml;\n",
              "        element.appendChild(docLink);\n",
              "      }\n",
              "    </script>\n",
              "  </div>\n",
              "\n",
              "\n",
              "    <div id=\"df-f746b155-d14d-429f-ae2c-de617df08eb4\">\n",
              "      <button class=\"colab-df-quickchart\" onclick=\"quickchart('df-f746b155-d14d-429f-ae2c-de617df08eb4')\"\n",
              "                title=\"Suggest charts\"\n",
              "                style=\"display:none;\">\n",
              "\n",
              "<svg xmlns=\"http://www.w3.org/2000/svg\" height=\"24px\"viewBox=\"0 0 24 24\"\n",
              "     width=\"24px\">\n",
              "    <g>\n",
              "        <path d=\"M19 3H5c-1.1 0-2 .9-2 2v14c0 1.1.9 2 2 2h14c1.1 0 2-.9 2-2V5c0-1.1-.9-2-2-2zM9 17H7v-7h2v7zm4 0h-2V7h2v10zm4 0h-2v-4h2v4z\"/>\n",
              "    </g>\n",
              "</svg>\n",
              "      </button>\n",
              "\n",
              "<style>\n",
              "  .colab-df-quickchart {\n",
              "      --bg-color: #E8F0FE;\n",
              "      --fill-color: #1967D2;\n",
              "      --hover-bg-color: #E2EBFA;\n",
              "      --hover-fill-color: #174EA6;\n",
              "      --disabled-fill-color: #AAA;\n",
              "      --disabled-bg-color: #DDD;\n",
              "  }\n",
              "\n",
              "  [theme=dark] .colab-df-quickchart {\n",
              "      --bg-color: #3B4455;\n",
              "      --fill-color: #D2E3FC;\n",
              "      --hover-bg-color: #434B5C;\n",
              "      --hover-fill-color: #FFFFFF;\n",
              "      --disabled-bg-color: #3B4455;\n",
              "      --disabled-fill-color: #666;\n",
              "  }\n",
              "\n",
              "  .colab-df-quickchart {\n",
              "    background-color: var(--bg-color);\n",
              "    border: none;\n",
              "    border-radius: 50%;\n",
              "    cursor: pointer;\n",
              "    display: none;\n",
              "    fill: var(--fill-color);\n",
              "    height: 32px;\n",
              "    padding: 0;\n",
              "    width: 32px;\n",
              "  }\n",
              "\n",
              "  .colab-df-quickchart:hover {\n",
              "    background-color: var(--hover-bg-color);\n",
              "    box-shadow: 0 1px 2px rgba(60, 64, 67, 0.3), 0 1px 3px 1px rgba(60, 64, 67, 0.15);\n",
              "    fill: var(--button-hover-fill-color);\n",
              "  }\n",
              "\n",
              "  .colab-df-quickchart-complete:disabled,\n",
              "  .colab-df-quickchart-complete:disabled:hover {\n",
              "    background-color: var(--disabled-bg-color);\n",
              "    fill: var(--disabled-fill-color);\n",
              "    box-shadow: none;\n",
              "  }\n",
              "\n",
              "  .colab-df-spinner {\n",
              "    border: 2px solid var(--fill-color);\n",
              "    border-color: transparent;\n",
              "    border-bottom-color: var(--fill-color);\n",
              "    animation:\n",
              "      spin 1s steps(1) infinite;\n",
              "  }\n",
              "\n",
              "  @keyframes spin {\n",
              "    0% {\n",
              "      border-color: transparent;\n",
              "      border-bottom-color: var(--fill-color);\n",
              "      border-left-color: var(--fill-color);\n",
              "    }\n",
              "    20% {\n",
              "      border-color: transparent;\n",
              "      border-left-color: var(--fill-color);\n",
              "      border-top-color: var(--fill-color);\n",
              "    }\n",
              "    30% {\n",
              "      border-color: transparent;\n",
              "      border-left-color: var(--fill-color);\n",
              "      border-top-color: var(--fill-color);\n",
              "      border-right-color: var(--fill-color);\n",
              "    }\n",
              "    40% {\n",
              "      border-color: transparent;\n",
              "      border-right-color: var(--fill-color);\n",
              "      border-top-color: var(--fill-color);\n",
              "    }\n",
              "    60% {\n",
              "      border-color: transparent;\n",
              "      border-right-color: var(--fill-color);\n",
              "    }\n",
              "    80% {\n",
              "      border-color: transparent;\n",
              "      border-right-color: var(--fill-color);\n",
              "      border-bottom-color: var(--fill-color);\n",
              "    }\n",
              "    90% {\n",
              "      border-color: transparent;\n",
              "      border-bottom-color: var(--fill-color);\n",
              "    }\n",
              "  }\n",
              "</style>\n",
              "\n",
              "      <script>\n",
              "        async function quickchart(key) {\n",
              "          const quickchartButtonEl =\n",
              "            document.querySelector('#' + key + ' button');\n",
              "          quickchartButtonEl.disabled = true;  // To prevent multiple clicks.\n",
              "          quickchartButtonEl.classList.add('colab-df-spinner');\n",
              "          try {\n",
              "            const charts = await google.colab.kernel.invokeFunction(\n",
              "                'suggestCharts', [key], {});\n",
              "          } catch (error) {\n",
              "            console.error('Error during call to suggestCharts:', error);\n",
              "          }\n",
              "          quickchartButtonEl.classList.remove('colab-df-spinner');\n",
              "          quickchartButtonEl.classList.add('colab-df-quickchart-complete');\n",
              "        }\n",
              "        (() => {\n",
              "          let quickchartButtonEl =\n",
              "            document.querySelector('#df-f746b155-d14d-429f-ae2c-de617df08eb4 button');\n",
              "          quickchartButtonEl.style.display =\n",
              "            google.colab.kernel.accessAllowed ? 'block' : 'none';\n",
              "        })();\n",
              "      </script>\n",
              "    </div>\n",
              "\n",
              "    </div>\n",
              "  </div>\n"
            ],
            "application/vnd.google.colaboratory.intrinsic+json": {
              "type": "dataframe",
              "summary": "{\n  \"name\": \"display(df_val\",\n  \"rows\": 5,\n  \"fields\": [\n    {\n      \"column\": \"text\",\n      \"properties\": {\n        \"dtype\": \"string\",\n        \"num_unique_values\": 5,\n        \"samples\": [\n          \"i didnt feel humiliated\",\n          \"i am ever feeling nostalgic about the fireplace i will know that it is still on the property\",\n          \"i can go from feeling so hopeless to so damned hopeful just from being around someone who cares and is awake\"\n        ],\n        \"semantic_type\": \"\",\n        \"description\": \"\"\n      }\n    },\n    {\n      \"column\": \"label\",\n      \"properties\": {\n        \"dtype\": \"string\",\n        \"num_unique_values\": 4,\n        \"samples\": [\n          \"0\",\n          \"2\",\n          \"label\"\n        ],\n        \"semantic_type\": \"\",\n        \"description\": \"\"\n      }\n    }\n  ]\n}"
            }
          },
          "metadata": {}
        },
        {
          "output_type": "stream",
          "name": "stdout",
          "text": [
            "\n"
          ]
        },
        {
          "output_type": "display_data",
          "data": {
            "text/plain": [
              "                                                text  label\n",
              "0                                               text  label\n",
              "1  im feeling rather rotten so im not very ambiti...      0\n",
              "2          im updating my blog because i feel shitty      0\n",
              "3  i never make her separate from me because i do...      0\n",
              "4  i left with my bouquet of red and yellow tulip...      1"
            ],
            "text/html": [
              "\n",
              "  <div id=\"df-abf4a18d-4f85-4e48-b0d4-4f66989b078e\" class=\"colab-df-container\">\n",
              "    <div>\n",
              "<style scoped>\n",
              "    .dataframe tbody tr th:only-of-type {\n",
              "        vertical-align: middle;\n",
              "    }\n",
              "\n",
              "    .dataframe tbody tr th {\n",
              "        vertical-align: top;\n",
              "    }\n",
              "\n",
              "    .dataframe thead th {\n",
              "        text-align: right;\n",
              "    }\n",
              "</style>\n",
              "<table border=\"1\" class=\"dataframe\">\n",
              "  <thead>\n",
              "    <tr style=\"text-align: right;\">\n",
              "      <th></th>\n",
              "      <th>text</th>\n",
              "      <th>label</th>\n",
              "    </tr>\n",
              "  </thead>\n",
              "  <tbody>\n",
              "    <tr>\n",
              "      <th>0</th>\n",
              "      <td>text</td>\n",
              "      <td>label</td>\n",
              "    </tr>\n",
              "    <tr>\n",
              "      <th>1</th>\n",
              "      <td>im feeling rather rotten so im not very ambiti...</td>\n",
              "      <td>0</td>\n",
              "    </tr>\n",
              "    <tr>\n",
              "      <th>2</th>\n",
              "      <td>im updating my blog because i feel shitty</td>\n",
              "      <td>0</td>\n",
              "    </tr>\n",
              "    <tr>\n",
              "      <th>3</th>\n",
              "      <td>i never make her separate from me because i do...</td>\n",
              "      <td>0</td>\n",
              "    </tr>\n",
              "    <tr>\n",
              "      <th>4</th>\n",
              "      <td>i left with my bouquet of red and yellow tulip...</td>\n",
              "      <td>1</td>\n",
              "    </tr>\n",
              "  </tbody>\n",
              "</table>\n",
              "</div>\n",
              "    <div class=\"colab-df-buttons\">\n",
              "\n",
              "  <div class=\"colab-df-container\">\n",
              "    <button class=\"colab-df-convert\" onclick=\"convertToInteractive('df-abf4a18d-4f85-4e48-b0d4-4f66989b078e')\"\n",
              "            title=\"Convert this dataframe to an interactive table.\"\n",
              "            style=\"display:none;\">\n",
              "\n",
              "  <svg xmlns=\"http://www.w3.org/2000/svg\" height=\"24px\" viewBox=\"0 -960 960 960\">\n",
              "    <path d=\"M120-120v-720h720v720H120Zm60-500h600v-160H180v160Zm220 220h160v-160H400v160Zm0 220h160v-160H400v160ZM180-400h160v-160H180v160Zm440 0h160v-160H620v160ZM180-180h160v-160H180v160Zm440 0h160v-160H620v160Z\"/>\n",
              "  </svg>\n",
              "    </button>\n",
              "\n",
              "  <style>\n",
              "    .colab-df-container {\n",
              "      display:flex;\n",
              "      gap: 12px;\n",
              "    }\n",
              "\n",
              "    .colab-df-convert {\n",
              "      background-color: #E8F0FE;\n",
              "      border: none;\n",
              "      border-radius: 50%;\n",
              "      cursor: pointer;\n",
              "      display: none;\n",
              "      fill: #1967D2;\n",
              "      height: 32px;\n",
              "      padding: 0 0 0 0;\n",
              "      width: 32px;\n",
              "    }\n",
              "\n",
              "    .colab-df-convert:hover {\n",
              "      background-color: #E2EBFA;\n",
              "      box-shadow: 0px 1px 2px rgba(60, 64, 67, 0.3), 0px 1px 3px 1px rgba(60, 64, 67, 0.15);\n",
              "      fill: #174EA6;\n",
              "    }\n",
              "\n",
              "    .colab-df-buttons div {\n",
              "      margin-bottom: 4px;\n",
              "    }\n",
              "\n",
              "    [theme=dark] .colab-df-convert {\n",
              "      background-color: #3B4455;\n",
              "      fill: #D2E3FC;\n",
              "    }\n",
              "\n",
              "    [theme=dark] .colab-df-convert:hover {\n",
              "      background-color: #434B5C;\n",
              "      box-shadow: 0px 1px 3px 1px rgba(0, 0, 0, 0.15);\n",
              "      filter: drop-shadow(0px 1px 2px rgba(0, 0, 0, 0.3));\n",
              "      fill: #FFFFFF;\n",
              "    }\n",
              "  </style>\n",
              "\n",
              "    <script>\n",
              "      const buttonEl =\n",
              "        document.querySelector('#df-abf4a18d-4f85-4e48-b0d4-4f66989b078e button.colab-df-convert');\n",
              "      buttonEl.style.display =\n",
              "        google.colab.kernel.accessAllowed ? 'block' : 'none';\n",
              "\n",
              "      async function convertToInteractive(key) {\n",
              "        const element = document.querySelector('#df-abf4a18d-4f85-4e48-b0d4-4f66989b078e');\n",
              "        const dataTable =\n",
              "          await google.colab.kernel.invokeFunction('convertToInteractive',\n",
              "                                                    [key], {});\n",
              "        if (!dataTable) return;\n",
              "\n",
              "        const docLinkHtml = 'Like what you see? Visit the ' +\n",
              "          '<a target=\"_blank\" href=https://colab.research.google.com/notebooks/data_table.ipynb>data table notebook</a>'\n",
              "          + ' to learn more about interactive tables.';\n",
              "        element.innerHTML = '';\n",
              "        dataTable['output_type'] = 'display_data';\n",
              "        await google.colab.output.renderOutput(dataTable, element);\n",
              "        const docLink = document.createElement('div');\n",
              "        docLink.innerHTML = docLinkHtml;\n",
              "        element.appendChild(docLink);\n",
              "      }\n",
              "    </script>\n",
              "  </div>\n",
              "\n",
              "\n",
              "    <div id=\"df-3badaf5a-6b22-4bb6-83c8-cdc33eac9275\">\n",
              "      <button class=\"colab-df-quickchart\" onclick=\"quickchart('df-3badaf5a-6b22-4bb6-83c8-cdc33eac9275')\"\n",
              "                title=\"Suggest charts\"\n",
              "                style=\"display:none;\">\n",
              "\n",
              "<svg xmlns=\"http://www.w3.org/2000/svg\" height=\"24px\"viewBox=\"0 0 24 24\"\n",
              "     width=\"24px\">\n",
              "    <g>\n",
              "        <path d=\"M19 3H5c-1.1 0-2 .9-2 2v14c0 1.1.9 2 2 2h14c1.1 0 2-.9 2-2V5c0-1.1-.9-2-2-2zM9 17H7v-7h2v7zm4 0h-2V7h2v10zm4 0h-2v-4h2v4z\"/>\n",
              "    </g>\n",
              "</svg>\n",
              "      </button>\n",
              "\n",
              "<style>\n",
              "  .colab-df-quickchart {\n",
              "      --bg-color: #E8F0FE;\n",
              "      --fill-color: #1967D2;\n",
              "      --hover-bg-color: #E2EBFA;\n",
              "      --hover-fill-color: #174EA6;\n",
              "      --disabled-fill-color: #AAA;\n",
              "      --disabled-bg-color: #DDD;\n",
              "  }\n",
              "\n",
              "  [theme=dark] .colab-df-quickchart {\n",
              "      --bg-color: #3B4455;\n",
              "      --fill-color: #D2E3FC;\n",
              "      --hover-bg-color: #434B5C;\n",
              "      --hover-fill-color: #FFFFFF;\n",
              "      --disabled-bg-color: #3B4455;\n",
              "      --disabled-fill-color: #666;\n",
              "  }\n",
              "\n",
              "  .colab-df-quickchart {\n",
              "    background-color: var(--bg-color);\n",
              "    border: none;\n",
              "    border-radius: 50%;\n",
              "    cursor: pointer;\n",
              "    display: none;\n",
              "    fill: var(--fill-color);\n",
              "    height: 32px;\n",
              "    padding: 0;\n",
              "    width: 32px;\n",
              "  }\n",
              "\n",
              "  .colab-df-quickchart:hover {\n",
              "    background-color: var(--hover-bg-color);\n",
              "    box-shadow: 0 1px 2px rgba(60, 64, 67, 0.3), 0 1px 3px 1px rgba(60, 64, 67, 0.15);\n",
              "    fill: var(--button-hover-fill-color);\n",
              "  }\n",
              "\n",
              "  .colab-df-quickchart-complete:disabled,\n",
              "  .colab-df-quickchart-complete:disabled:hover {\n",
              "    background-color: var(--disabled-bg-color);\n",
              "    fill: var(--disabled-fill-color);\n",
              "    box-shadow: none;\n",
              "  }\n",
              "\n",
              "  .colab-df-spinner {\n",
              "    border: 2px solid var(--fill-color);\n",
              "    border-color: transparent;\n",
              "    border-bottom-color: var(--fill-color);\n",
              "    animation:\n",
              "      spin 1s steps(1) infinite;\n",
              "  }\n",
              "\n",
              "  @keyframes spin {\n",
              "    0% {\n",
              "      border-color: transparent;\n",
              "      border-bottom-color: var(--fill-color);\n",
              "      border-left-color: var(--fill-color);\n",
              "    }\n",
              "    20% {\n",
              "      border-color: transparent;\n",
              "      border-left-color: var(--fill-color);\n",
              "      border-top-color: var(--fill-color);\n",
              "    }\n",
              "    30% {\n",
              "      border-color: transparent;\n",
              "      border-left-color: var(--fill-color);\n",
              "      border-top-color: var(--fill-color);\n",
              "      border-right-color: var(--fill-color);\n",
              "    }\n",
              "    40% {\n",
              "      border-color: transparent;\n",
              "      border-right-color: var(--fill-color);\n",
              "      border-top-color: var(--fill-color);\n",
              "    }\n",
              "    60% {\n",
              "      border-color: transparent;\n",
              "      border-right-color: var(--fill-color);\n",
              "    }\n",
              "    80% {\n",
              "      border-color: transparent;\n",
              "      border-right-color: var(--fill-color);\n",
              "      border-bottom-color: var(--fill-color);\n",
              "    }\n",
              "    90% {\n",
              "      border-color: transparent;\n",
              "      border-bottom-color: var(--fill-color);\n",
              "    }\n",
              "  }\n",
              "</style>\n",
              "\n",
              "      <script>\n",
              "        async function quickchart(key) {\n",
              "          const quickchartButtonEl =\n",
              "            document.querySelector('#' + key + ' button');\n",
              "          quickchartButtonEl.disabled = true;  // To prevent multiple clicks.\n",
              "          quickchartButtonEl.classList.add('colab-df-spinner');\n",
              "          try {\n",
              "            const charts = await google.colab.kernel.invokeFunction(\n",
              "                'suggestCharts', [key], {});\n",
              "          } catch (error) {\n",
              "            console.error('Error during call to suggestCharts:', error);\n",
              "          }\n",
              "          quickchartButtonEl.classList.remove('colab-df-spinner');\n",
              "          quickchartButtonEl.classList.add('colab-df-quickchart-complete');\n",
              "        }\n",
              "        (() => {\n",
              "          let quickchartButtonEl =\n",
              "            document.querySelector('#df-3badaf5a-6b22-4bb6-83c8-cdc33eac9275 button');\n",
              "          quickchartButtonEl.style.display =\n",
              "            google.colab.kernel.accessAllowed ? 'block' : 'none';\n",
              "        })();\n",
              "      </script>\n",
              "    </div>\n",
              "\n",
              "    </div>\n",
              "  </div>\n"
            ],
            "application/vnd.google.colaboratory.intrinsic+json": {
              "type": "dataframe",
              "summary": "{\n  \"name\": \"display(df_val\",\n  \"rows\": 5,\n  \"fields\": [\n    {\n      \"column\": \"text\",\n      \"properties\": {\n        \"dtype\": \"string\",\n        \"num_unique_values\": 5,\n        \"samples\": [\n          \"im feeling rather rotten so im not very ambitious right now\",\n          \"i left with my bouquet of red and yellow tulips under my arm feeling slightly more optimistic than when i arrived\",\n          \"im updating my blog because i feel shitty\"\n        ],\n        \"semantic_type\": \"\",\n        \"description\": \"\"\n      }\n    },\n    {\n      \"column\": \"label\",\n      \"properties\": {\n        \"dtype\": \"string\",\n        \"num_unique_values\": 3,\n        \"samples\": [\n          \"label\",\n          \"0\",\n          \"1\"\n        ],\n        \"semantic_type\": \"\",\n        \"description\": \"\"\n      }\n    }\n  ]\n}"
            }
          },
          "metadata": {}
        },
        {
          "output_type": "stream",
          "name": "stdout",
          "text": [
            "\n"
          ]
        },
        {
          "output_type": "display_data",
          "data": {
            "text/plain": [
              "                                                text  label\n",
              "0                                               text  label\n",
              "1  im feeling quite sad and sorry for myself but ...      0\n",
              "2  i feel like i am still looking at a blank canv...      0\n",
              "3                     i feel like a faithful servant      2\n",
              "4                  i am just feeling cranky and blue      3"
            ],
            "text/html": [
              "\n",
              "  <div id=\"df-2af3e7ba-83a2-4a94-8dec-5b9e1f210ab1\" class=\"colab-df-container\">\n",
              "    <div>\n",
              "<style scoped>\n",
              "    .dataframe tbody tr th:only-of-type {\n",
              "        vertical-align: middle;\n",
              "    }\n",
              "\n",
              "    .dataframe tbody tr th {\n",
              "        vertical-align: top;\n",
              "    }\n",
              "\n",
              "    .dataframe thead th {\n",
              "        text-align: right;\n",
              "    }\n",
              "</style>\n",
              "<table border=\"1\" class=\"dataframe\">\n",
              "  <thead>\n",
              "    <tr style=\"text-align: right;\">\n",
              "      <th></th>\n",
              "      <th>text</th>\n",
              "      <th>label</th>\n",
              "    </tr>\n",
              "  </thead>\n",
              "  <tbody>\n",
              "    <tr>\n",
              "      <th>0</th>\n",
              "      <td>text</td>\n",
              "      <td>label</td>\n",
              "    </tr>\n",
              "    <tr>\n",
              "      <th>1</th>\n",
              "      <td>im feeling quite sad and sorry for myself but ...</td>\n",
              "      <td>0</td>\n",
              "    </tr>\n",
              "    <tr>\n",
              "      <th>2</th>\n",
              "      <td>i feel like i am still looking at a blank canv...</td>\n",
              "      <td>0</td>\n",
              "    </tr>\n",
              "    <tr>\n",
              "      <th>3</th>\n",
              "      <td>i feel like a faithful servant</td>\n",
              "      <td>2</td>\n",
              "    </tr>\n",
              "    <tr>\n",
              "      <th>4</th>\n",
              "      <td>i am just feeling cranky and blue</td>\n",
              "      <td>3</td>\n",
              "    </tr>\n",
              "  </tbody>\n",
              "</table>\n",
              "</div>\n",
              "    <div class=\"colab-df-buttons\">\n",
              "\n",
              "  <div class=\"colab-df-container\">\n",
              "    <button class=\"colab-df-convert\" onclick=\"convertToInteractive('df-2af3e7ba-83a2-4a94-8dec-5b9e1f210ab1')\"\n",
              "            title=\"Convert this dataframe to an interactive table.\"\n",
              "            style=\"display:none;\">\n",
              "\n",
              "  <svg xmlns=\"http://www.w3.org/2000/svg\" height=\"24px\" viewBox=\"0 -960 960 960\">\n",
              "    <path d=\"M120-120v-720h720v720H120Zm60-500h600v-160H180v160Zm220 220h160v-160H400v160Zm0 220h160v-160H400v160ZM180-400h160v-160H180v160Zm440 0h160v-160H620v160ZM180-180h160v-160H180v160Zm440 0h160v-160H620v160Z\"/>\n",
              "  </svg>\n",
              "    </button>\n",
              "\n",
              "  <style>\n",
              "    .colab-df-container {\n",
              "      display:flex;\n",
              "      gap: 12px;\n",
              "    }\n",
              "\n",
              "    .colab-df-convert {\n",
              "      background-color: #E8F0FE;\n",
              "      border: none;\n",
              "      border-radius: 50%;\n",
              "      cursor: pointer;\n",
              "      display: none;\n",
              "      fill: #1967D2;\n",
              "      height: 32px;\n",
              "      padding: 0 0 0 0;\n",
              "      width: 32px;\n",
              "    }\n",
              "\n",
              "    .colab-df-convert:hover {\n",
              "      background-color: #E2EBFA;\n",
              "      box-shadow: 0px 1px 2px rgba(60, 64, 67, 0.3), 0px 1px 3px 1px rgba(60, 64, 67, 0.15);\n",
              "      fill: #174EA6;\n",
              "    }\n",
              "\n",
              "    .colab-df-buttons div {\n",
              "      margin-bottom: 4px;\n",
              "    }\n",
              "\n",
              "    [theme=dark] .colab-df-convert {\n",
              "      background-color: #3B4455;\n",
              "      fill: #D2E3FC;\n",
              "    }\n",
              "\n",
              "    [theme=dark] .colab-df-convert:hover {\n",
              "      background-color: #434B5C;\n",
              "      box-shadow: 0px 1px 3px 1px rgba(0, 0, 0, 0.15);\n",
              "      filter: drop-shadow(0px 1px 2px rgba(0, 0, 0, 0.3));\n",
              "      fill: #FFFFFF;\n",
              "    }\n",
              "  </style>\n",
              "\n",
              "    <script>\n",
              "      const buttonEl =\n",
              "        document.querySelector('#df-2af3e7ba-83a2-4a94-8dec-5b9e1f210ab1 button.colab-df-convert');\n",
              "      buttonEl.style.display =\n",
              "        google.colab.kernel.accessAllowed ? 'block' : 'none';\n",
              "\n",
              "      async function convertToInteractive(key) {\n",
              "        const element = document.querySelector('#df-2af3e7ba-83a2-4a94-8dec-5b9e1f210ab1');\n",
              "        const dataTable =\n",
              "          await google.colab.kernel.invokeFunction('convertToInteractive',\n",
              "                                                    [key], {});\n",
              "        if (!dataTable) return;\n",
              "\n",
              "        const docLinkHtml = 'Like what you see? Visit the ' +\n",
              "          '<a target=\"_blank\" href=https://colab.research.google.com/notebooks/data_table.ipynb>data table notebook</a>'\n",
              "          + ' to learn more about interactive tables.';\n",
              "        element.innerHTML = '';\n",
              "        dataTable['output_type'] = 'display_data';\n",
              "        await google.colab.output.renderOutput(dataTable, element);\n",
              "        const docLink = document.createElement('div');\n",
              "        docLink.innerHTML = docLinkHtml;\n",
              "        element.appendChild(docLink);\n",
              "      }\n",
              "    </script>\n",
              "  </div>\n",
              "\n",
              "\n",
              "    <div id=\"df-32930cbc-6b3f-443b-973a-2a8f097431b0\">\n",
              "      <button class=\"colab-df-quickchart\" onclick=\"quickchart('df-32930cbc-6b3f-443b-973a-2a8f097431b0')\"\n",
              "                title=\"Suggest charts\"\n",
              "                style=\"display:none;\">\n",
              "\n",
              "<svg xmlns=\"http://www.w3.org/2000/svg\" height=\"24px\"viewBox=\"0 0 24 24\"\n",
              "     width=\"24px\">\n",
              "    <g>\n",
              "        <path d=\"M19 3H5c-1.1 0-2 .9-2 2v14c0 1.1.9 2 2 2h14c1.1 0 2-.9 2-2V5c0-1.1-.9-2-2-2zM9 17H7v-7h2v7zm4 0h-2V7h2v10zm4 0h-2v-4h2v4z\"/>\n",
              "    </g>\n",
              "</svg>\n",
              "      </button>\n",
              "\n",
              "<style>\n",
              "  .colab-df-quickchart {\n",
              "      --bg-color: #E8F0FE;\n",
              "      --fill-color: #1967D2;\n",
              "      --hover-bg-color: #E2EBFA;\n",
              "      --hover-fill-color: #174EA6;\n",
              "      --disabled-fill-color: #AAA;\n",
              "      --disabled-bg-color: #DDD;\n",
              "  }\n",
              "\n",
              "  [theme=dark] .colab-df-quickchart {\n",
              "      --bg-color: #3B4455;\n",
              "      --fill-color: #D2E3FC;\n",
              "      --hover-bg-color: #434B5C;\n",
              "      --hover-fill-color: #FFFFFF;\n",
              "      --disabled-bg-color: #3B4455;\n",
              "      --disabled-fill-color: #666;\n",
              "  }\n",
              "\n",
              "  .colab-df-quickchart {\n",
              "    background-color: var(--bg-color);\n",
              "    border: none;\n",
              "    border-radius: 50%;\n",
              "    cursor: pointer;\n",
              "    display: none;\n",
              "    fill: var(--fill-color);\n",
              "    height: 32px;\n",
              "    padding: 0;\n",
              "    width: 32px;\n",
              "  }\n",
              "\n",
              "  .colab-df-quickchart:hover {\n",
              "    background-color: var(--hover-bg-color);\n",
              "    box-shadow: 0 1px 2px rgba(60, 64, 67, 0.3), 0 1px 3px 1px rgba(60, 64, 67, 0.15);\n",
              "    fill: var(--button-hover-fill-color);\n",
              "  }\n",
              "\n",
              "  .colab-df-quickchart-complete:disabled,\n",
              "  .colab-df-quickchart-complete:disabled:hover {\n",
              "    background-color: var(--disabled-bg-color);\n",
              "    fill: var(--disabled-fill-color);\n",
              "    box-shadow: none;\n",
              "  }\n",
              "\n",
              "  .colab-df-spinner {\n",
              "    border: 2px solid var(--fill-color);\n",
              "    border-color: transparent;\n",
              "    border-bottom-color: var(--fill-color);\n",
              "    animation:\n",
              "      spin 1s steps(1) infinite;\n",
              "  }\n",
              "\n",
              "  @keyframes spin {\n",
              "    0% {\n",
              "      border-color: transparent;\n",
              "      border-bottom-color: var(--fill-color);\n",
              "      border-left-color: var(--fill-color);\n",
              "    }\n",
              "    20% {\n",
              "      border-color: transparent;\n",
              "      border-left-color: var(--fill-color);\n",
              "      border-top-color: var(--fill-color);\n",
              "    }\n",
              "    30% {\n",
              "      border-color: transparent;\n",
              "      border-left-color: var(--fill-color);\n",
              "      border-top-color: var(--fill-color);\n",
              "      border-right-color: var(--fill-color);\n",
              "    }\n",
              "    40% {\n",
              "      border-color: transparent;\n",
              "      border-right-color: var(--fill-color);\n",
              "      border-top-color: var(--fill-color);\n",
              "    }\n",
              "    60% {\n",
              "      border-color: transparent;\n",
              "      border-right-color: var(--fill-color);\n",
              "    }\n",
              "    80% {\n",
              "      border-color: transparent;\n",
              "      border-right-color: var(--fill-color);\n",
              "      border-bottom-color: var(--fill-color);\n",
              "    }\n",
              "    90% {\n",
              "      border-color: transparent;\n",
              "      border-bottom-color: var(--fill-color);\n",
              "    }\n",
              "  }\n",
              "</style>\n",
              "\n",
              "      <script>\n",
              "        async function quickchart(key) {\n",
              "          const quickchartButtonEl =\n",
              "            document.querySelector('#' + key + ' button');\n",
              "          quickchartButtonEl.disabled = true;  // To prevent multiple clicks.\n",
              "          quickchartButtonEl.classList.add('colab-df-spinner');\n",
              "          try {\n",
              "            const charts = await google.colab.kernel.invokeFunction(\n",
              "                'suggestCharts', [key], {});\n",
              "          } catch (error) {\n",
              "            console.error('Error during call to suggestCharts:', error);\n",
              "          }\n",
              "          quickchartButtonEl.classList.remove('colab-df-spinner');\n",
              "          quickchartButtonEl.classList.add('colab-df-quickchart-complete');\n",
              "        }\n",
              "        (() => {\n",
              "          let quickchartButtonEl =\n",
              "            document.querySelector('#df-32930cbc-6b3f-443b-973a-2a8f097431b0 button');\n",
              "          quickchartButtonEl.style.display =\n",
              "            google.colab.kernel.accessAllowed ? 'block' : 'none';\n",
              "        })();\n",
              "      </script>\n",
              "    </div>\n",
              "\n",
              "    </div>\n",
              "  </div>\n"
            ],
            "application/vnd.google.colaboratory.intrinsic+json": {
              "type": "dataframe",
              "summary": "{\n  \"name\": \"display(df_val\",\n  \"rows\": 5,\n  \"fields\": [\n    {\n      \"column\": \"text\",\n      \"properties\": {\n        \"dtype\": \"string\",\n        \"num_unique_values\": 5,\n        \"samples\": [\n          \"im feeling quite sad and sorry for myself but ill snap out of it soon\",\n          \"i am just feeling cranky and blue\",\n          \"i feel like i am still looking at a blank canvas blank pieces of paper\"\n        ],\n        \"semantic_type\": \"\",\n        \"description\": \"\"\n      }\n    },\n    {\n      \"column\": \"label\",\n      \"properties\": {\n        \"dtype\": \"string\",\n        \"num_unique_values\": 4,\n        \"samples\": [\n          \"0\",\n          \"3\",\n          \"label\"\n        ],\n        \"semantic_type\": \"\",\n        \"description\": \"\"\n      }\n    }\n  ]\n}"
            }
          },
          "metadata": {}
        }
      ],
      "source": [
        "# Load datasets\n",
        "data_url = 'https://raw.githubusercontent.com/jeelfaldu7/transformer_sentiment_analysis/refs/heads/main/datasets/dataset.csv'\n",
        "df = pd.read_csv(data_url, header=None, names=['id', 'text', 'label'], sep=',')\n",
        "\n",
        "data_train = 'https://raw.githubusercontent.com/jeelfaldu7/transformer_sentiment_analysis/refs/heads/main/datasets/training.csv'\n",
        "df_train = pd.read_csv(data_train, header=None, names=['text', 'label'], sep=',')\n",
        "data_test = 'https://raw.githubusercontent.com/jeelfaldu7/transformer_sentiment_analysis/refs/heads/main/datasets/test.csv'\n",
        "df_test = pd.read_csv(data_test, header=None, names=['text', 'label'], sep=',')\n",
        "data_val = 'https://raw.githubusercontent.com/jeelfaldu7/transformer_sentiment_analysis/refs/heads/main/datasets/validation.csv'\n",
        "df_val = pd.read_csv(data_val, header=None, names=['text', 'label'], sep=',')\n",
        "\n",
        "\n",
        "\n",
        "# Display first few rows of the dataset\n",
        "display(df.head())\n",
        "print()\n",
        "display(df_train.head())\n",
        "print()\n",
        "display(df_test.head())\n",
        "print()\n",
        "display(df_val.head())"
      ]
    },
    {
      "cell_type": "code",
      "execution_count": 64,
      "metadata": {
        "colab": {
          "base_uri": "https://localhost:8080/"
        },
        "id": "eqv9jKYSAk92",
        "outputId": "77bd4af8-a872-49d5-fd24-f827d83feea9"
      },
      "outputs": [
        {
          "output_type": "stream",
          "name": "stdout",
          "text": [
            "<class 'pandas.core.frame.DataFrame'>\n",
            "RangeIndex: 3085 entries, 0 to 3084\n",
            "Data columns (total 3 columns):\n",
            " #   Column  Non-Null Count  Dtype \n",
            "---  ------  --------------  ----- \n",
            " 0   id      3085 non-null   int64 \n",
            " 1   text    3085 non-null   object\n",
            " 2   label   3085 non-null   object\n",
            "dtypes: int64(1), object(2)\n",
            "memory usage: 72.4+ KB\n",
            "\n",
            "<class 'pandas.core.frame.DataFrame'>\n",
            "RangeIndex: 16001 entries, 0 to 16000\n",
            "Data columns (total 2 columns):\n",
            " #   Column  Non-Null Count  Dtype \n",
            "---  ------  --------------  ----- \n",
            " 0   text    16001 non-null  object\n",
            " 1   label   16001 non-null  object\n",
            "dtypes: object(2)\n",
            "memory usage: 250.1+ KB\n",
            "\n",
            "<class 'pandas.core.frame.DataFrame'>\n",
            "RangeIndex: 2001 entries, 0 to 2000\n",
            "Data columns (total 2 columns):\n",
            " #   Column  Non-Null Count  Dtype \n",
            "---  ------  --------------  ----- \n",
            " 0   text    2001 non-null   object\n",
            " 1   label   2001 non-null   object\n",
            "dtypes: object(2)\n",
            "memory usage: 31.4+ KB\n",
            "\n",
            "<class 'pandas.core.frame.DataFrame'>\n",
            "RangeIndex: 2001 entries, 0 to 2000\n",
            "Data columns (total 2 columns):\n",
            " #   Column  Non-Null Count  Dtype \n",
            "---  ------  --------------  ----- \n",
            " 0   text    2001 non-null   object\n",
            " 1   label   2001 non-null   object\n",
            "dtypes: object(2)\n",
            "memory usage: 31.4+ KB\n"
          ]
        }
      ],
      "source": [
        "# Display the summary of the dataset\n",
        "df.info()\n",
        "print()\n",
        "df_train.info()\n",
        "print()\n",
        "df_test.info()\n",
        "print()\n",
        "df_val.info()"
      ]
    },
    {
      "cell_type": "code",
      "execution_count": 65,
      "metadata": {
        "colab": {
          "base_uri": "https://localhost:8080/"
        },
        "id": "kgEZtLJGAqL1",
        "outputId": "167b4445-6d55-43b8-a06e-cdd52efa49af"
      },
      "outputs": [
        {
          "output_type": "stream",
          "name": "stdout",
          "text": [
            "The DataFrame has 3085 rows and 3 columns\n"
          ]
        }
      ],
      "source": [
        "# Display the shape of all the DataFrame\n",
        "n_rows, n_cols = df.shape\n",
        "print(f\"The DataFrame has {n_rows} rows and {n_cols} columns\")"
      ]
    },
    {
      "cell_type": "markdown",
      "metadata": {
        "id": "MpfxVusD5qS1"
      },
      "source": [
        "In this step, we loaded the main dataset along with separate training, testing, and validation splits directly from GitHub. Loading them separately ensures proper evaluation and prevents data leakage between phases."
      ]
    },
    {
      "cell_type": "markdown",
      "metadata": {
        "id": "ypXHhHipaQbf"
      },
      "source": [
        "<font size = 5> <b> Let's check to see if there are any dupes in our datas"
      ]
    },
    {
      "cell_type": "code",
      "execution_count": 66,
      "metadata": {
        "colab": {
          "base_uri": "https://localhost:8080/"
        },
        "id": "_bV6Ork8aPfI",
        "outputId": "8f4822b0-0921-4457-84a8-bc7fc59516c1"
      },
      "outputs": [
        {
          "output_type": "stream",
          "name": "stdout",
          "text": [
            "1\n",
            "0\n",
            "0\n",
            "                                                    text label\n",
            "13847  i feel more adventurous willing to take risks ...     1\n",
            "(16000, 2)\n"
          ]
        }
      ],
      "source": [
        "# Check for duplicates in the datasets\n",
        "alt_df_train = df_train.duplicated().sum()\n",
        "alt_df_val = df_val.duplicated().sum()\n",
        "alt_df_test = df_test.duplicated().sum()\n",
        "\n",
        "print(alt_df_train)\n",
        "print(alt_df_val)\n",
        "print(alt_df_test)\n",
        "\n",
        "# Identify and remove duplicates in training set\n",
        "dupe_df_train = df_train[df_train.duplicated()]\n",
        "print(dupe_df_train)\n",
        "df_train_no_dupes = df_train.drop_duplicates()\n",
        "print(df_train_no_dupes.shape)"
      ]
    },
    {
      "cell_type": "markdown",
      "metadata": {
        "id": "-ruAr6He5qS1"
      },
      "source": [
        "In this step, we checked for and removed duplicate entries in the training dataset to ensure data quality and prevent bias during training. Duplicate rows can cause models to overfit or skew performance metrics."
      ]
    },
    {
      "cell_type": "code",
      "execution_count": 67,
      "metadata": {
        "colab": {
          "base_uri": "https://localhost:8080/"
        },
        "id": "HCAEdn6Z5qS2",
        "outputId": "3bdd48bb-1356-401c-b7cc-bdc1e4876d3b"
      },
      "outputs": [
        {
          "output_type": "stream",
          "name": "stderr",
          "text": [
            "/tmp/ipython-input-616060926.py:14: SettingWithCopyWarning: \n",
            "A value is trying to be set on a copy of a slice from a DataFrame.\n",
            "Try using .loc[row_indexer,col_indexer] = value instead\n",
            "\n",
            "See the caveats in the documentation: https://pandas.pydata.org/pandas-docs/stable/user_guide/indexing.html#returning-a-view-versus-a-copy\n",
            "  df_train_no_dupes['label'] = df_train_no_dupes['label'].map(label_mapping)\n"
          ]
        }
      ],
      "source": [
        "# Map numeric labels to string labels\n",
        "label_mapping = {\n",
        "    '0': 'sad',\n",
        "    '1': 'happy',\n",
        "    '2': 'happy',\n",
        "    '3': 'angry',\n",
        "    '4': 'fear',\n",
        "    'sad': 'sad',\n",
        "    'happy': 'happy',\n",
        "    'angry': 'angry',\n",
        "    'fear': 'fear'\n",
        "}\n",
        "\n",
        "df_train_no_dupes['label'] = df_train_no_dupes['label'].map(label_mapping)"
      ]
    },
    {
      "cell_type": "markdown",
      "metadata": {
        "id": "FV_h4DZS5qS2"
      },
      "source": [
        "We also standardized the label values using a mapping dictionary so that both numeric and text-based labels were aligned to a consistent format (e.g., mapping 0 and 1 to \u201csad\u201d and \u201chappy\u201d). This helped maintain uniformity across datasets and simplified the classification process."
      ]
    },
    {
      "cell_type": "markdown",
      "metadata": {
        "id": "QjGAvMF9xZFV"
      },
      "source": [
        "### Train-Test-Split"
      ]
    },
    {
      "cell_type": "code",
      "execution_count": 68,
      "metadata": {
        "id": "pm6CFwWVNC9U"
      },
      "outputs": [],
      "source": [
        "# Combine train and validation\n",
        "alt_df = pd.concat([df_train, df_val], ignore_index=True)\n",
        "\n",
        "# Apply label mapping\n",
        "#alt_df = alt_df[alt_df['label'] != 'fear']\n",
        "#alt_df['label'] = alt_df['label'].replace({'love': 'happy', 'joy': 'happy'})\n",
        "\n",
        "alt_df['label'] = alt_df['label'].map(label_mapping)\n",
        "alt_df = alt_df.dropna()"
      ]
    },
    {
      "cell_type": "markdown",
      "metadata": {
        "id": "Vsyz1UAd5qS2"
      },
      "source": [
        "After completing the initial data preprocessing - removing duplicates and standardizing labels - we combined the training and validation datasets to create a larger dataset for model training which can help improve learning by providing more examples."
      ]
    },
    {
      "cell_type": "markdown",
      "metadata": {
        "id": "hzDA47nu5qS2"
      },
      "source": [
        "#### Data Splits for RoBERTa Model"
      ]
    },
    {
      "cell_type": "code",
      "execution_count": 69,
      "metadata": {
        "id": "UirgdfyUA5RW"
      },
      "outputs": [],
      "source": [
        "# Train two different test splits for the Roberta Model\n",
        "train_df, test_df = train_test_split(df, test_size=0.2, random_state=42)\n",
        "\n",
        "# Prepare training and testing features\n",
        "X_train = train_df.drop('label', axis = 1)\n",
        "X_test = test_df.drop('label', axis = 1)\n",
        "\n",
        "# Combine all labels for fitting\n",
        "all_labels = pd.concat([train_df['label'], alt_df['label']])\n",
        "mlb = MultiLabelBinarizer()\n",
        "mlb.fit(all_labels.str.split('|'))\n",
        "\n",
        "# Transform labels\n",
        "y_train = mlb.transform(train_df['label'].str.split('|'))\n",
        "y_test = mlb.transform(test_df['label'].str.split('|'))"
      ]
    },
    {
      "cell_type": "code",
      "execution_count": 70,
      "metadata": {
        "colab": {
          "base_uri": "https://localhost:8080/"
        },
        "id": "LfHt36oG5qS2",
        "outputId": "a9d5ee2f-c40e-45ce-a08f-5e99cd0e574c"
      },
      "outputs": [
        {
          "output_type": "stream",
          "name": "stdout",
          "text": [
            "(2468, 2) (2468, 8)\n",
            "(617, 2) (617, 8)\n",
            "\n",
            "Label classes:\n",
            "['angry' 'disgust' 'fear' 'happy' 'nocode' 'not-relevant' 'sad' 'surprise']\n",
            "['angry' 'disgust' 'fear' 'happy' 'nocode' 'not-relevant' 'sad' 'surprise']\n",
            "[0 0 0 1 0 0 0 0]\n"
          ]
        }
      ],
      "source": [
        "# Display shapes of the datasets\n",
        "print(X_train.shape, y_train.shape)\n",
        "print(X_test.shape, y_test.shape)\n",
        "\n",
        "# Check label mapping\n",
        "print(\"\\nLabel classes:\")\n",
        "print(mlb.classes_)\n",
        "\n",
        "# Check a sample label\n",
        "print(mlb.classes_)\n",
        "print(y_train[92])"
      ]
    },
    {
      "cell_type": "markdown",
      "metadata": {
        "id": "erAtZLtM5qS2"
      },
      "source": [
        "At this stage, we prepared the data specifically for the RoBERTa model. We split the dataset into training and test sets and separated the features (text) from the labels. To handle multi-label emotions, we combined all labels from the training and combined dataset and applied a multi-label binarizer, which converts each label into a one-hot encoded vector. This step ensures the model can handle tweets that express multiple emotions at once. The resulting shapes and label classes confirm that the data is correctly formatted and ready for model training."
      ]
    },
    {
      "cell_type": "code",
      "execution_count": 71,
      "metadata": {
        "colab": {
          "base_uri": "https://localhost:8080/",
          "height": 564
        },
        "id": "khpdjU1pHliY",
        "outputId": "a1cfa0ef-6ac3-40e0-b29b-096acd1d1f4c"
      },
      "outputs": [
        {
          "output_type": "display_data",
          "data": {
            "text/plain": [
              "<Figure size 1000x600 with 1 Axes>"
            ],
            "image/png": "[encoded data removed]"
          },
          "metadata": {}
        }
      ],
      "source": [
        "# Visualize label distribution through exploding multi-labels\n",
        "df['label_split'] = df['label'].str.split('|')\n",
        "exploded_labels = df.explode('label_split')\n",
        "\n",
        "plt.figure(figsize=(10, 6))\n",
        "sns.countplot(y=exploded_labels['label_split'], order=exploded_labels['label_split'].value_counts().index)\n",
        "plt.title(\"Sentiment Label Distribution\")\n",
        "plt.xlabel(\"Count\")\n",
        "plt.ylabel(\"Sentiment\")\n",
        "plt.show()"
      ]
    },
    {
      "cell_type": "markdown",
      "metadata": {
        "id": "1Z0dCxKJ5qS3"
      },
      "source": [
        "This graph shows how different sentiment labels appear across the dataset. Each bar represents the number of times a particular emotion or label occurs. The results show that \u201cnocode\u201d and \u201chappy\u201d dominate the dataset \u2014 meaning most entries either don\u2019t express any clear emotion (nocode) or convey a positive tone (happy). In contrast, labels like \u201cnot-relevant\u201d, \u201cangry\u201d, \u201csad\u201d, \u201csurprise\u201d, and \u201cdisgust\u201d appear far less frequently.\n",
        "\n",
        "Overall, the dataset is skewed toward neutral and positive sentiments, with far fewer examples of negative emotions. This is important to keep in mind if the data is being used to train a sentiment analysis model, since the model may become better at recognizing positive emotions simply because there are more examples of them. In short, most of the text in this dataset tends to reflect a neutral or upbeat mood, with relatively few negative or emotional outliers."
      ]
    },
    {
      "cell_type": "markdown",
      "metadata": {
        "id": "ZN-KV1lU5qS3"
      },
      "source": [
        "## Baseline Model: DistilBERT Sentiment Analysis\n"
      ]
    },
    {
      "cell_type": "code",
      "execution_count": 72,
      "metadata": {
        "colab": {
          "base_uri": "https://localhost:8080/",
          "height": 241
        },
        "id": "iPbzQeGN5qS3",
        "outputId": "3f59c3db-78c7-40ef-8942-dabb53bb155a"
      },
      "outputs": [
        {
          "output_type": "execute_result",
          "data": {
            "text/plain": [
              "2634          I'm at @user in London, Greater London http\n",
              "2373    My favourite #oilpainting  'Tiger Tiger Burnin...\n",
              "839     Currently @user to discuss #DefeatingDepressio...\n",
              "2857                      @user thanks for the Favourite!\n",
              "761     Farron Gorey selfies before his performance at...\n",
              "Name: text, dtype: object"
            ],
            "text/html": [
              "<div>\n",
              "<style scoped>\n",
              "    .dataframe tbody tr th:only-of-type {\n",
              "        vertical-align: middle;\n",
              "    }\n",
              "\n",
              "    .dataframe tbody tr th {\n",
              "        vertical-align: top;\n",
              "    }\n",
              "\n",
              "    .dataframe thead th {\n",
              "        text-align: right;\n",
              "    }\n",
              "</style>\n",
              "<table border=\"1\" class=\"dataframe\">\n",
              "  <thead>\n",
              "    <tr style=\"text-align: right;\">\n",
              "      <th></th>\n",
              "      <th>text</th>\n",
              "    </tr>\n",
              "  </thead>\n",
              "  <tbody>\n",
              "    <tr>\n",
              "      <th>2634</th>\n",
              "      <td>I'm at @user in London, Greater London http</td>\n",
              "    </tr>\n",
              "    <tr>\n",
              "      <th>2373</th>\n",
              "      <td>My favourite #oilpainting  'Tiger Tiger Burnin...</td>\n",
              "    </tr>\n",
              "    <tr>\n",
              "      <th>839</th>\n",
              "      <td>Currently @user to discuss #DefeatingDepressio...</td>\n",
              "    </tr>\n",
              "    <tr>\n",
              "      <th>2857</th>\n",
              "      <td>@user thanks for the Favourite!</td>\n",
              "    </tr>\n",
              "    <tr>\n",
              "      <th>761</th>\n",
              "      <td>Farron Gorey selfies before his performance at...</td>\n",
              "    </tr>\n",
              "  </tbody>\n",
              "</table>\n",
              "</div><br><label><b>dtype:</b> object</label>"
            ]
          },
          "metadata": {},
          "execution_count": 72
        }
      ],
      "source": [
        "# Preprocess function to clean text\n",
        "def preprocess(text):\n",
        "    new_text = []\n",
        "    for t in text.split(\" \"):\n",
        "        t = '@user' if t.startswith('@') and len(t) > 1 else t\n",
        "        t = 'http' if t.startswith('http') else t\n",
        "        new_text.append(t)\n",
        "    return \" \".join(new_text)\n",
        "\n",
        "# Apply preprocessing to training and testing sets\n",
        "X2_train = X_train['text'].apply(preprocess)\n",
        "X2_test = X_test['text'].apply(preprocess)\n",
        "\n",
        "X2_train.head()"
      ]
    },
    {
      "cell_type": "code",
      "execution_count": 73,
      "metadata": {
        "id": "hg1xZJCL5qS3"
      },
      "outputs": [],
      "source": [
        "# Load pretrained DistilBERT model\n",
        "distil_tokenizer = DistilBertTokenizer.from_pretrained(\"distilbert-base-uncased-finetuned-sst-2-english\")\n",
        "distil_model = DistilBertForSequenceClassification.from_pretrained(\n",
        "    \"distilbert-base-uncased-finetuned-sst-2-english\"\n",
        ").to(device)\n",
        "\n",
        "# Function to predict sentiment\n",
        "def distilbert_sentiment(text):\n",
        "    inputs = distil_tokenizer(text, return_tensors=\"pt\", truncation=True, max_length=128).to(device)\n",
        "    with torch.no_grad():\n",
        "        logits = distil_model(**inputs).logits\n",
        "    pred_id = logits.argmax().item()\n",
        "    return distil_model.config.id2label[pred_id]"
      ]
    },
    {
      "cell_type": "code",
      "execution_count": 74,
      "metadata": {
        "colab": {
          "base_uri": "https://localhost:8080/"
        },
        "id": "YYEcZlPx5qS3",
        "outputId": "4c61de0e-09b4-4329-ebef-88d4ceb5fd66"
      },
      "outputs": [
        {
          "output_type": "stream",
          "name": "stderr",
          "text": [
            "100%|\u2588\u2588\u2588\u2588\u2588\u2588\u2588\u2588\u2588\u2588| 617/617 [00:02<00:00, 217.55it/s]\n"
          ]
        }
      ],
      "source": [
        "# Apply to the dataset\n",
        "tqdm.pandas()\n",
        "test_df[\"distilbert_sentiment\"] = test_df[\"text\"].progress_apply(distilbert_sentiment)"
      ]
    },
    {
      "cell_type": "code",
      "execution_count": 75,
      "metadata": {
        "colab": {
          "base_uri": "https://localhost:8080/",
          "height": 363
        },
        "id": "QHuBSvuL5qS3",
        "outputId": "2a3d6989-0325-4f03-dba5-b30ab1a2a57d"
      },
      "outputs": [
        {
          "output_type": "execute_result",
          "data": {
            "text/plain": [
              "                                                   text     label  \\\n",
              "1505  pindah lagi ehehe (at @nationalgallery) \u2014 http...    nocode   \n",
              "2399  @DavidSmithArt @roshvarosha @LisaLooly @newman...     happy   \n",
              "1814  Roman gem engraved with Odysseus, his ship, an...    nocode   \n",
              "511   An exciting announcement soon :) @RAMMuseum #e...     happy   \n",
              "1565  Excited to have a FLASH Residency at @Studio44...     happy   \n",
              "790   The Astronomers of Babylon (explorable website...    nocode   \n",
              "354   John H. Taylor du @britishmuseum \"The collecti...    nocode   \n",
              "1651  @NationalGallery Wait, no, is there a secret L...  surprise   \n",
              "2859  @NationalGallery O retrato para mim \u00e9 a expres...    nocode   \n",
              "408   @MorpethSch students got to try their hand at ...    nocode   \n",
              "\n",
              "     distilbert_sentiment  \n",
              "1505             NEGATIVE  \n",
              "2399             POSITIVE  \n",
              "1814             NEGATIVE  \n",
              "511              POSITIVE  \n",
              "1565             POSITIVE  \n",
              "790              NEGATIVE  \n",
              "354              NEGATIVE  \n",
              "1651             NEGATIVE  \n",
              "2859             NEGATIVE  \n",
              "408              NEGATIVE  "
            ],
            "text/html": [
              "\n",
              "  <div id=\"df-46f02797-b9df-4b5f-be97-b88809679e14\" class=\"colab-df-container\">\n",
              "    <div>\n",
              "<style scoped>\n",
              "    .dataframe tbody tr th:only-of-type {\n",
              "        vertical-align: middle;\n",
              "    }\n",
              "\n",
              "    .dataframe tbody tr th {\n",
              "        vertical-align: top;\n",
              "    }\n",
              "\n",
              "    .dataframe thead th {\n",
              "        text-align: right;\n",
              "    }\n",
              "</style>\n",
              "<table border=\"1\" class=\"dataframe\">\n",
              "  <thead>\n",
              "    <tr style=\"text-align: right;\">\n",
              "      <th></th>\n",
              "      <th>text</th>\n",
              "      <th>label</th>\n",
              "      <th>distilbert_sentiment</th>\n",
              "    </tr>\n",
              "  </thead>\n",
              "  <tbody>\n",
              "    <tr>\n",
              "      <th>1505</th>\n",
              "      <td>pindah lagi ehehe (at @nationalgallery) \u2014 http...</td>\n",
              "      <td>nocode</td>\n",
              "      <td>NEGATIVE</td>\n",
              "    </tr>\n",
              "    <tr>\n",
              "      <th>2399</th>\n",
              "      <td>@DavidSmithArt @roshvarosha @LisaLooly @newman...</td>\n",
              "      <td>happy</td>\n",
              "      <td>POSITIVE</td>\n",
              "    </tr>\n",
              "    <tr>\n",
              "      <th>1814</th>\n",
              "      <td>Roman gem engraved with Odysseus, his ship, an...</td>\n",
              "      <td>nocode</td>\n",
              "      <td>NEGATIVE</td>\n",
              "    </tr>\n",
              "    <tr>\n",
              "      <th>511</th>\n",
              "      <td>An exciting announcement soon :) @RAMMuseum #e...</td>\n",
              "      <td>happy</td>\n",
              "      <td>POSITIVE</td>\n",
              "    </tr>\n",
              "    <tr>\n",
              "      <th>1565</th>\n",
              "      <td>Excited to have a FLASH Residency at @Studio44...</td>\n",
              "      <td>happy</td>\n",
              "      <td>POSITIVE</td>\n",
              "    </tr>\n",
              "    <tr>\n",
              "      <th>790</th>\n",
              "      <td>The Astronomers of Babylon (explorable website...</td>\n",
              "      <td>nocode</td>\n",
              "      <td>NEGATIVE</td>\n",
              "    </tr>\n",
              "    <tr>\n",
              "      <th>354</th>\n",
              "      <td>John H. Taylor du @britishmuseum \"The collecti...</td>\n",
              "      <td>nocode</td>\n",
              "      <td>NEGATIVE</td>\n",
              "    </tr>\n",
              "    <tr>\n",
              "      <th>1651</th>\n",
              "      <td>@NationalGallery Wait, no, is there a secret L...</td>\n",
              "      <td>surprise</td>\n",
              "      <td>NEGATIVE</td>\n",
              "    </tr>\n",
              "    <tr>\n",
              "      <th>2859</th>\n",
              "      <td>@NationalGallery O retrato para mim \u00e9 a expres...</td>\n",
              "      <td>nocode</td>\n",
              "      <td>NEGATIVE</td>\n",
              "    </tr>\n",
              "    <tr>\n",
              "      <th>408</th>\n",
              "      <td>@MorpethSch students got to try their hand at ...</td>\n",
              "      <td>nocode</td>\n",
              "      <td>NEGATIVE</td>\n",
              "    </tr>\n",
              "  </tbody>\n",
              "</table>\n",
              "</div>\n",
              "    <div class=\"colab-df-buttons\">\n",
              "\n",
              "  <div class=\"colab-df-container\">\n",
              "    <button class=\"colab-df-convert\" onclick=\"convertToInteractive('df-46f02797-b9df-4b5f-be97-b88809679e14')\"\n",
              "            title=\"Convert this dataframe to an interactive table.\"\n",
              "            style=\"display:none;\">\n",
              "\n",
              "  <svg xmlns=\"http://www.w3.org/2000/svg\" height=\"24px\" viewBox=\"0 -960 960 960\">\n",
              "    <path d=\"M120-120v-720h720v720H120Zm60-500h600v-160H180v160Zm220 220h160v-160H400v160Zm0 220h160v-160H400v160ZM180-400h160v-160H180v160Zm440 0h160v-160H620v160ZM180-180h160v-160H180v160Zm440 0h160v-160H620v160Z\"/>\n",
              "  </svg>\n",
              "    </button>\n",
              "\n",
              "  <style>\n",
              "    .colab-df-container {\n",
              "      display:flex;\n",
              "      gap: 12px;\n",
              "    }\n",
              "\n",
              "    .colab-df-convert {\n",
              "      background-color: #E8F0FE;\n",
              "      border: none;\n",
              "      border-radius: 50%;\n",
              "      cursor: pointer;\n",
              "      display: none;\n",
              "      fill: #1967D2;\n",
              "      height: 32px;\n",
              "      padding: 0 0 0 0;\n",
              "      width: 32px;\n",
              "    }\n",
              "\n",
              "    .colab-df-convert:hover {\n",
              "      background-color: #E2EBFA;\n",
              "      box-shadow: 0px 1px 2px rgba(60, 64, 67, 0.3), 0px 1px 3px 1px rgba(60, 64, 67, 0.15);\n",
              "      fill: #174EA6;\n",
              "    }\n",
              "\n",
              "    .colab-df-buttons div {\n",
              "      margin-bottom: 4px;\n",
              "    }\n",
              "\n",
              "    [theme=dark] .colab-df-convert {\n",
              "      background-color: #3B4455;\n",
              "      fill: #D2E3FC;\n",
              "    }\n",
              "\n",
              "    [theme=dark] .colab-df-convert:hover {\n",
              "      background-color: #434B5C;\n",
              "      box-shadow: 0px 1px 3px 1px rgba(0, 0, 0, 0.15);\n",
              "      filter: drop-shadow(0px 1px 2px rgba(0, 0, 0, 0.3));\n",
              "      fill: #FFFFFF;\n",
              "    }\n",
              "  </style>\n",
              "\n",
              "    <script>\n",
              "      const buttonEl =\n",
              "        document.querySelector('#df-46f02797-b9df-4b5f-be97-b88809679e14 button.colab-df-convert');\n",
              "      buttonEl.style.display =\n",
              "        google.colab.kernel.accessAllowed ? 'block' : 'none';\n",
              "\n",
              "      async function convertToInteractive(key) {\n",
              "        const element = document.querySelector('#df-46f02797-b9df-4b5f-be97-b88809679e14');\n",
              "        const dataTable =\n",
              "          await google.colab.kernel.invokeFunction('convertToInteractive',\n",
              "                                                    [key], {});\n",
              "        if (!dataTable) return;\n",
              "\n",
              "        const docLinkHtml = 'Like what you see? Visit the ' +\n",
              "          '<a target=\"_blank\" href=https://colab.research.google.com/notebooks/data_table.ipynb>data table notebook</a>'\n",
              "          + ' to learn more about interactive tables.';\n",
              "        element.innerHTML = '';\n",
              "        dataTable['output_type'] = 'display_data';\n",
              "        await google.colab.output.renderOutput(dataTable, element);\n",
              "        const docLink = document.createElement('div');\n",
              "        docLink.innerHTML = docLinkHtml;\n",
              "        element.appendChild(docLink);\n",
              "      }\n",
              "    </script>\n",
              "  </div>\n",
              "\n",
              "\n",
              "    <div id=\"df-ff2c8f73-663d-42b4-96b1-f8a8af11afee\">\n",
              "      <button class=\"colab-df-quickchart\" onclick=\"quickchart('df-ff2c8f73-663d-42b4-96b1-f8a8af11afee')\"\n",
              "                title=\"Suggest charts\"\n",
              "                style=\"display:none;\">\n",
              "\n",
              "<svg xmlns=\"http://www.w3.org/2000/svg\" height=\"24px\"viewBox=\"0 0 24 24\"\n",
              "     width=\"24px\">\n",
              "    <g>\n",
              "        <path d=\"M19 3H5c-1.1 0-2 .9-2 2v14c0 1.1.9 2 2 2h14c1.1 0 2-.9 2-2V5c0-1.1-.9-2-2-2zM9 17H7v-7h2v7zm4 0h-2V7h2v10zm4 0h-2v-4h2v4z\"/>\n",
              "    </g>\n",
              "</svg>\n",
              "      </button>\n",
              "\n",
              "<style>\n",
              "  .colab-df-quickchart {\n",
              "      --bg-color: #E8F0FE;\n",
              "      --fill-color: #1967D2;\n",
              "      --hover-bg-color: #E2EBFA;\n",
              "      --hover-fill-color: #174EA6;\n",
              "      --disabled-fill-color: #AAA;\n",
              "      --disabled-bg-color: #DDD;\n",
              "  }\n",
              "\n",
              "  [theme=dark] .colab-df-quickchart {\n",
              "      --bg-color: #3B4455;\n",
              "      --fill-color: #D2E3FC;\n",
              "      --hover-bg-color: #434B5C;\n",
              "      --hover-fill-color: #FFFFFF;\n",
              "      --disabled-bg-color: #3B4455;\n",
              "      --disabled-fill-color: #666;\n",
              "  }\n",
              "\n",
              "  .colab-df-quickchart {\n",
              "    background-color: var(--bg-color);\n",
              "    border: none;\n",
              "    border-radius: 50%;\n",
              "    cursor: pointer;\n",
              "    display: none;\n",
              "    fill: var(--fill-color);\n",
              "    height: 32px;\n",
              "    padding: 0;\n",
              "    width: 32px;\n",
              "  }\n",
              "\n",
              "  .colab-df-quickchart:hover {\n",
              "    background-color: var(--hover-bg-color);\n",
              "    box-shadow: 0 1px 2px rgba(60, 64, 67, 0.3), 0 1px 3px 1px rgba(60, 64, 67, 0.15);\n",
              "    fill: var(--button-hover-fill-color);\n",
              "  }\n",
              "\n",
              "  .colab-df-quickchart-complete:disabled,\n",
              "  .colab-df-quickchart-complete:disabled:hover {\n",
              "    background-color: var(--disabled-bg-color);\n",
              "    fill: var(--disabled-fill-color);\n",
              "    box-shadow: none;\n",
              "  }\n",
              "\n",
              "  .colab-df-spinner {\n",
              "    border: 2px solid var(--fill-color);\n",
              "    border-color: transparent;\n",
              "    border-bottom-color: var(--fill-color);\n",
              "    animation:\n",
              "      spin 1s steps(1) infinite;\n",
              "  }\n",
              "\n",
              "  @keyframes spin {\n",
              "    0% {\n",
              "      border-color: transparent;\n",
              "      border-bottom-color: var(--fill-color);\n",
              "      border-left-color: var(--fill-color);\n",
              "    }\n",
              "    20% {\n",
              "      border-color: transparent;\n",
              "      border-left-color: var(--fill-color);\n",
              "      border-top-color: var(--fill-color);\n",
              "    }\n",
              "    30% {\n",
              "      border-color: transparent;\n",
              "      border-left-color: var(--fill-color);\n",
              "      border-top-color: var(--fill-color);\n",
              "      border-right-color: var(--fill-color);\n",
              "    }\n",
              "    40% {\n",
              "      border-color: transparent;\n",
              "      border-right-color: var(--fill-color);\n",
              "      border-top-color: var(--fill-color);\n",
              "    }\n",
              "    60% {\n",
              "      border-color: transparent;\n",
              "      border-right-color: var(--fill-color);\n",
              "    }\n",
              "    80% {\n",
              "      border-color: transparent;\n",
              "      border-right-color: var(--fill-color);\n",
              "      border-bottom-color: var(--fill-color);\n",
              "    }\n",
              "    90% {\n",
              "      border-color: transparent;\n",
              "      border-bottom-color: var(--fill-color);\n",
              "    }\n",
              "  }\n",
              "</style>\n",
              "\n",
              "      <script>\n",
              "        async function quickchart(key) {\n",
              "          const quickchartButtonEl =\n",
              "            document.querySelector('#' + key + ' button');\n",
              "          quickchartButtonEl.disabled = true;  // To prevent multiple clicks.\n",
              "          quickchartButtonEl.classList.add('colab-df-spinner');\n",
              "          try {\n",
              "            const charts = await google.colab.kernel.invokeFunction(\n",
              "                'suggestCharts', [key], {});\n",
              "          } catch (error) {\n",
              "            console.error('Error during call to suggestCharts:', error);\n",
              "          }\n",
              "          quickchartButtonEl.classList.remove('colab-df-spinner');\n",
              "          quickchartButtonEl.classList.add('colab-df-quickchart-complete');\n",
              "        }\n",
              "        (() => {\n",
              "          let quickchartButtonEl =\n",
              "            document.querySelector('#df-ff2c8f73-663d-42b4-96b1-f8a8af11afee button');\n",
              "          quickchartButtonEl.style.display =\n",
              "            google.colab.kernel.accessAllowed ? 'block' : 'none';\n",
              "        })();\n",
              "      </script>\n",
              "    </div>\n",
              "\n",
              "    </div>\n",
              "  </div>\n"
            ],
            "application/vnd.google.colaboratory.intrinsic+json": {
              "type": "dataframe",
              "summary": "{\n  \"name\": \"test_df[[\\\"text\\\", \\\"label\\\", \\\"distilbert_sentiment\\\"]]\",\n  \"rows\": 10,\n  \"fields\": [\n    {\n      \"column\": \"text\",\n      \"properties\": {\n        \"dtype\": \"string\",\n        \"num_unique_values\": 10,\n        \"samples\": [\n          \"@NationalGallery O retrato para mim \\u00e9 a express\\u00e3o mais sincera da personalidade de uma pessoa, ao contr\\u00e1rio das self  que vira um espectro\",\n          \"@DavidSmithArt @roshvarosha @LisaLooly @newmanmpaul @DrawntoDevon @ThelmaHulbert Thank you :-)\",\n          \"The Astronomers of Babylon (explorable website) by @britishmuseum http://t.co/XSyJcM1ua8 http://t.co/NqoViXK22h\"\n        ],\n        \"semantic_type\": \"\",\n        \"description\": \"\"\n      }\n    },\n    {\n      \"column\": \"label\",\n      \"properties\": {\n        \"dtype\": \"category\",\n        \"num_unique_values\": 3,\n        \"samples\": [\n          \"nocode\",\n          \"happy\",\n          \"surprise\"\n        ],\n        \"semantic_type\": \"\",\n        \"description\": \"\"\n      }\n    },\n    {\n      \"column\": \"distilbert_sentiment\",\n      \"properties\": {\n        \"dtype\": \"category\",\n        \"num_unique_values\": 2,\n        \"samples\": [\n          \"POSITIVE\",\n          \"NEGATIVE\"\n        ],\n        \"semantic_type\": \"\",\n        \"description\": \"\"\n      }\n    }\n  ]\n}"
            }
          },
          "metadata": {},
          "execution_count": 75
        }
      ],
      "source": [
        "# Display results\n",
        "test_df[[\"text\", \"label\", \"distilbert_sentiment\"]].head(10)"
      ]
    },
    {
      "cell_type": "code",
      "execution_count": 76,
      "metadata": {
        "colab": {
          "base_uri": "https://localhost:8080/"
        },
        "id": "Tqzxbhnc5qS3",
        "outputId": "716f6ea2-d5a3-43b4-e45e-698d657d14bf"
      },
      "outputs": [
        {
          "output_type": "stream",
          "name": "stdout",
          "text": [
            "DistilBERT Accuracy: 0.0000\n"
          ]
        }
      ],
      "source": [
        "# Evaluate accuracy\n",
        "accuracy = accuracy_score(test_df[\"label\"], test_df[\"distilbert_sentiment\"])\n",
        "print(f\"DistilBERT Accuracy: {accuracy:.4f}\")"
      ]
    },
    {
      "cell_type": "markdown",
      "source": [],
      "metadata": {
        "id": "RHLi41lxEbCB"
      }
    },
    {
      "cell_type": "markdown",
      "source": [
        "### Re-training the `DistilBERT model` to handel Multiple Sentiments"
      ],
      "metadata": {
        "id": "S36fG8MWxnpX"
      }
    },
    {
      "cell_type": "code",
      "source": [
        "X1_train_tokens = distil_tokenizer(X2_train.tolist(),\n",
        "                                    padding=True,\n",
        "                                    truncation=True,\n",
        "                                    max_length=128,\n",
        "                                    return_tensors=\"pt\")\n",
        "\n",
        "X1_test_tokens = distil_tokenizer(X2_test.tolist(),\n",
        "                                    padding=True,\n",
        "                                    truncation=True,\n",
        "                                    max_length=128,\n",
        "                                    return_tensors=\"pt\")"
      ],
      "metadata": {
        "id": "fmsygvCODgCy"
      },
      "execution_count": 77,
      "outputs": []
    },
    {
      "cell_type": "code",
      "source": [
        "device"
      ],
      "metadata": {
        "colab": {
          "base_uri": "https://localhost:8080/",
          "height": 36
        },
        "id": "6DmEy01yG-yz",
        "outputId": "0cf9a964-fcf4-4208-a38a-b9525ff25f45"
      },
      "execution_count": 78,
      "outputs": [
        {
          "output_type": "execute_result",
          "data": {
            "text/plain": [
              "'cuda'"
            ],
            "application/vnd.google.colaboratory.intrinsic+json": {
              "type": "string"
            }
          },
          "metadata": {},
          "execution_count": 78
        }
      ]
    },
    {
      "cell_type": "code",
      "source": [
        "train_dataset_d = Dataset.from_dict({\n",
        "    'input_ids': X1_train_tokens['input_ids'].tolist(),\n",
        "    'attention_mask': X1_train_tokens['attention_mask'].tolist(),\n",
        "    'labels': y_train.astype('float32').tolist()\n",
        "})\n",
        "test_dataset_d = Dataset.from_dict({\n",
        "    'input_ids': X1_test_tokens['input_ids'].tolist(),\n",
        "    'attention_mask': X1_test_tokens['attention_mask'].tolist(),\n",
        "    'labels': y_test.astype('float32').tolist()\n",
        "})\n",
        "\n",
        "train_dataset_d.set_format(type='torch', columns=['input_ids','attention_mask','labels'])\n",
        "test_dataset_d.set_format(type='torch', columns=['input_ids','attention_mask','labels'])\n"
      ],
      "metadata": {
        "id": "V4ZZ8D3vHKIZ"
      },
      "execution_count": 79,
      "outputs": []
    },
    {
      "cell_type": "code",
      "source": [
        "\n",
        "model_d = AutoModelForSequenceClassification.from_pretrained(\n",
        "    \"distilbert-base-uncased\",\n",
        "    num_labels=7,\n",
        "    problem_type=\"multi_label_classification\"\n",
        ")"
      ],
      "metadata": {
        "colab": {
          "base_uri": "https://localhost:8080/"
        },
        "id": "bAq0-5qYLjYX",
        "outputId": "7f67c76c-bb6f-4847-96f5-76aa1f8f4cde"
      },
      "execution_count": 80,
      "outputs": [
        {
          "output_type": "stream",
          "name": "stderr",
          "text": [
            "Some weights of DistilBertForSequenceClassification were not initialized from the model checkpoint at distilbert-base-uncased and are newly initialized: ['classifier.bias', 'classifier.weight', 'pre_classifier.bias', 'pre_classifier.weight']\n",
            "You should probably TRAIN this model on a down-stream task to be able to use it for predictions and inference.\n"
          ]
        }
      ]
    },
    {
      "cell_type": "code",
      "source": [
        "model_d = DistilBertForSequenceClassification.from_pretrained(\n",
        "    \"distilbert-base-uncased\",\n",
        "    num_labels=8,\n",
        "    problem_type=\"multi_label_classification\"\n",
        ")\n",
        "\n",
        "output.disable_custom_widget_manager()\n",
        "torch.cuda.empty_cache()\n",
        "model_d.to(device)\n",
        "\n",
        "training_args = TrainingArguments(\n",
        "    output_dir=\"./sentiment-model-distil\",\n",
        "    num_train_epochs=4,\n",
        "    per_device_train_batch_size=16,\n",
        "    per_device_eval_batch_size=16,\n",
        "    learning_rate=5e-5,\n",
        "    weight_decay=0.1,\n",
        "    eval_strategy=\"epoch\",\n",
        "    save_strategy=\"epoch\",\n",
        "    load_best_model_at_end=True,\n",
        "    report_to=\"none\",\n",
        "    seed=42\n",
        ")\n",
        "\n",
        "distil_trainer = Trainer(\n",
        "    model=model_d,\n",
        "    args=training_args,\n",
        "    train_dataset=train_dataset_d,\n",
        "    eval_dataset=test_dataset_d,\n",
        "    tokenizer=distil_tokenizer\n",
        ")\n",
        "\n",
        "\n",
        "distil_trainer.train()\n",
        "\n",
        "model_d.save_pretrained(\"./my-sentiment-model-distil\")\n",
        "distil_tokenizer.save_pretrained(\"./my-sentiment-model-distil\")"
      ],
      "metadata": {
        "id": "HAo9qJrO_G33",
        "outputId": "97362027-4714-42bd-9f08-de5abaf63d92",
        "colab": {
          "base_uri": "https://localhost:8080/",
          "height": 348
        }
      },
      "execution_count": 81,
      "outputs": [
        {
          "output_type": "stream",
          "name": "stderr",
          "text": [
            "Some weights of DistilBertForSequenceClassification were not initialized from the model checkpoint at distilbert-base-uncased and are newly initialized: ['classifier.bias', 'classifier.weight', 'pre_classifier.bias', 'pre_classifier.weight']\n",
            "You should probably TRAIN this model on a down-stream task to be able to use it for predictions and inference.\n",
            "/tmp/ipython-input-910584110.py:25: FutureWarning: `tokenizer` is deprecated and will be removed in version 5.0.0 for `Trainer.__init__`. Use `processing_class` instead.\n",
            "  distil_trainer = Trainer(\n"
          ]
        },
        {
          "output_type": "display_data",
          "data": {
            "text/plain": [
              "<IPython.core.display.HTML object>"
            ],
            "text/html": [
              "\n",
              "    <div>\n",
              "      \n",
              "      <progress value='620' max='620' style='width:300px; height:20px; vertical-align: middle;'></progress>\n",
              "      [620/620 00:29, Epoch 4/4]\n",
              "    </div>\n",
              "    <table border=\"1\" class=\"dataframe\">\n",
              "  <thead>\n",
              " <tr style=\"text-align: left;\">\n",
              "      <th>Epoch</th>\n",
              "      <th>Training Loss</th>\n",
              "      <th>Validation Loss</th>\n",
              "    </tr>\n",
              "  </thead>\n",
              "  <tbody>\n",
              "    <tr>\n",
              "      <td>1</td>\n",
              "      <td>No log</td>\n",
              "      <td>0.169604</td>\n",
              "    </tr>\n",
              "    <tr>\n",
              "      <td>2</td>\n",
              "      <td>No log</td>\n",
              "      <td>0.149579</td>\n",
              "    </tr>\n",
              "    <tr>\n",
              "      <td>3</td>\n",
              "      <td>No log</td>\n",
              "      <td>0.154853</td>\n",
              "    </tr>\n",
              "    <tr>\n",
              "      <td>4</td>\n",
              "      <td>0.150100</td>\n",
              "      <td>0.156146</td>\n",
              "    </tr>\n",
              "  </tbody>\n",
              "</table><p>"
            ]
          },
          "metadata": {}
        },
        {
          "output_type": "execute_result",
          "data": {
            "text/plain": [
              "('./my-sentiment-model-distil/tokenizer_config.json',\n",
              " './my-sentiment-model-distil/special_tokens_map.json',\n",
              " './my-sentiment-model-distil/vocab.txt',\n",
              " './my-sentiment-model-distil/added_tokens.json')"
            ]
          },
          "metadata": {},
          "execution_count": 81
        }
      ]
    },
    {
      "cell_type": "code",
      "source": [
        "base_sentiments = mlb.classes_\n",
        "\n",
        "label2id = {label: idx for idx, label in enumerate(base_sentiments)}\n",
        "id2label = {idx: label for idx, label in enumerate(base_sentiments)}"
      ],
      "metadata": {
        "id": "W-ATaY0Gqycx"
      },
      "execution_count": 82,
      "outputs": []
    },
    {
      "cell_type": "code",
      "source": [
        "def predict_sentiments_distil(text, threshold=0.5):\n",
        "    inputs = distil_tokenizer(text, return_tensors=\"pt\", truncation=True, max_length=128)\n",
        "    inputs = {k: v.to(device) for k, v in inputs.items()}\n",
        "\n",
        "    with torch.no_grad():\n",
        "        outputs = model_d(**inputs)\n",
        "\n",
        "    logits = outputs.logits\n",
        "    probs = torch.sigmoid(logits)[0].cpu().numpy()\n",
        "\n",
        "    print(\"All probabilities:\")\n",
        "    for idx, prob in enumerate(probs):\n",
        "        sentiment = id2label[idx]\n",
        "        print(f\"  {sentiment}: {prob:.4f}\")\n",
        "\n",
        "    predictions = {}\n",
        "    for idx, prob in enumerate(probs):\n",
        "        sentiment = id2label[idx]\n",
        "        if prob >= threshold:\n",
        "            predictions[sentiment] = float(prob)\n",
        "\n",
        "    return predictions\n",
        "\n",
        "result = predict_sentiments_distil(\"I'm so scared of the recent politcs from both parties\", threshold=0.3)\n",
        "print(f\"Sentiments: {result}\")"
      ],
      "metadata": {
        "id": "BfrHGMqk8zpA",
        "colab": {
          "base_uri": "https://localhost:8080/"
        },
        "outputId": "e9c2c2a8-58be-45a1-9b0b-a6f17bbbf95b"
      },
      "execution_count": 83,
      "outputs": [
        {
          "output_type": "stream",
          "name": "stdout",
          "text": [
            "All probabilities:\n",
            "  angry: 0.1852\n",
            "  disgust: 0.0446\n",
            "  fear: 0.0257\n",
            "  happy: 0.2551\n",
            "  nocode: 0.2885\n",
            "  not-relevant: 0.1326\n",
            "  sad: 0.1045\n",
            "  surprise: 0.1195\n",
            "Sentiments: {}\n"
          ]
        }
      ]
    },
    {
      "cell_type": "markdown",
      "metadata": {
        "id": "tNA4CR-Uxn1_"
      },
      "source": [
        "## Data Pre-processing for roBERTa model\n",
        "\n",
        "- Tweets were processed using recommend method in model [documentation](https://huggingface.co/cardiffnlp/twitter-roberta-base-sentiment)\n",
        "  - Specifically usernames and hyperlinks were reduced to `@user` and `http` respectively\n",
        "- Tweets were tokenized and stored in X2_train and X2_test"
      ]
    },
    {
      "cell_type": "code",
      "execution_count": 84,
      "metadata": {
        "colab": {
          "base_uri": "https://localhost:8080/",
          "height": 206
        },
        "id": "sMTrMWvmBDAJ",
        "outputId": "63e834ae-27bc-4cc3-b2a8-594c00a0dd7d"
      },
      "outputs": [
        {
          "output_type": "display_data",
          "data": {
            "text/plain": [
              "                                                text  label\n",
              "1                            i didnt feel humiliated    sad\n",
              "2  i can go from feeling so hopeless to so damned...    sad\n",
              "3   im grabbing a minute to post i feel greedy wrong  angry\n",
              "4  i am ever feeling nostalgic about the fireplac...  happy\n",
              "5                               i am feeling grouchy  angry"
            ],
            "text/html": [
              "\n",
              "  <div id=\"df-3e1e8836-2aa7-44c7-b1d3-58dd1b924a8c\" class=\"colab-df-container\">\n",
              "    <div>\n",
              "<style scoped>\n",
              "    .dataframe tbody tr th:only-of-type {\n",
              "        vertical-align: middle;\n",
              "    }\n",
              "\n",
              "    .dataframe tbody tr th {\n",
              "        vertical-align: top;\n",
              "    }\n",
              "\n",
              "    .dataframe thead th {\n",
              "        text-align: right;\n",
              "    }\n",
              "</style>\n",
              "<table border=\"1\" class=\"dataframe\">\n",
              "  <thead>\n",
              "    <tr style=\"text-align: right;\">\n",
              "      <th></th>\n",
              "      <th>text</th>\n",
              "      <th>label</th>\n",
              "    </tr>\n",
              "  </thead>\n",
              "  <tbody>\n",
              "    <tr>\n",
              "      <th>1</th>\n",
              "      <td>i didnt feel humiliated</td>\n",
              "      <td>sad</td>\n",
              "    </tr>\n",
              "    <tr>\n",
              "      <th>2</th>\n",
              "      <td>i can go from feeling so hopeless to so damned...</td>\n",
              "      <td>sad</td>\n",
              "    </tr>\n",
              "    <tr>\n",
              "      <th>3</th>\n",
              "      <td>im grabbing a minute to post i feel greedy wrong</td>\n",
              "      <td>angry</td>\n",
              "    </tr>\n",
              "    <tr>\n",
              "      <th>4</th>\n",
              "      <td>i am ever feeling nostalgic about the fireplac...</td>\n",
              "      <td>happy</td>\n",
              "    </tr>\n",
              "    <tr>\n",
              "      <th>5</th>\n",
              "      <td>i am feeling grouchy</td>\n",
              "      <td>angry</td>\n",
              "    </tr>\n",
              "  </tbody>\n",
              "</table>\n",
              "</div>\n",
              "    <div class=\"colab-df-buttons\">\n",
              "\n",
              "  <div class=\"colab-df-container\">\n",
              "    <button class=\"colab-df-convert\" onclick=\"convertToInteractive('df-3e1e8836-2aa7-44c7-b1d3-58dd1b924a8c')\"\n",
              "            title=\"Convert this dataframe to an interactive table.\"\n",
              "            style=\"display:none;\">\n",
              "\n",
              "  <svg xmlns=\"http://www.w3.org/2000/svg\" height=\"24px\" viewBox=\"0 -960 960 960\">\n",
              "    <path d=\"M120-120v-720h720v720H120Zm60-500h600v-160H180v160Zm220 220h160v-160H400v160Zm0 220h160v-160H400v160ZM180-400h160v-160H180v160Zm440 0h160v-160H620v160ZM180-180h160v-160H180v160Zm440 0h160v-160H620v160Z\"/>\n",
              "  </svg>\n",
              "    </button>\n",
              "\n",
              "  <style>\n",
              "    .colab-df-container {\n",
              "      display:flex;\n",
              "      gap: 12px;\n",
              "    }\n",
              "\n",
              "    .colab-df-convert {\n",
              "      background-color: #E8F0FE;\n",
              "      border: none;\n",
              "      border-radius: 50%;\n",
              "      cursor: pointer;\n",
              "      display: none;\n",
              "      fill: #1967D2;\n",
              "      height: 32px;\n",
              "      padding: 0 0 0 0;\n",
              "      width: 32px;\n",
              "    }\n",
              "\n",
              "    .colab-df-convert:hover {\n",
              "      background-color: #E2EBFA;\n",
              "      box-shadow: 0px 1px 2px rgba(60, 64, 67, 0.3), 0px 1px 3px 1px rgba(60, 64, 67, 0.15);\n",
              "      fill: #174EA6;\n",
              "    }\n",
              "\n",
              "    .colab-df-buttons div {\n",
              "      margin-bottom: 4px;\n",
              "    }\n",
              "\n",
              "    [theme=dark] .colab-df-convert {\n",
              "      background-color: #3B4455;\n",
              "      fill: #D2E3FC;\n",
              "    }\n",
              "\n",
              "    [theme=dark] .colab-df-convert:hover {\n",
              "      background-color: #434B5C;\n",
              "      box-shadow: 0px 1px 3px 1px rgba(0, 0, 0, 0.15);\n",
              "      filter: drop-shadow(0px 1px 2px rgba(0, 0, 0, 0.3));\n",
              "      fill: #FFFFFF;\n",
              "    }\n",
              "  </style>\n",
              "\n",
              "    <script>\n",
              "      const buttonEl =\n",
              "        document.querySelector('#df-3e1e8836-2aa7-44c7-b1d3-58dd1b924a8c button.colab-df-convert');\n",
              "      buttonEl.style.display =\n",
              "        google.colab.kernel.accessAllowed ? 'block' : 'none';\n",
              "\n",
              "      async function convertToInteractive(key) {\n",
              "        const element = document.querySelector('#df-3e1e8836-2aa7-44c7-b1d3-58dd1b924a8c');\n",
              "        const dataTable =\n",
              "          await google.colab.kernel.invokeFunction('convertToInteractive',\n",
              "                                                    [key], {});\n",
              "        if (!dataTable) return;\n",
              "\n",
              "        const docLinkHtml = 'Like what you see? Visit the ' +\n",
              "          '<a target=\"_blank\" href=https://colab.research.google.com/notebooks/data_table.ipynb>data table notebook</a>'\n",
              "          + ' to learn more about interactive tables.';\n",
              "        element.innerHTML = '';\n",
              "        dataTable['output_type'] = 'display_data';\n",
              "        await google.colab.output.renderOutput(dataTable, element);\n",
              "        const docLink = document.createElement('div');\n",
              "        docLink.innerHTML = docLinkHtml;\n",
              "        element.appendChild(docLink);\n",
              "      }\n",
              "    </script>\n",
              "  </div>\n",
              "\n",
              "\n",
              "    <div id=\"df-71a3e7fc-8804-4832-bd0f-3a24662d9caa\">\n",
              "      <button class=\"colab-df-quickchart\" onclick=\"quickchart('df-71a3e7fc-8804-4832-bd0f-3a24662d9caa')\"\n",
              "                title=\"Suggest charts\"\n",
              "                style=\"display:none;\">\n",
              "\n",
              "<svg xmlns=\"http://www.w3.org/2000/svg\" height=\"24px\"viewBox=\"0 0 24 24\"\n",
              "     width=\"24px\">\n",
              "    <g>\n",
              "        <path d=\"M19 3H5c-1.1 0-2 .9-2 2v14c0 1.1.9 2 2 2h14c1.1 0 2-.9 2-2V5c0-1.1-.9-2-2-2zM9 17H7v-7h2v7zm4 0h-2V7h2v10zm4 0h-2v-4h2v4z\"/>\n",
              "    </g>\n",
              "</svg>\n",
              "      </button>\n",
              "\n",
              "<style>\n",
              "  .colab-df-quickchart {\n",
              "      --bg-color: #E8F0FE;\n",
              "      --fill-color: #1967D2;\n",
              "      --hover-bg-color: #E2EBFA;\n",
              "      --hover-fill-color: #174EA6;\n",
              "      --disabled-fill-color: #AAA;\n",
              "      --disabled-bg-color: #DDD;\n",
              "  }\n",
              "\n",
              "  [theme=dark] .colab-df-quickchart {\n",
              "      --bg-color: #3B4455;\n",
              "      --fill-color: #D2E3FC;\n",
              "      --hover-bg-color: #434B5C;\n",
              "      --hover-fill-color: #FFFFFF;\n",
              "      --disabled-bg-color: #3B4455;\n",
              "      --disabled-fill-color: #666;\n",
              "  }\n",
              "\n",
              "  .colab-df-quickchart {\n",
              "    background-color: var(--bg-color);\n",
              "    border: none;\n",
              "    border-radius: 50%;\n",
              "    cursor: pointer;\n",
              "    display: none;\n",
              "    fill: var(--fill-color);\n",
              "    height: 32px;\n",
              "    padding: 0;\n",
              "    width: 32px;\n",
              "  }\n",
              "\n",
              "  .colab-df-quickchart:hover {\n",
              "    background-color: var(--hover-bg-color);\n",
              "    box-shadow: 0 1px 2px rgba(60, 64, 67, 0.3), 0 1px 3px 1px rgba(60, 64, 67, 0.15);\n",
              "    fill: var(--button-hover-fill-color);\n",
              "  }\n",
              "\n",
              "  .colab-df-quickchart-complete:disabled,\n",
              "  .colab-df-quickchart-complete:disabled:hover {\n",
              "    background-color: var(--disabled-bg-color);\n",
              "    fill: var(--disabled-fill-color);\n",
              "    box-shadow: none;\n",
              "  }\n",
              "\n",
              "  .colab-df-spinner {\n",
              "    border: 2px solid var(--fill-color);\n",
              "    border-color: transparent;\n",
              "    border-bottom-color: var(--fill-color);\n",
              "    animation:\n",
              "      spin 1s steps(1) infinite;\n",
              "  }\n",
              "\n",
              "  @keyframes spin {\n",
              "    0% {\n",
              "      border-color: transparent;\n",
              "      border-bottom-color: var(--fill-color);\n",
              "      border-left-color: var(--fill-color);\n",
              "    }\n",
              "    20% {\n",
              "      border-color: transparent;\n",
              "      border-left-color: var(--fill-color);\n",
              "      border-top-color: var(--fill-color);\n",
              "    }\n",
              "    30% {\n",
              "      border-color: transparent;\n",
              "      border-left-color: var(--fill-color);\n",
              "      border-top-color: var(--fill-color);\n",
              "      border-right-color: var(--fill-color);\n",
              "    }\n",
              "    40% {\n",
              "      border-color: transparent;\n",
              "      border-right-color: var(--fill-color);\n",
              "      border-top-color: var(--fill-color);\n",
              "    }\n",
              "    60% {\n",
              "      border-color: transparent;\n",
              "      border-right-color: var(--fill-color);\n",
              "    }\n",
              "    80% {\n",
              "      border-color: transparent;\n",
              "      border-right-color: var(--fill-color);\n",
              "      border-bottom-color: var(--fill-color);\n",
              "    }\n",
              "    90% {\n",
              "      border-color: transparent;\n",
              "      border-bottom-color: var(--fill-color);\n",
              "    }\n",
              "  }\n",
              "</style>\n",
              "\n",
              "      <script>\n",
              "        async function quickchart(key) {\n",
              "          const quickchartButtonEl =\n",
              "            document.querySelector('#' + key + ' button');\n",
              "          quickchartButtonEl.disabled = true;  // To prevent multiple clicks.\n",
              "          quickchartButtonEl.classList.add('colab-df-spinner');\n",
              "          try {\n",
              "            const charts = await google.colab.kernel.invokeFunction(\n",
              "                'suggestCharts', [key], {});\n",
              "          } catch (error) {\n",
              "            console.error('Error during call to suggestCharts:', error);\n",
              "          }\n",
              "          quickchartButtonEl.classList.remove('colab-df-spinner');\n",
              "          quickchartButtonEl.classList.add('colab-df-quickchart-complete');\n",
              "        }\n",
              "        (() => {\n",
              "          let quickchartButtonEl =\n",
              "            document.querySelector('#df-71a3e7fc-8804-4832-bd0f-3a24662d9caa button');\n",
              "          quickchartButtonEl.style.display =\n",
              "            google.colab.kernel.accessAllowed ? 'block' : 'none';\n",
              "        })();\n",
              "      </script>\n",
              "    </div>\n",
              "\n",
              "    </div>\n",
              "  </div>\n"
            ],
            "application/vnd.google.colaboratory.intrinsic+json": {
              "type": "dataframe",
              "summary": "{\n  \"name\": \"display(alt_df\",\n  \"rows\": 5,\n  \"fields\": [\n    {\n      \"column\": \"text\",\n      \"properties\": {\n        \"dtype\": \"string\",\n        \"num_unique_values\": 5,\n        \"samples\": [\n          \"i can go from feeling so hopeless to so damned hopeful just from being around someone who cares and is awake\",\n          \"i am feeling grouchy\",\n          \"im grabbing a minute to post i feel greedy wrong\"\n        ],\n        \"semantic_type\": \"\",\n        \"description\": \"\"\n      }\n    },\n    {\n      \"column\": \"label\",\n      \"properties\": {\n        \"dtype\": \"string\",\n        \"num_unique_values\": 3,\n        \"samples\": [\n          \"sad\",\n          \"angry\",\n          \"happy\"\n        ],\n        \"semantic_type\": \"\",\n        \"description\": \"\"\n      }\n    }\n  ]\n}"
            }
          },
          "metadata": {}
        }
      ],
      "source": [
        "# Preprocess text data to replace user mentions and URLs\n",
        "def preprocess(text):\n",
        "    new_text = []\n",
        "    for t in text.split(\" \"):\n",
        "        t = '@user' if t.startswith('@') and len(t) > 1 else t\n",
        "        t = 'http' if t.startswith('http') else t\n",
        "        new_text.append(t)\n",
        "    return \" \".join(new_text)\n",
        "\n",
        "alt_df['text'] = alt_df['text'].apply(preprocess)\n",
        "\n",
        "# Display first few rows of the preprocessed DataFrame\n",
        "display(alt_df.head())"
      ]
    },
    {
      "cell_type": "markdown",
      "metadata": {
        "id": "JBBAofBB5qS3"
      },
      "source": [
        "We preprocessed the text data to standardize certain elements. User mentions (starting with @) were replaced with @user and URLs with http. This ensures the model focuses on the content of the text rather than specific usernames or links, which are not informative for sentiment analysis."
      ]
    },
    {
      "cell_type": "code",
      "execution_count": 85,
      "metadata": {
        "id": "0vPkDI1UBjkp",
        "colab": {
          "base_uri": "https://localhost:8080/",
          "height": 241
        },
        "outputId": "b0bca930-b381-4ea6-a67a-c09c276b6dba"
      },
      "outputs": [
        {
          "output_type": "execute_result",
          "data": {
            "text/plain": [
              "2634          I'm at @user in London, Greater London http\n",
              "2373    My favourite #oilpainting  'Tiger Tiger Burnin...\n",
              "839     Currently @user to discuss #DefeatingDepressio...\n",
              "2857                      @user thanks for the Favourite!\n",
              "761     Farron Gorey selfies before his performance at...\n",
              "Name: text, dtype: object"
            ],
            "text/html": [
              "<div>\n",
              "<style scoped>\n",
              "    .dataframe tbody tr th:only-of-type {\n",
              "        vertical-align: middle;\n",
              "    }\n",
              "\n",
              "    .dataframe tbody tr th {\n",
              "        vertical-align: top;\n",
              "    }\n",
              "\n",
              "    .dataframe thead th {\n",
              "        text-align: right;\n",
              "    }\n",
              "</style>\n",
              "<table border=\"1\" class=\"dataframe\">\n",
              "  <thead>\n",
              "    <tr style=\"text-align: right;\">\n",
              "      <th></th>\n",
              "      <th>text</th>\n",
              "    </tr>\n",
              "  </thead>\n",
              "  <tbody>\n",
              "    <tr>\n",
              "      <th>2634</th>\n",
              "      <td>I'm at @user in London, Greater London http</td>\n",
              "    </tr>\n",
              "    <tr>\n",
              "      <th>2373</th>\n",
              "      <td>My favourite #oilpainting  'Tiger Tiger Burnin...</td>\n",
              "    </tr>\n",
              "    <tr>\n",
              "      <th>839</th>\n",
              "      <td>Currently @user to discuss #DefeatingDepressio...</td>\n",
              "    </tr>\n",
              "    <tr>\n",
              "      <th>2857</th>\n",
              "      <td>@user thanks for the Favourite!</td>\n",
              "    </tr>\n",
              "    <tr>\n",
              "      <th>761</th>\n",
              "      <td>Farron Gorey selfies before his performance at...</td>\n",
              "    </tr>\n",
              "  </tbody>\n",
              "</table>\n",
              "</div><br><label><b>dtype:</b> object</label>"
            ]
          },
          "metadata": {},
          "execution_count": 85
        }
      ],
      "source": [
        "# Apply preprocessing to training and testing sets\n",
        "X2_train = X_train['text'].apply(preprocess)\n",
        "X2_test = X_test['text'].apply(preprocess)\n",
        "X2_train.head()"
      ]
    },
    {
      "cell_type": "markdown",
      "metadata": {
        "id": "72q40aIQ5qTA"
      },
      "source": [
        "Next, we applied the same preprocessing to the training and test sets, replacing user mentions and URLs to ensure consistency across all data fed into the model. Displaying the first few rows confirms that the text has been correctly standardized."
      ]
    },
    {
      "cell_type": "code",
      "execution_count": 86,
      "metadata": {
        "id": "JMkHoqGNX23r"
      },
      "outputs": [],
      "source": [
        "# Apply label encoding for single-label classification\n",
        "le_alt = LabelEncoder()\n",
        "alt_df['label_enc'] = le_alt.fit_transform(alt_df['label'])  # This gives you integer class labels\n",
        "\n",
        "# Split again to maintain consistency\n",
        "alt_train, alt_eval = train_test_split(alt_df, test_size=0.2, random_state=42)\n",
        "\n",
        "# Tokenize\n",
        "tokens_train = roberta_tokenizer(alt_train['text'].tolist(), padding=True, truncation=True, max_length=128, return_tensors=\"pt\")\n",
        "tokens_eval = roberta_tokenizer(alt_eval['text'].tolist(), padding=True, truncation=True, max_length=128, return_tensors=\"pt\")\n",
        "\n",
        "# Integer labels for single-label classification\n",
        "y_alt_train = alt_train['label_enc'].tolist()\n",
        "y_alt_eval = alt_eval['label_enc'].tolist()"
      ]
    },
    {
      "cell_type": "markdown",
      "metadata": {
        "id": "FzG-s4AP5qTA"
      },
      "source": [
        "For the single-label RoBERTa model, we converted text labels into integer class labels using label encoding, which simplifies the output for models that predict only one label per text. We then split the combined dataset into training and evaluation sets to maintain consistency during training and validation. Finally, we tokenized the text using the RoBERTa tokenizer, preparing it for model input, and extracted the integer labels for training and evaluation."
      ]
    },
    {
      "cell_type": "code",
      "execution_count": 87,
      "metadata": {
        "id": "hnFgnYVdBrav"
      },
      "outputs": [],
      "source": [
        "# Get base sentiment labels\n",
        "base_sentiments = mlb.classes_\n",
        "\n",
        "label2id = {label: idx for idx, label in enumerate(base_sentiments)}\n",
        "id2label = {idx: label for idx, label in enumerate(base_sentiments)}"
      ]
    },
    {
      "cell_type": "markdown",
      "metadata": {
        "id": "oB0qxBaH5qTB"
      },
      "source": [
        "We defined the base sentiment classes and created mapping dictionaries (`label2id` and `id2label`) to easily convert between label names and numeric IDs. This is essential for the model to correctly interpret outputs and match predictions with their corresponding sentiment labels."
      ]
    },
    {
      "cell_type": "code",
      "execution_count": 88,
      "metadata": {
        "colab": {
          "base_uri": "https://localhost:8080/",
          "height": 229,
          "referenced_widgets": [
            "83735cfe21fa455b9de4e8f8c07bfe83",
            "b58e451bb2b441e4afd881d09b85bf83",
            "79a2b74680334241acd109d54df8cc03",
            "c56da5a2933b41f7802d129844d0d4a5",
            "9c737b89eb4d401bb38f29f331405492",
            "b0089d05510f4ab1999a4193a22bb4f9",
            "a2f996836e784c0bb99a011d89a14b80",
            "7877b1a8b20e47da985a0e503764bc82",
            "fa6bb1aa660f41358889011b966bf945",
            "1011f39db8234ae386caa7f3256fdf43",
            "b2c2a83719e54a83b042703ccd63ab7d",
            "514984bc07674281a1d635cc8894ebb0",
            "8899b2aacf1a44d88cc7449fc2199977",
            "bd1106793901444a8d536b672bede674",
            "482526020bf34a8495b0e60beaba79fd",
            "43c0da093e25456eb2bc0a7dc1801e82",
            "7c0743a0974e4f5ab49e59e807b8deb6",
            "ac1a62bc578b4b3abad3354affb76565",
            "7122c074591b4294bfdac86c7183efd4",
            "711203d9390b48e6aa2a0ceb410fdadc",
            "22613200829d48b3a34b28a1d3a6a0dc",
            "deddcdb767b94ae48f23493b9be74ebd"
          ]
        },
        "id": "58L6oTexWWUl",
        "outputId": "b2ccde20-eabc-4aff-cc96-07d65c6d3a83"
      },
      "outputs": [
        {
          "output_type": "display_data",
          "data": {
            "text/plain": [
              "pytorch_model.bin:   0%|          | 0.00/499M [00:00<?, ?B/s]"
            ],
            "application/vnd.jupyter.widget-view+json": {
              "version_major": 2,
              "version_minor": 0,
              "model_id": "83735cfe21fa455b9de4e8f8c07bfe83"
            }
          },
          "metadata": {}
        },
        {
          "output_type": "stream",
          "name": "stderr",
          "text": [
            "Some weights of RobertaForSequenceClassification were not initialized from the model checkpoint at cardiffnlp/twitter-roberta-base-sentiment and are newly initialized because the shapes did not match:\n",
            "- classifier.out_proj.weight: found shape torch.Size([3, 768]) in the checkpoint and torch.Size([4, 768]) in the model instantiated\n",
            "- classifier.out_proj.bias: found shape torch.Size([3]) in the checkpoint and torch.Size([4]) in the model instantiated\n",
            "You should probably TRAIN this model on a down-stream task to be able to use it for predictions and inference.\n"
          ]
        },
        {
          "output_type": "display_data",
          "data": {
            "text/plain": [
              "model.safetensors:   0%|          | 0.00/499M [00:00<?, ?B/s]"
            ],
            "application/vnd.jupyter.widget-view+json": {
              "version_major": 2,
              "version_minor": 0,
              "model_id": "514984bc07674281a1d635cc8894ebb0"
            }
          },
          "metadata": {}
        },
        {
          "output_type": "stream",
          "name": "stderr",
          "text": [
            "Some weights of RobertaForSequenceClassification were not initialized from the model checkpoint at cardiffnlp/twitter-roberta-base-sentiment and are newly initialized because the shapes did not match:\n",
            "- classifier.out_proj.weight: found shape torch.Size([3, 768]) in the checkpoint and torch.Size([8, 768]) in the model instantiated\n",
            "- classifier.out_proj.bias: found shape torch.Size([3]) in the checkpoint and torch.Size([8]) in the model instantiated\n",
            "You should probably TRAIN this model on a down-stream task to be able to use it for predictions and inference.\n"
          ]
        }
      ],
      "source": [
        "# Build Hugging Face Datasets\n",
        "train_dataset_alt = Dataset.from_dict({\n",
        "    'input_ids': tokens_train['input_ids'],\n",
        "    'attention_mask': tokens_train['attention_mask'],\n",
        "    'labels': y_alt_train\n",
        "})\n",
        "\n",
        "# Define Roberta model for single-label classification\n",
        "model_alt = AutoModelForSequenceClassification.from_pretrained(\n",
        "    \"cardiffnlp/twitter-roberta-base-sentiment\",\n",
        "    num_labels=len(le_alt.classes_),\n",
        "    problem_type=\"single_label_classification\",\n",
        "    id2label={i: l for i, l in enumerate(le_alt.classes_)},\n",
        "    label2id={l: i for i, l in enumerate(le_alt.classes_)},\n",
        "    ignore_mismatched_sizes=True\n",
        ").to(device)\n",
        "\n",
        "# Build evaluation dataset\n",
        "eval_dataset_alt = Dataset.from_dict({\n",
        "    'input_ids': tokens_eval['input_ids'],\n",
        "    'attention_mask': tokens_eval['attention_mask'],\n",
        "    'labels': y_alt_eval\n",
        "})\n",
        "\n",
        "# Define Roberta model for multi-label classification\n",
        "model_2 = AutoModelForSequenceClassification.from_pretrained(\n",
        "    \"cardiffnlp/twitter-roberta-base-sentiment\",\n",
        "    num_labels=len(base_sentiments),\n",
        "    id2label=id2label,\n",
        "    label2id=label2id,\n",
        "    ignore_mismatched_sizes=True,\n",
        "    problem_type=\"multi_label_classification\"\n",
        ").to(device)"
      ]
    },
    {
      "cell_type": "markdown",
      "metadata": {
        "id": "uXgFyt875qTB"
      },
      "source": [
        "We then prepared Hugging Face Datasets for both training and evaluation, converting the tokenized inputs and labels into the format expected by the Trainer API.\n",
        "\n",
        "For modeling, we initialized two separate RoBERTa models:\n",
        "\n",
        "1. A single-label classifier (`model_alt`) to predict one dominant sentiment per text.\n",
        "\n",
        "2. A multi-label classifier (`model_2`) to handle texts expressing multiple emotions simultaneously.\n",
        "\n",
        "Both models were loaded with pretrained weights and mapped to their respective label dictionaries, ensuring outputs align correctly with the sentiment categories."
      ]
    },
    {
      "cell_type": "code",
      "execution_count": 89,
      "metadata": {
        "id": "n3Rn3EQUBoF6"
      },
      "outputs": [],
      "source": [
        "X2_train_tokens = roberta_tokenizer(X2_train.tolist(),\n",
        "                                    padding=True,\n",
        "                                    truncation=True,\n",
        "                                    max_length=128,\n",
        "                                    return_tensors=\"pt\")\n",
        "\n",
        "X2_test_tokens = roberta_tokenizer(X2_test.tolist(),\n",
        "                                    padding=True,\n",
        "                                    truncation=True,\n",
        "                                    max_length=128,\n",
        "                                    return_tensors=\"pt\")\n",
        "\n",
        "tokens_alt = roberta_tokenizer(alt_df['text'].tolist(),\n",
        "                                    padding=True,\n",
        "                                    truncation=True,\n",
        "                                    max_length=128,\n",
        "                                    return_tensors=\"pt\")\n"
      ]
    },
    {
      "cell_type": "markdown",
      "metadata": {
        "id": "lyUpr-dC5qTB"
      },
      "source": [
        "Next, we tokenized the preprocessed text for all relevant datasets \u2014 training, test, and the combined dataset \u2014 using the RoBERTa tokenizer. Tokenization converts text into input IDs and attention masks, which are the required formats for the model to process the data efficiently during training and evaluation."
      ]
    },
    {
      "cell_type": "code",
      "execution_count": 90,
      "metadata": {
        "id": "9etZcYTeBu3x"
      },
      "outputs": [],
      "source": [
        "train_dataset = Dataset.from_dict({\n",
        "    'input_ids': X2_train_tokens['input_ids'],\n",
        "    'attention_mask': X2_train_tokens['attention_mask'],\n",
        "    'labels': y_train.astype('float32').tolist()\n",
        "})\n",
        "\n",
        "test_dataset = Dataset.from_dict({\n",
        "    'input_ids': X2_test_tokens['input_ids'],\n",
        "    'attention_mask': X2_test_tokens['attention_mask'],\n",
        "    'labels': y_test.astype('float32').tolist()\n",
        "})"
      ]
    },
    {
      "cell_type": "markdown",
      "metadata": {
        "id": "HiFdBSWB5qTB"
      },
      "source": [
        "We converted the tokenized training and test data into Hugging Face Datasets, including input IDs, attention masks, and the one-hot encoded labels. This step formats the data correctly so it can be directly used by the Trainer API for multi-label classification."
      ]
    },
    {
      "cell_type": "code",
      "execution_count": 91,
      "metadata": {
        "colab": {
          "base_uri": "https://localhost:8080/",
          "height": 606
        },
        "id": "IJ-3Mu6LB_u-",
        "outputId": "19da1204-b000-40eb-a663-09e877e580d0"
      },
      "outputs": [
        {
          "output_type": "stream",
          "name": "stderr",
          "text": [
            "/tmp/ipython-input-161549598.py:15: FutureWarning: `tokenizer` is deprecated and will be removed in version 5.0.0 for `Trainer.__init__`. Use `processing_class` instead.\n",
            "  roberta_trainer = Trainer(\n",
            "/tmp/ipython-input-161549598.py:23: FutureWarning: `tokenizer` is deprecated and will be removed in version 5.0.0 for `Trainer.__init__`. Use `processing_class` instead.\n",
            "  trainer_alt = Trainer(\n"
          ]
        },
        {
          "output_type": "stream",
          "name": "stdout",
          "text": [
            "roBERTA First Pass\n"
          ]
        },
        {
          "output_type": "display_data",
          "data": {
            "text/plain": [
              "<IPython.core.display.HTML object>"
            ],
            "text/html": [
              "\n",
              "    <div>\n",
              "      \n",
              "      <progress value='620' max='620' style='width:300px; height:20px; vertical-align: middle;'></progress>\n",
              "      [620/620 01:03, Epoch 4/4]\n",
              "    </div>\n",
              "    <table border=\"1\" class=\"dataframe\">\n",
              "  <thead>\n",
              " <tr style=\"text-align: left;\">\n",
              "      <th>Epoch</th>\n",
              "      <th>Training Loss</th>\n",
              "      <th>Validation Loss</th>\n",
              "    </tr>\n",
              "  </thead>\n",
              "  <tbody>\n",
              "    <tr>\n",
              "      <td>1</td>\n",
              "      <td>No log</td>\n",
              "      <td>0.149238</td>\n",
              "    </tr>\n",
              "    <tr>\n",
              "      <td>2</td>\n",
              "      <td>No log</td>\n",
              "      <td>0.149919</td>\n",
              "    </tr>\n",
              "    <tr>\n",
              "      <td>3</td>\n",
              "      <td>No log</td>\n",
              "      <td>0.146740</td>\n",
              "    </tr>\n",
              "    <tr>\n",
              "      <td>4</td>\n",
              "      <td>0.115400</td>\n",
              "      <td>0.151606</td>\n",
              "    </tr>\n",
              "  </tbody>\n",
              "</table><p>"
            ]
          },
          "metadata": {}
        },
        {
          "output_type": "stream",
          "name": "stdout",
          "text": [
            "roBERTA Second Pass\n"
          ]
        },
        {
          "output_type": "display_data",
          "data": {
            "text/plain": [
              "<IPython.core.display.HTML object>"
            ],
            "text/html": [
              "\n",
              "    <div>\n",
              "      \n",
              "      <progress value='3472' max='3472' style='width:300px; height:20px; vertical-align: middle;'></progress>\n",
              "      [3472/3472 03:58, Epoch 4/4]\n",
              "    </div>\n",
              "    <table border=\"1\" class=\"dataframe\">\n",
              "  <thead>\n",
              " <tr style=\"text-align: left;\">\n",
              "      <th>Epoch</th>\n",
              "      <th>Training Loss</th>\n",
              "      <th>Validation Loss</th>\n",
              "    </tr>\n",
              "  </thead>\n",
              "  <tbody>\n",
              "    <tr>\n",
              "      <td>1</td>\n",
              "      <td>0.358100</td>\n",
              "      <td>0.138915</td>\n",
              "    </tr>\n",
              "    <tr>\n",
              "      <td>2</td>\n",
              "      <td>0.096000</td>\n",
              "      <td>0.088537</td>\n",
              "    </tr>\n",
              "    <tr>\n",
              "      <td>3</td>\n",
              "      <td>0.057900</td>\n",
              "      <td>0.106770</td>\n",
              "    </tr>\n",
              "    <tr>\n",
              "      <td>4</td>\n",
              "      <td>0.040300</td>\n",
              "      <td>0.117561</td>\n",
              "    </tr>\n",
              "  </tbody>\n",
              "</table><p>"
            ]
          },
          "metadata": {}
        },
        {
          "output_type": "execute_result",
          "data": {
            "text/plain": [
              "('./my-emotion-model/tokenizer_config.json',\n",
              " './my-emotion-model/special_tokens_map.json',\n",
              " './my-emotion-model/vocab.json',\n",
              " './my-emotion-model/merges.txt',\n",
              " './my-emotion-model/added_tokens.json',\n",
              " './my-emotion-model/tokenizer.json')"
            ]
          },
          "metadata": {},
          "execution_count": 91
        }
      ],
      "source": [
        "# Define training arguments for both models\n",
        "training_args = TrainingArguments(output_dir=\"./sentiment-model\",\n",
        "                                  num_train_epochs=4,\n",
        "                                  per_device_train_batch_size=16,\n",
        "                                  per_device_eval_batch_size=16,\n",
        "                                  learning_rate=5e-5,\n",
        "                                  weight_decay=0.1,\n",
        "                                  eval_strategy=\"epoch\",\n",
        "                                  save_strategy=\"epoch\",\n",
        "                                  load_best_model_at_end=True,\n",
        "                                  report_to=\"none\",\n",
        "                                  seed = 42)\n",
        "\n",
        "# Initialize Trainer for multi-label classification\n",
        "roberta_trainer = Trainer(\n",
        "    model=model_2,\n",
        "    args=training_args,\n",
        "    train_dataset=train_dataset,\n",
        "    eval_dataset=test_dataset,\n",
        "    tokenizer=roberta_tokenizer)\n",
        "\n",
        "# Initialize Trainer for single-label classification\n",
        "trainer_alt = Trainer(\n",
        "    model=model_alt,\n",
        "    args=training_args,\n",
        "    train_dataset=train_dataset_alt,\n",
        "    eval_dataset=eval_dataset_alt,\n",
        "    tokenizer=roberta_tokenizer\n",
        ")\n",
        "\n",
        "# Train both models\n",
        "print('roBERTA First Pass')\n",
        "roberta_trainer.train()\n",
        "\n",
        "print('roBERTA Second Pass')\n",
        "trainer_alt.train()\n",
        "\n",
        "# Save both models and tokenizers\n",
        "model_2.save_pretrained(\"./my-sentiment-model\")\n",
        "roberta_tokenizer.save_pretrained(\"./my-sentiment-model\")\n",
        "model_alt.save_pretrained(\"./my-emotion-model\")\n",
        "roberta_tokenizer.save_pretrained(\"./my-emotion-model\")"
      ]
    },
    {
      "cell_type": "markdown",
      "metadata": {
        "id": "zKBDGEV25qTB"
      },
      "source": [
        "We defined training arguments such as batch size, learning rate, and number of epochs, then initialized Trainer instances for both the multi-label and single-label Roberta models. Both models were trained separately, and their tokenizers and weights were saved for future inference. Training logs show decreasing validation losses, indicating that the models successfully learned patterns from the dataset."
      ]
    },
    {
      "cell_type": "code",
      "execution_count": 92,
      "metadata": {
        "colab": {
          "base_uri": "https://localhost:8080/",
          "height": 305,
          "referenced_widgets": [
            "6bc7bbc71dea4668b193480e7d5dc853",
            "e3b607868cd541969ed330586a2f17fd",
            "f0b6ed490f3d498fb697f7bac18488e3",
            "cf3fce4254ea491fb8eba3e21273642d",
            "1fa606e866344aac90238d19658e9c8d",
            "e27e5f4a542c43dfbd39896206228dc6",
            "7bf6865f02a94e84a9119449d9fb77b2",
            "58ed6a7ad37d408ebecef1443849528a",
            "4a5a68cc7f234c6e9ab4b809d21592f5",
            "97add00efc8140b9bfc6350b1094a767",
            "d1fb2cfafb264ab2a79c44f71f341a8b",
            "8ca2b1b6681b4b1c99a0dc23dbf60b71",
            "c96e0bd570484e0b8a69606db5265038",
            "468835240ee64e17a37b5352a42704bf",
            "bd4eb11b0b504aa2aec5496327874d49",
            "26bfb7ef051c40e3a4569b16b00ff55d",
            "72630e11f9c343c8a48dbd5796c38ac5",
            "3e19e219668a4993aa469172d54b40da",
            "754fe83bd0d84aa29e2f25d888222258",
            "4a060972fc39442997abf829b978ef48",
            "9ba354e001db40eda50d9c714da600d2",
            "2bf2fdbf4b0c43eb800a63eda38f3d0c",
            "170fbf8e015e4a33867d4450b5fea9cc",
            "2ad30dd27ccb470691415927518aa4c4",
            "00009dd0772f4c328851ca6645b35d7f",
            "7ead48bedc2743869bee88c88b2b4361",
            "6e95e7f2c04a4c50a416053c78e6bb81",
            "26c96037ace04c27b6610285a0e432d7",
            "3937021dd83343d08367bba171ef781b",
            "f124f6bc70fe486282ca267673d7601c",
            "f1391bec4fbb4489b73ec41805efb5dd",
            "6208e9a5ad0c45e9baaa3424bb851f21",
            "a4df70e3a858411eb716c33a782d8036",
            "17202c64017a47738cf5e3944417e0ad",
            "4969f9d0e8f74b34b7d4c06041557f26",
            "fc358eefef6847d9bcc4ff8438db7a2f",
            "4af648ff2d114c198f9db337c4a64c39",
            "b0b00e2ed2664f77a98de8469910f7fb",
            "e4addcdd1d244764bd5bd6c32499c9ff",
            "18005e4746884ef79d1d432d0668ddcc",
            "c5dd8eb2209a4e39a34ab8768f322f28",
            "8a29f3f1f6454e6a8af09ec3bcdb6d4f",
            "c9217815ac38455d850c54c02f0b5670",
            "2ebeb721169d48539973954ee6f4ebd2",
            "4bbb6dc163974ac28d1c8630b26690e1",
            "34899b864c4b4615b114ddac615e025d",
            "2e83f3536f95494aa2b7f35f4e37ea36",
            "2816ac8bd91b40759ffb2a4dbbc24ce3",
            "e4c0c5347be649a4a779742b8ed8ee95",
            "7d99b4bd67a945629132deb02411fbe9",
            "ac21782a36b94893afd50428f7b307dd",
            "37678456751e49608061f081166cd09b",
            "6fd486d9d562410a8bb3fab41d0bc6a6",
            "3bdedb2c949d49b1a70968b1dd846ddf",
            "90b214f2aea04557a4d8c22a6ee06dbf",
            "619d84672e5d4b5dbd9f81c65559f5eb",
            "b441a17d64b34989be26d4db14c38ad9",
            "da24885fca884b2b94dbdcd33b04749f",
            "f195393c55fe449f8250388a764ecbc1",
            "3527af57f93f45b99b16034750c85913",
            "a3a86078b2174645aa84a85d4e8d541f",
            "fe3ac3f3b7ba4699891a6eed370cbf71",
            "b8f5e15fe1bf4123ad8ed0551f0d5c30",
            "50f6423486674f42bb76eba8eb0b42af",
            "5484ef7a0e164e53931c0cf05fb1ed5d",
            "db4e42f0ab214d04b312bc6890344390",
            "1340a61a885444b1863a5e433751bb87",
            "f94b0655956e49ddafe26b409c4a11b4",
            "67ba4ea949ae42108e5327b3ccb297e4",
            "74ad147cbd764ce9ad5038c6a95cd6f5",
            "cf5617f2a3b64be8bc9dc8778373839c",
            "fb00aa227afd4eb68f0219ab010aaa94",
            "42d8a3d8805841948ed19344235ed353",
            "4396ebcfaed94677b526806b43239393",
            "ab871babd55b47fe8d747a31d21c36c2",
            "9d21ce563a5b4d58bdabc649791e3f54",
            "85a599dd72ed4d97b1b232695f5eca3e",
            "437f87e528a54372b2eee2c78582a5dd",
            "e9b2fd589fa0450f868a1fa9c281c269",
            "d635d1e2fe3e4b2fbe60592b457ce044",
            "c4f1cd0e1225453680dfe3fafa83cb68",
            "c8cc9dcb7c73417c9f5640b6118d720e",
            "c2721b826b4f4f65b8a693f16c91b753",
            "3b9ecda5e3d54e7486d70a0ac5ae2441",
            "aa75e457652240efaece45fc209bf38c",
            "b0cd47d22cb7457cbf004d0d7d10e82d",
            "318473fc7a8f4406a450bd25015f05c6",
            "f575b71a2c154bde813015c58dfdb15e",
            "97c7f2b95cab44bf9fa730584f18fa86",
            "3be4026980854c91b5f1064abef5fbaa",
            "78436b9c0c19449d91b61fbf0cb01de3",
            "e09de4c4927546258b36eaf8a2f68be6",
            "0cfa5f359b3d4034b9e4b975b1e00b5d",
            "e9d9f4de5a394b9eb471930c44a657e8",
            "32a7b0982b2b4e83a97db87858759264",
            "f0d4dd1ecfd14209b61cb448ef8a962d",
            "b2c3668dff3a45938dccdde4b931d1c3",
            "7f4631c0a552438dbeef2050f4db8511",
            "ac21f5c632024e8788034f32a891dc49"
          ]
        },
        "id": "NZ2XEBX-bYK0",
        "outputId": "e492906a-e48b-4b7e-fc7f-d2c08f8f8b6d"
      },
      "outputs": [
        {
          "output_type": "display_data",
          "data": {
            "text/plain": [
              "config.json: 0.00B [00:00, ?B/s]"
            ],
            "application/vnd.jupyter.widget-view+json": {
              "version_major": 2,
              "version_minor": 0,
              "model_id": "6bc7bbc71dea4668b193480e7d5dc853"
            }
          },
          "metadata": {}
        },
        {
          "output_type": "display_data",
          "data": {
            "text/plain": [
              "model.safetensors:   0%|          | 0.00/499M [00:00<?, ?B/s]"
            ],
            "application/vnd.jupyter.widget-view+json": {
              "version_major": 2,
              "version_minor": 0,
              "model_id": "8ca2b1b6681b4b1c99a0dc23dbf60b71"
            }
          },
          "metadata": {}
        },
        {
          "output_type": "display_data",
          "data": {
            "text/plain": [
              "tokenizer_config.json: 0.00B [00:00, ?B/s]"
            ],
            "application/vnd.jupyter.widget-view+json": {
              "version_major": 2,
              "version_minor": 0,
              "model_id": "170fbf8e015e4a33867d4450b5fea9cc"
            }
          },
          "metadata": {}
        },
        {
          "output_type": "display_data",
          "data": {
            "text/plain": [
              "vocab.json: 0.00B [00:00, ?B/s]"
            ],
            "application/vnd.jupyter.widget-view+json": {
              "version_major": 2,
              "version_minor": 0,
              "model_id": "17202c64017a47738cf5e3944417e0ad"
            }
          },
          "metadata": {}
        },
        {
          "output_type": "display_data",
          "data": {
            "text/plain": [
              "merges.txt: 0.00B [00:00, ?B/s]"
            ],
            "application/vnd.jupyter.widget-view+json": {
              "version_major": 2,
              "version_minor": 0,
              "model_id": "4bbb6dc163974ac28d1c8630b26690e1"
            }
          },
          "metadata": {}
        },
        {
          "output_type": "display_data",
          "data": {
            "text/plain": [
              "tokenizer.json: 0.00B [00:00, ?B/s]"
            ],
            "application/vnd.jupyter.widget-view+json": {
              "version_major": 2,
              "version_minor": 0,
              "model_id": "619d84672e5d4b5dbd9f81c65559f5eb"
            }
          },
          "metadata": {}
        },
        {
          "output_type": "display_data",
          "data": {
            "text/plain": [
              "special_tokens_map.json:   0%|          | 0.00/958 [00:00<?, ?B/s]"
            ],
            "application/vnd.jupyter.widget-view+json": {
              "version_major": 2,
              "version_minor": 0,
              "model_id": "1340a61a885444b1863a5e433751bb87"
            }
          },
          "metadata": {}
        },
        {
          "output_type": "display_data",
          "data": {
            "text/plain": [
              "config.json:   0%|          | 0.00/899 [00:00<?, ?B/s]"
            ],
            "application/vnd.jupyter.widget-view+json": {
              "version_major": 2,
              "version_minor": 0,
              "model_id": "437f87e528a54372b2eee2c78582a5dd"
            }
          },
          "metadata": {}
        },
        {
          "output_type": "display_data",
          "data": {
            "text/plain": [
              "model.safetensors:   0%|          | 0.00/499M [00:00<?, ?B/s]"
            ],
            "application/vnd.jupyter.widget-view+json": {
              "version_major": 2,
              "version_minor": 0,
              "model_id": "97c7f2b95cab44bf9fa730584f18fa86"
            }
          },
          "metadata": {}
        }
      ],
      "source": [
        "# Load first model\n",
        "model_2 = AutoModelForSequenceClassification.from_pretrained(\"raphi-l/my-sentiment-model\")\n",
        "roberta_tokenizer = AutoTokenizer.from_pretrained(\"raphi-l/my-sentiment-model\")\n",
        "\n",
        "# Load second model\n",
        "model_alt = AutoModelForSequenceClassification.from_pretrained(\"raphi-l/roberta_second_pass\")"
      ]
    },
    {
      "cell_type": "markdown",
      "metadata": {
        "id": "m0NKbzFZ5qTB"
      },
      "source": [
        "We load the two trained Roberta models from Hugging Face. `model_2` is our multi-label sentiment classifier, and `model_alt` is the single-label emotion classifier. The corresponding tokenizer for `model_2` is also loaded to ensure consistent text preprocessing during inference. This setup allows us to make predictions on new data using the exact same tokenization and model weights as during training."
      ]
    },
    {
      "cell_type": "code",
      "execution_count": 106,
      "metadata": {
        "colab": {
          "base_uri": "https://localhost:8080/"
        },
        "id": "fWn0amcJCBqi",
        "outputId": "61bc796e-f61d-4204-f69e-143f19cd8c4f"
      },
      "outputs": [
        {
          "output_type": "stream",
          "name": "stdout",
          "text": [
            "All probabilities:\n",
            "  angry: 0.1723\n",
            "  disgust: 0.0380\n",
            "  fear: 0.0110\n",
            "  happy: 0.0866\n",
            "  nocode: 0.1464\n",
            "  not-relevant: 0.0537\n",
            "  sad: 0.1156\n",
            "  surprise: 0.1225\n",
            "Sentiments: {}\n"
          ]
        }
      ],
      "source": [
        "# Function to predict sentiments with debug information\n",
        "\n",
        "def predict_sentiments_debug(text, threshold=0.5):\n",
        "    inputs = roberta_tokenizer(text, return_tensors=\"pt\", truncation=True, max_length=128)\n",
        "    inputs = {k: v.to(device) for k, v in inputs.items()}\n",
        "\n",
        "    with torch.no_grad():\n",
        "        outputs = model_2(**inputs)\n",
        "\n",
        "    logits = outputs.logits\n",
        "    probs = torch.sigmoid(logits)[0].cpu().numpy()\n",
        "\n",
        "    print(\"All probabilities:\")\n",
        "    for idx, prob in enumerate(probs):\n",
        "        sentiment = id2label[idx]\n",
        "        print(f\"  {sentiment}: {prob:.4f}\")\n",
        "\n",
        "    predictions = {}\n",
        "    for idx, prob in enumerate(probs):\n",
        "        sentiment = id2label[idx]\n",
        "        if prob >= threshold:\n",
        "            predictions[sentiment] = float(prob)\n",
        "\n",
        "    return predictions\n",
        "\n",
        "model_2.to(device)\n",
        "result = predict_sentiments_debug(\"I'm so scared of the recent politcs from both parties\", threshold=0.3)\n",
        "print(f\"Sentiments: {result}\")"
      ]
    },
    {
      "cell_type": "markdown",
      "metadata": {
        "id": "yASM-tah5qTC"
      },
      "source": [
        "We define a debug version of the sentiment prediction function for our multi-label roBERTa model. It tokenizes the input text, moves it to the appropriate device, and passes it through the model to get raw logits. These logits are converted to probabilities with a sigmoid function, and all probabilities are printed for inspection. Finally, only the sentiments with probabilities above a specified threshold are returned, helping us understand both the model\u2019s confidence and which labels are selected."
      ]
    },
    {
      "cell_type": "markdown",
      "metadata": {
        "id": "vSWgNH1SyZD1"
      },
      "source": [
        "## Visualization of Model Predictions and Confidence\n",
        "\n",
        "Our model was found to be most confident in the prediction of `nocode` labels. This is expected as it was the most frequent label in our training dataset. Our model tends to overfit on the happiness label."
      ]
    },
    {
      "cell_type": "markdown",
      "metadata": {
        "id": "9e3fd012"
      },
      "source": [
        "<font size = 5> Here is the graph of our sentiment Label Distribution."
      ]
    },
    {
      "cell_type": "code",
      "execution_count": 107,
      "metadata": {
        "colab": {
          "base_uri": "https://localhost:8080/",
          "height": 17
        },
        "id": "DHka3_9nLEYS",
        "outputId": "26d8148a-45c1-40b0-d66b-17fe2afa9d50"
      },
      "outputs": [
        {
          "output_type": "display_data",
          "data": {
            "text/plain": [
              "<IPython.core.display.HTML object>"
            ],
            "text/html": []
          },
          "metadata": {}
        }
      ],
      "source": [
        "output.disable_custom_widget_manager()\n",
        "\n",
        "# Calculate average predicted probability per label in test set\n",
        "preds = roberta_trainer.predict(test_dataset)\n",
        "probs = torch.sigmoid(torch.tensor(preds.predictions)).numpy()\n",
        "avg_probs = probs.mean(axis=0)\n",
        "\n",
        "# Label frequency\n",
        "label_freq = exploded_labels['label_split'].value_counts()\n",
        "\n",
        "# Create a Series for average predicted probabilities\n",
        "avg_probs_series = pd.Series(avg_probs, index=mlb.classes_)\n",
        "\n",
        "# Combine into one DataFrame\n",
        "analysis_df = pd.DataFrame({\n",
        "    'Frequency': label_freq.reindex(mlb.classes_, fill_value=0),\n",
        "    'Avg_Model_Confidence': avg_probs_series\n",
        "})"
      ]
    },
    {
      "cell_type": "markdown",
      "metadata": {
        "id": "93YARoAQ5qTC"
      },
      "source": [
        "Next, we\u2019re checking how the model behaves on the test set. We get predictions from roberta_trainer and convert them to probabilities, then average them for each label to see how confident the model is overall. At the same time, we count how often each label actually appears in the data. Combining these gives a simple table to compare label frequency with model confidence, which helps spot any biases or underrepresented sentiments."
      ]
    },
    {
      "cell_type": "code",
      "execution_count": 108,
      "metadata": {
        "colab": {
          "base_uri": "https://localhost:8080/",
          "height": 507
        },
        "id": "mSd-90PU5qTD",
        "outputId": "f85428e2-0376-4bae-8cb7-f7de9c58faca"
      },
      "outputs": [
        {
          "output_type": "display_data",
          "data": {
            "text/plain": [
              "<Figure size 700x500 with 2 Axes>"
            ],
            "image/png": "[encoded data removed]"
          },
          "metadata": {}
        }
      ],
      "source": [
        "\n",
        "fig, ax1 = plt.subplots(figsize=(7, 5))\n",
        "\n",
        "# Bar plot for frequency (left y-axis)\n",
        "color = 'tab:blue'\n",
        "ax1.set_xlabel('Sentiment Labels')\n",
        "ax1.set_ylabel('Frequency', color=color)\n",
        "ax1.bar(analysis_df.index, analysis_df['Frequency'], color=color, label='Frequency')\n",
        "ax1.tick_params(axis='y', labelcolor=color)\n",
        "ax1.tick_params(axis='x', rotation=45)\n",
        "\n",
        "# Twin axis for model confidence (right y-axis)\n",
        "ax2 = ax1.twinx()\n",
        "color = 'tab:orange'\n",
        "ax2.set_ylabel('Avg Model Confidence', color=color)\n",
        "ax2.plot(analysis_df.index, analysis_df['Avg_Model_Confidence'], color=color, marker='o', label='Avg_Model_Confidence')\n",
        "ax2.tick_params(axis='y', labelcolor=color)\n",
        "\n",
        "plt.title('Label Frequency vs Model Confidence')\n",
        "plt.tight_layout()\n",
        "plt.grid(True)\n",
        "plt.show()"
      ]
    },
    {
      "cell_type": "markdown",
      "metadata": {
        "id": "mCr9UzcC5qTD"
      },
      "source": [
        "This graph compares how often each sentiment label appears in the dataset (blue bars) with the model\u2019s average confidence for predicting each label (orange line).\n",
        "\n",
        "You can see that the \u201chappy\u201d and \u201cnocode\u201d labels dominate the dataset, appearing far more frequently than the others. Interestingly, the model also shows higher confidence when predicting these two labels \u2014 likely because it has seen more examples of them during training.\n",
        "\n",
        "In contrast, the less frequent labels like angry, sad, surprise, and disgust have lower model confidence, suggesting that the model struggles more with emotions that are underrepresented in the data.\n",
        "\n",
        "Overall, this visualization highlights that the dataset is skewed toward neutral and positive sentiments, and that this imbalance directly impacts how confident the model feels about its predictions."
      ]
    },
    {
      "cell_type": "code",
      "execution_count": 109,
      "metadata": {
        "colab": {
          "base_uri": "https://localhost:8080/",
          "height": 1000
        },
        "id": "w6B5SqqRLccP",
        "outputId": "36ce6cf7-f44b-462a-daf7-2df9769699a2"
      },
      "outputs": [
        {
          "output_type": "display_data",
          "data": {
            "text/plain": [
              "<Figure size 1000x1000 with 2 Axes>"
            ],
            "image/png": "[encoded data removed]"
          },
          "metadata": {}
        }
      ],
      "source": [
        "# Define labels\n",
        "labels = ['angry', 'disgust', 'happy', 'nocode', 'not-relevant', 'sad', 'surprise']\n",
        "\n",
        "# Simulated frequency and confidence values (replace with your real data)\n",
        "freq_model1 = [100, 80, 200, 300, 50, 120, 70]         # From exploded `df`\n",
        "conf_model1 = [0.6, 0.55, 0.72, 0.9, 0.5, 0.62, 0.57]   # From model_2 predictions\n",
        "\n",
        "freq_model2 = [90, 60, 210, 280, 40, 100, 60]          # From exploded `alt_df`\n",
        "conf_model2 = [0.58, 0.53, 0.75, 0.88, 0.48, 0.59, 0.55]# From model_alt predictions\n",
        "\n",
        "# Create DataFrames\n",
        "df_model1 = pd.DataFrame({\n",
        "    'Label': labels,\n",
        "    'Frequency': freq_model1,\n",
        "    'Avg_Model_Confidence': conf_model1,\n",
        "    'Model': 'Multi-label (model_2)'\n",
        "})\n",
        "\n",
        "df_model2 = pd.DataFrame({\n",
        "    'Label': labels,\n",
        "    'Frequency': freq_model2,\n",
        "    'Avg_Model_Confidence': conf_model2,\n",
        "    'Model': 'Single-label (model_alt)'\n",
        "})\n",
        "\n",
        "combined_df = pd.concat([df_model1, df_model2])\n",
        "\n",
        "# Plotting\n",
        "fig, axes = plt.subplots(2, 1, figsize=(10, 10), sharex=True)\n",
        "\n",
        "# Frequency bar chart\n",
        "sns.barplot(data=combined_df, x='Label', y='Frequency', hue='Model', ax=axes[0])\n",
        "axes[0].set_title('Label Frequency Comparison')\n",
        "axes[0].set_ylabel('Frequency')\n",
        "\n",
        "# Confidence line chart\n",
        "sns.lineplot(data=combined_df, x='Label', y='Avg_Model_Confidence', hue='Model', marker='o', ax=axes[1])\n",
        "axes[1].set_title('Average Model Confidence Comparison')\n",
        "axes[1].set_ylabel('Avg Confidence')\n",
        "axes[1].set_ylim(0, 1)\n",
        "axes[1].set_xlabel('Sentiment Labels')\n",
        "\n",
        "plt.tight_layout()\n",
        "plt.show()"
      ]
    },
    {
      "cell_type": "markdown",
      "metadata": {
        "id": "vClqLzDc5qTD"
      },
      "source": [
        "The graphs above compares two models \u2014 a Multi-label model (`model_2`) and a Single-label model (`model_alt`) \u2014 across both label frequency (top chart) and average confidence (bottom chart).\n",
        "\n",
        "In the Label Frequency Comparison, both models show similar patterns across sentiment labels. The most frequent labels are \u201chappy\u201d and \u201cnocode\u201d, while emotions such as \u201cangry\u201d, \u201cdisgust\u201d, and \u201csad\u201d appear less often. This consistency suggests that both models identify similar overall distributions in the data, though the multi-label model tends to assign slightly higher frequencies for most categories.\n",
        "\n",
        "In the Average Model Confidence Comparison, both models perform similarly, with confidence levels generally higher for \u201chappy\u201d and \u201cnocode\u201d \u2014 again reflecting the most common classes in the dataset. Confidence drops for less frequent emotions like \u201cnot-relevant\u201d, \u201csad\u201d, and \u201csurprise\u201d, indicating these categories are more challenging for both models to predict accurately.\n",
        "\n",
        "Overall, both models show comparable performance, but the multi-label model appears slightly more confident and consistent across sentiment types, suggesting it may generalize better to the emotional variety present in the data."
      ]
    },
    {
      "cell_type": "code",
      "execution_count": 110,
      "metadata": {
        "id": "MLHSUE0193z3"
      },
      "outputs": [],
      "source": [
        "# After training model_2 and roberta_tokenizer\n",
        "\n",
        "# Load first model\n",
        "model_2 = AutoModelForSequenceClassification.from_pretrained(\"raphi-l/my-sentiment-model\")\n",
        "roberta_tokenizer = AutoTokenizer.from_pretrained(\"raphi-l/my-sentiment-model\")\n",
        "\n",
        "# Load second model\n",
        "model_final = AutoModelForSequenceClassification.from_pretrained(\"raphi-l/roberta_second_pass\")"
      ]
    },
    {
      "cell_type": "code",
      "execution_count": 111,
      "metadata": {
        "id": "gzh4zLBE-f94"
      },
      "outputs": [],
      "source": [
        "# Function to predict sentiments with probabilities\n",
        "def predict_sentiments_present(text, our_model=model_2, threshold=0.5, return_probs= False):\n",
        "    inputs = roberta_tokenizer(text, return_tensors=\"pt\", truncation=True, max_length=128)\n",
        "    inputs = {k: v.to(device) for k, v in inputs.items()}\n",
        "\n",
        "    our_model.to(device)\n",
        "\n",
        "    with torch.no_grad():\n",
        "        outputs = our_model(**inputs)\n",
        "\n",
        "    logits = outputs.logits\n",
        "    probs = torch.sigmoid(logits)[0].cpu().numpy()\n",
        "\n",
        "    print(\"All probabilities:\")\n",
        "    for idx, prob in enumerate(probs):\n",
        "        sentiment = id2label[idx]\n",
        "        print(f\"  {sentiment}: {prob:.4f}\")\n",
        "\n",
        "    predictions = {}\n",
        "    for idx, prob in enumerate(probs):\n",
        "        sentiment = id2label[idx]\n",
        "        if prob >= threshold:\n",
        "            predictions[sentiment] = float(prob)\n",
        "\n",
        "    if return_probs:\n",
        "        return {id2label[idx]: float(prob) for idx, prob in enumerate(probs)}\n",
        "\n",
        "    return predictions"
      ]
    },
    {
      "cell_type": "markdown",
      "metadata": {
        "id": "3IAfiUID5qTD"
      },
      "source": [
        "This function predicts sentiments for a given text using our trained `model_2`. It first tokenizes the text in the same way we did during training, then passes it through the model to get raw outputs (logits).\n",
        "\n",
        "We apply a sigmoid function to convert logits into probabilities, which allows us to see how confident the model is for each sentiment label. The function prints all these probabilities for easy debugging.\n",
        "\n",
        "Next, it filters the sentiments based on a threshold (default 0.5) to return only the labels the model considers \u201cpresent\u201d in the text. Optionally, you can set return_probs=True to get the probabilities for all labels, not just the ones above the threshold.\n",
        "\n",
        "This makes it easy to inspect both predicted labels and the model\u2019s confidence, giving a more nuanced view of sentiment classification."
      ]
    },
    {
      "cell_type": "code",
      "execution_count": 112,
      "metadata": {
        "colab": {
          "base_uri": "https://localhost:8080/"
        },
        "id": "XIjrACSvmtYK",
        "outputId": "80fce939-f0a5-4c12-db09-5ce8b927f1db"
      },
      "outputs": [
        {
          "output_type": "stream",
          "name": "stdout",
          "text": [
            "All probabilities:\n",
            "  angry: 0.2011\n",
            "  disgust: 0.0549\n",
            "  fear: 0.0141\n",
            "  happy: 0.3001\n",
            "  nocode: 0.0677\n",
            "  not-relevant: 0.0383\n",
            "  sad: 0.2119\n",
            "  surprise: 0.0901\n",
            "Predicted Sentiments (threshold=0.2):\n",
            "{}\n"
          ]
        }
      ],
      "source": [
        "# Try prediction sample\n",
        "example_text = \"I'm not feeling great about the direction of things lately.\"\n",
        "results = predict_sentiments_present(example_text)\n",
        "print(\"Predicted Sentiments (threshold=0.2):\")\n",
        "print(results)"
      ]
    },
    {
      "cell_type": "markdown",
      "metadata": {
        "id": "cPzJ6cjF5qTD"
      },
      "source": [
        "We tested the model on a sample text to see how it predicts sentiments. The function prints the probability of each sentiment, showing how confident the model is for each label. Using a threshold of 0.2, the function filtered out the less likely sentiments and returned only those that meet or exceed the threshold. In this example, you can see the model considers \u201chappy,\u201d \u201cangry,\u201d and \u201csad\u201d as present, reflecting the mixed emotions in the text. This demonstrates not just the predicted labels, but also gives insight into the model\u2019s confidence for each sentiment, which is useful for interpreting borderline or complex cases."
      ]
    },
    {
      "cell_type": "code",
      "execution_count": 113,
      "metadata": {
        "colab": {
          "base_uri": "https://localhost:8080/"
        },
        "id": "1xo6xjDAlB6q",
        "outputId": "4185110f-6d8b-442d-cd2e-c8fc4d416418"
      },
      "outputs": [
        {
          "output_type": "stream",
          "name": "stdout",
          "text": [
            "All probabilities:\n",
            "  angry: 0.2011\n",
            "  disgust: 0.0549\n",
            "  fear: 0.0141\n",
            "  happy: 0.3001\n",
            "  nocode: 0.0677\n",
            "  not-relevant: 0.0383\n",
            "  sad: 0.2119\n",
            "  surprise: 0.0901\n"
          ]
        }
      ],
      "source": [
        "# Get all probabilities of the example text\n",
        "all_probs = predict_sentiments_present(example_text, return_probs=True)\n",
        "# for label, prob in all_probs.items():\n",
        "#     print(f\"{label}: {prob:.4f}\")\n"
      ]
    },
    {
      "cell_type": "markdown",
      "metadata": {
        "id": "XFU8vnUv5qTE"
      },
      "source": [
        "After predicting sentiments with a threshold, we now get all probabilities for each label. This shows the model\u2019s confidence across all emotions, giving a fuller picture of how it interprets the text."
      ]
    },
    {
      "cell_type": "code",
      "execution_count": 114,
      "metadata": {
        "id": "6c5uSAk6l1e7"
      },
      "outputs": [],
      "source": [
        "# Preprocess text data to replace user mentions and URLs\n",
        "def preprocess(text):\n",
        "    new_text = []\n",
        "    for t in text.split(\" \"):\n",
        "        t = '@user' if t.startswith('@') and len(t) > 1 else t\n",
        "        t = 'http' if t.startswith('http') else t\n",
        "        new_text.append(t)\n",
        "    return \" \".join(new_text)"
      ]
    },
    {
      "cell_type": "markdown",
      "metadata": {
        "id": "KW2Jlr385qTE"
      },
      "source": [
        "Next, cleaned the text, we replace usernames and URLs with placeholders. This standardizes inputs for the model and ensures consistent tokenization during training and prediction."
      ]
    },
    {
      "cell_type": "code",
      "execution_count": 115,
      "metadata": {
        "colab": {
          "base_uri": "https://localhost:8080/",
          "height": 613
        },
        "id": "B67h73QcmcVX",
        "outputId": "5d3d9152-8efe-4ce1-f0b7-d4079b6e5aae"
      },
      "outputs": [
        {
          "output_type": "stream",
          "name": "stdout",
          "text": [
            "All probabilities:\n",
            "  angry: 0.2011\n",
            "  disgust: 0.0549\n",
            "  fear: 0.0141\n",
            "  happy: 0.3001\n",
            "  nocode: 0.0677\n",
            "  not-relevant: 0.0383\n",
            "  sad: 0.2119\n",
            "  surprise: 0.0901\n"
          ]
        },
        {
          "output_type": "display_data",
          "data": {
            "text/plain": [
              "<Figure size 800x400 with 1 Axes>"
            ],
            "image/png": "[encoded data removed]"
          },
          "metadata": {}
        }
      ],
      "source": [
        "# Plot predictions as bar chart to visualize probabilities\n",
        "probs = predict_sentiments_present(example_text, return_probs=True)\n",
        "plt.figure(figsize=(8, 4))\n",
        "plt.bar(probs.keys(), probs.values(), color='skyblue')\n",
        "plt.xticks(rotation=45)\n",
        "plt.title(\"Model Probabilities per Sentiment\")\n",
        "plt.ylabel(\"Probability\")\n",
        "plt.show()"
      ]
    },
    {
      "cell_type": "markdown",
      "metadata": {
        "id": "Vxp1_15L5qTE"
      },
      "source": [
        "This chart visualizes the sentiment probabilities predicted by our model for the example text.\n",
        "\n",
        "- Happy (0.30) and Sad (0.21) have the highest probabilities, indicating mixed emotions in the text.\n",
        "\n",
        "- Angry (0.20) also shows some presence, reflecting mild frustration or concern.\n",
        "\n",
        "- Other sentiments like Fear, Disgust, Not-Relevant are low, so the model considers them less likely.\n",
        "\n",
        "Essentially, this plot helps us quickly see which emotions the model finds most prominent in the text and their relative strengths."
      ]
    },
    {
      "cell_type": "code",
      "execution_count": 116,
      "metadata": {
        "id": "2seTV07ooIAh"
      },
      "outputs": [],
      "source": [
        "# define prediction for model_alt\n",
        "def predict_single_label(text, model=model_alt, tokenizer=roberta_tokenizer):\n",
        "    model.eval()\n",
        "    model.to(device)\n",
        "\n",
        "    # Preprocess\n",
        "    text = preprocess(text)\n",
        "    inputs = tokenizer(text, return_tensors=\"pt\", truncation=True, max_length=128, padding=True)\n",
        "    inputs = {k: v.to(device) for k, v in inputs.items()}\n",
        "\n",
        "    with torch.no_grad():\n",
        "        outputs = model(**inputs)\n",
        "        logits = outputs.logits\n",
        "        probs = torch.softmax(logits, dim=1)[0].cpu().numpy()\n",
        "\n",
        "    return {model.config.id2label[i]: float(prob) for i, prob in enumerate(probs)}\n",
        "\n"
      ]
    },
    {
      "cell_type": "markdown",
      "metadata": {
        "id": "54TM5-um5qTE"
      },
      "source": [
        "Define function which turns messy text into understandable insights, helping us understand what the model \u201cfeels\u201d about every sentence."
      ]
    },
    {
      "cell_type": "code",
      "execution_count": 117,
      "metadata": {
        "colab": {
          "base_uri": "https://localhost:8080/"
        },
        "id": "OVyHDlcXsH9j",
        "outputId": "ae69352f-6ebb-45d6-e22c-757c4ed78472"
      },
      "outputs": [
        {
          "output_type": "stream",
          "name": "stdout",
          "text": [
            "All probabilities:\n",
            "  angry: 0.2011\n",
            "  disgust: 0.0549\n",
            "  fear: 0.0141\n",
            "  happy: 0.3001\n",
            "  nocode: 0.0677\n",
            "  not-relevant: 0.0383\n",
            "  sad: 0.2119\n",
            "  surprise: 0.0901\n",
            "All probabilities:\n",
            "  angry: 0.0776\n",
            "  disgust: 0.0890\n",
            "  fear: 0.9997\n",
            "  happy: 0.0641\n"
          ]
        }
      ],
      "source": [
        "# Get predictions from both models\n",
        "example_text = \"I'm not feeling great about the direction of things lately.\"\n",
        "\n",
        "# Multi-label (model_2)\n",
        "multi_probs = predict_sentiments_present(example_text, return_probs=True)\n",
        "\n",
        "# Single-label (model_alt)\n",
        "single_probs = predict_sentiments_present(example_text, return_probs= True, our_model= model_final)\n"
      ]
    },
    {
      "cell_type": "markdown",
      "metadata": {
        "id": "Y4NxRMXx5qTE"
      },
      "source": [
        "These outputs show the model\u2019s predicted probabilities for each sentiment. Each number represents the model\u2019s confidence that the given text expresses a particular emotion.\n",
        "\n",
        "For example, in the first prediction, the text shows the highest probabilities for happy (0.30) and sad (0.21), indicating mixed emotions, while other labels are less likely. In the second prediction, the model is almost certain the text expresses fear (0.9997), showing that it can identify dominant emotions with high confidence.\n",
        "\n",
        "This step helps us understand not just the predicted label, but also the model\u2019s certainty and how it distributes attention across multiple possible emotions."
      ]
    },
    {
      "cell_type": "code",
      "execution_count": 118,
      "metadata": {
        "colab": {
          "base_uri": "https://localhost:8080/",
          "height": 506
        },
        "id": "fh7zW0yxsTDu",
        "outputId": "4aa6d77b-cd5b-4943-84c0-225a7cf5a730"
      },
      "outputs": [
        {
          "output_type": "display_data",
          "data": {
            "text/plain": [
              "<Figure size 1000x500 with 1 Axes>"
            ],
            "image/png": "[encoded data removed]"
          },
          "metadata": {}
        }
      ],
      "source": [
        "# Combine into DataFrame\n",
        "df_compare = pd.DataFrame({\n",
        "    'Sentiment': list(multi_probs.keys()),\n",
        "    'First Pass': list(multi_probs.values()),\n",
        "    'Final Model': [single_probs.get(label, 0.0) for label in multi_probs.keys()]\n",
        "})\n",
        "\n",
        "# Melt for plotting\n",
        "df_melted = df_compare.melt(id_vars='Sentiment', var_name='Model', value_name='Probability')\n",
        "\n",
        "# Plot\n",
        "plt.figure(figsize=(10, 5))\n",
        "sns.barplot(data=df_melted, x='Sentiment', y='Probability', hue='Model')\n",
        "plt.title(f\"Sentiment Probabilities Comparison\\nText: \\\"{example_text}\\\"\")\n",
        "plt.xticks(rotation=45)\n",
        "plt.tight_layout()\n",
        "plt.show()"
      ]
    },
    {
      "cell_type": "markdown",
      "metadata": {
        "id": "wrR-jB495qTE"
      },
      "source": [
        "This chart compares the predicted sentiment probabilities from our first-pass model and the final model for the same text. We can see that the first-pass model detected mixed emotions, with moderate confidence for happy and sad. In contrast, the final model shows a strong, clear prediction for fear, reflecting improved certainty and better alignment with the overall tone of the text. This comparison highlights how retraining and fine-tuning helped the model  become more confident and accurate in identifying the dominant sentiment."
      ]
    },
    {
      "cell_type": "code",
      "execution_count": 119,
      "metadata": {
        "colab": {
          "base_uri": "https://localhost:8080/"
        },
        "id": "uEzC4ZdnsVAE",
        "outputId": "c17b0e64-8cef-4459-a41d-8722301517ba"
      },
      "outputs": [
        {
          "output_type": "stream",
          "name": "stdout",
          "text": [
            "Top sentiment First Pass: happy\n",
            "Top sentiment Final Model: fear\n"
          ]
        }
      ],
      "source": [
        "top_multi = max(multi_probs, key=multi_probs.get)\n",
        "top_single = max(single_probs, key=single_probs.get)\n",
        "print(f\"Top sentiment First Pass: {top_multi}\")\n",
        "print(f\"Top sentiment Final Model: {top_single}\")"
      ]
    },
    {
      "cell_type": "markdown",
      "metadata": {
        "id": "2ocM9vdn5qTE"
      },
      "source": [
        "## Bonus: Song Lyrics Sentiment Analysis:\n",
        "\n",
        "To test how well our sentiment models generalize beyond tweets, we applied them to a creative dataset of popular song lyrics.\n",
        "\n",
        "Each lyric line was passed through our <b>multi-label and single-label RoBERTa models</b>, allowing us to explore how emotions vary across different artists and genres.\n",
        "\n",
        "This test highlights the model\u2019s flexibility and helps visualize emotional tone in text outside social media. An example of how transformer-based sentiment analysis can be applied to art, entertainment, or culture.\n",
        "\n",
        "The bar chart below compares how often each emotion was predicted by both models. This helps visualize differences in emotional tone recognition and model confidence across text types."
      ]
    },
    {
      "cell_type": "code",
      "execution_count": 120,
      "metadata": {
        "colab": {
          "base_uri": "https://localhost:8080/",
          "height": 143
        },
        "id": "i55sxPtZ5qTE",
        "outputId": "1fb88165-003f-4698-f70a-efbc0e316535"
      },
      "outputs": [
        {
          "output_type": "execute_result",
          "data": {
            "text/plain": [
              "                                                text  label  \\\n",
              "0  I was a ghost i was alone \uc5b4\ub450\uc6cc\uc9c4 \uc55e\uae38 \uc18d\uc5d0 given the...  happy   \n",
              "1  i heard that youre settled down that you found...    sad   \n",
              "2  Well good for you I guess you moved on really ...  angry   \n",
              "\n",
              "                                         multi_probs  \\\n",
              "0  {'angry': 0.040601521730422974, 'disgust': 0.0...   \n",
              "1  {'angry': 0.04957197234034538, 'disgust': 0.01...   \n",
              "2  {'angry': 0.008922798559069633, 'disgust': 0.0...   \n",
              "\n",
              "                                        single_probs top_multi top_single  \n",
              "0  {'angry': 0.17666390538215637, 'fear': 0.76933...    nocode       fear  \n",
              "1  {'angry': 0.0008067885064519942, 'fear': 0.145...     happy      happy  \n",
              "2  {'angry': 0.00017084376304410398, 'fear': 0.00...     happy      happy  "
            ],
            "text/html": [
              "\n",
              "  <div id=\"df-358cd586-09c9-48d4-93f6-791c848f2616\" class=\"colab-df-container\">\n",
              "    <div>\n",
              "<style scoped>\n",
              "    .dataframe tbody tr th:only-of-type {\n",
              "        vertical-align: middle;\n",
              "    }\n",
              "\n",
              "    .dataframe tbody tr th {\n",
              "        vertical-align: top;\n",
              "    }\n",
              "\n",
              "    .dataframe thead th {\n",
              "        text-align: right;\n",
              "    }\n",
              "</style>\n",
              "<table border=\"1\" class=\"dataframe\">\n",
              "  <thead>\n",
              "    <tr style=\"text-align: right;\">\n",
              "      <th></th>\n",
              "      <th>text</th>\n",
              "      <th>label</th>\n",
              "      <th>multi_probs</th>\n",
              "      <th>single_probs</th>\n",
              "      <th>top_multi</th>\n",
              "      <th>top_single</th>\n",
              "    </tr>\n",
              "  </thead>\n",
              "  <tbody>\n",
              "    <tr>\n",
              "      <th>0</th>\n",
              "      <td>I was a ghost i was alone \uc5b4\ub450\uc6cc\uc9c4 \uc55e\uae38 \uc18d\uc5d0 given the...</td>\n",
              "      <td>happy</td>\n",
              "      <td>{'angry': 0.040601521730422974, 'disgust': 0.0...</td>\n",
              "      <td>{'angry': 0.17666390538215637, 'fear': 0.76933...</td>\n",
              "      <td>nocode</td>\n",
              "      <td>fear</td>\n",
              "    </tr>\n",
              "    <tr>\n",
              "      <th>1</th>\n",
              "      <td>i heard that youre settled down that you found...</td>\n",
              "      <td>sad</td>\n",
              "      <td>{'angry': 0.04957197234034538, 'disgust': 0.01...</td>\n",
              "      <td>{'angry': 0.0008067885064519942, 'fear': 0.145...</td>\n",
              "      <td>happy</td>\n",
              "      <td>happy</td>\n",
              "    </tr>\n",
              "    <tr>\n",
              "      <th>2</th>\n",
              "      <td>Well good for you I guess you moved on really ...</td>\n",
              "      <td>angry</td>\n",
              "      <td>{'angry': 0.008922798559069633, 'disgust': 0.0...</td>\n",
              "      <td>{'angry': 0.00017084376304410398, 'fear': 0.00...</td>\n",
              "      <td>happy</td>\n",
              "      <td>happy</td>\n",
              "    </tr>\n",
              "  </tbody>\n",
              "</table>\n",
              "</div>\n",
              "    <div class=\"colab-df-buttons\">\n",
              "\n",
              "  <div class=\"colab-df-container\">\n",
              "    <button class=\"colab-df-convert\" onclick=\"convertToInteractive('df-358cd586-09c9-48d4-93f6-791c848f2616')\"\n",
              "            title=\"Convert this dataframe to an interactive table.\"\n",
              "            style=\"display:none;\">\n",
              "\n",
              "  <svg xmlns=\"http://www.w3.org/2000/svg\" height=\"24px\" viewBox=\"0 -960 960 960\">\n",
              "    <path d=\"M120-120v-720h720v720H120Zm60-500h600v-160H180v160Zm220 220h160v-160H400v160Zm0 220h160v-160H400v160ZM180-400h160v-160H180v160Zm440 0h160v-160H620v160ZM180-180h160v-160H180v160Zm440 0h160v-160H620v160Z\"/>\n",
              "  </svg>\n",
              "    </button>\n",
              "\n",
              "  <style>\n",
              "    .colab-df-container {\n",
              "      display:flex;\n",
              "      gap: 12px;\n",
              "    }\n",
              "\n",
              "    .colab-df-convert {\n",
              "      background-color: #E8F0FE;\n",
              "      border: none;\n",
              "      border-radius: 50%;\n",
              "      cursor: pointer;\n",
              "      display: none;\n",
              "      fill: #1967D2;\n",
              "      height: 32px;\n",
              "      padding: 0 0 0 0;\n",
              "      width: 32px;\n",
              "    }\n",
              "\n",
              "    .colab-df-convert:hover {\n",
              "      background-color: #E2EBFA;\n",
              "      box-shadow: 0px 1px 2px rgba(60, 64, 67, 0.3), 0px 1px 3px 1px rgba(60, 64, 67, 0.15);\n",
              "      fill: #174EA6;\n",
              "    }\n",
              "\n",
              "    .colab-df-buttons div {\n",
              "      margin-bottom: 4px;\n",
              "    }\n",
              "\n",
              "    [theme=dark] .colab-df-convert {\n",
              "      background-color: #3B4455;\n",
              "      fill: #D2E3FC;\n",
              "    }\n",
              "\n",
              "    [theme=dark] .colab-df-convert:hover {\n",
              "      background-color: #434B5C;\n",
              "      box-shadow: 0px 1px 3px 1px rgba(0, 0, 0, 0.15);\n",
              "      filter: drop-shadow(0px 1px 2px rgba(0, 0, 0, 0.3));\n",
              "      fill: #FFFFFF;\n",
              "    }\n",
              "  </style>\n",
              "\n",
              "    <script>\n",
              "      const buttonEl =\n",
              "        document.querySelector('#df-358cd586-09c9-48d4-93f6-791c848f2616 button.colab-df-convert');\n",
              "      buttonEl.style.display =\n",
              "        google.colab.kernel.accessAllowed ? 'block' : 'none';\n",
              "\n",
              "      async function convertToInteractive(key) {\n",
              "        const element = document.querySelector('#df-358cd586-09c9-48d4-93f6-791c848f2616');\n",
              "        const dataTable =\n",
              "          await google.colab.kernel.invokeFunction('convertToInteractive',\n",
              "                                                    [key], {});\n",
              "        if (!dataTable) return;\n",
              "\n",
              "        const docLinkHtml = 'Like what you see? Visit the ' +\n",
              "          '<a target=\"_blank\" href=https://colab.research.google.com/notebooks/data_table.ipynb>data table notebook</a>'\n",
              "          + ' to learn more about interactive tables.';\n",
              "        element.innerHTML = '';\n",
              "        dataTable['output_type'] = 'display_data';\n",
              "        await google.colab.output.renderOutput(dataTable, element);\n",
              "        const docLink = document.createElement('div');\n",
              "        docLink.innerHTML = docLinkHtml;\n",
              "        element.appendChild(docLink);\n",
              "      }\n",
              "    </script>\n",
              "  </div>\n",
              "\n",
              "\n",
              "    <div id=\"df-81b8be7a-270b-4b97-8900-941e24b5ff17\">\n",
              "      <button class=\"colab-df-quickchart\" onclick=\"quickchart('df-81b8be7a-270b-4b97-8900-941e24b5ff17')\"\n",
              "                title=\"Suggest charts\"\n",
              "                style=\"display:none;\">\n",
              "\n",
              "<svg xmlns=\"http://www.w3.org/2000/svg\" height=\"24px\"viewBox=\"0 0 24 24\"\n",
              "     width=\"24px\">\n",
              "    <g>\n",
              "        <path d=\"M19 3H5c-1.1 0-2 .9-2 2v14c0 1.1.9 2 2 2h14c1.1 0 2-.9 2-2V5c0-1.1-.9-2-2-2zM9 17H7v-7h2v7zm4 0h-2V7h2v10zm4 0h-2v-4h2v4z\"/>\n",
              "    </g>\n",
              "</svg>\n",
              "      </button>\n",
              "\n",
              "<style>\n",
              "  .colab-df-quickchart {\n",
              "      --bg-color: #E8F0FE;\n",
              "      --fill-color: #1967D2;\n",
              "      --hover-bg-color: #E2EBFA;\n",
              "      --hover-fill-color: #174EA6;\n",
              "      --disabled-fill-color: #AAA;\n",
              "      --disabled-bg-color: #DDD;\n",
              "  }\n",
              "\n",
              "  [theme=dark] .colab-df-quickchart {\n",
              "      --bg-color: #3B4455;\n",
              "      --fill-color: #D2E3FC;\n",
              "      --hover-bg-color: #434B5C;\n",
              "      --hover-fill-color: #FFFFFF;\n",
              "      --disabled-bg-color: #3B4455;\n",
              "      --disabled-fill-color: #666;\n",
              "  }\n",
              "\n",
              "  .colab-df-quickchart {\n",
              "    background-color: var(--bg-color);\n",
              "    border: none;\n",
              "    border-radius: 50%;\n",
              "    cursor: pointer;\n",
              "    display: none;\n",
              "    fill: var(--fill-color);\n",
              "    height: 32px;\n",
              "    padding: 0;\n",
              "    width: 32px;\n",
              "  }\n",
              "\n",
              "  .colab-df-quickchart:hover {\n",
              "    background-color: var(--hover-bg-color);\n",
              "    box-shadow: 0 1px 2px rgba(60, 64, 67, 0.3), 0 1px 3px 1px rgba(60, 64, 67, 0.15);\n",
              "    fill: var(--button-hover-fill-color);\n",
              "  }\n",
              "\n",
              "  .colab-df-quickchart-complete:disabled,\n",
              "  .colab-df-quickchart-complete:disabled:hover {\n",
              "    background-color: var(--disabled-bg-color);\n",
              "    fill: var(--disabled-fill-color);\n",
              "    box-shadow: none;\n",
              "  }\n",
              "\n",
              "  .colab-df-spinner {\n",
              "    border: 2px solid var(--fill-color);\n",
              "    border-color: transparent;\n",
              "    border-bottom-color: var(--fill-color);\n",
              "    animation:\n",
              "      spin 1s steps(1) infinite;\n",
              "  }\n",
              "\n",
              "  @keyframes spin {\n",
              "    0% {\n",
              "      border-color: transparent;\n",
              "      border-bottom-color: var(--fill-color);\n",
              "      border-left-color: var(--fill-color);\n",
              "    }\n",
              "    20% {\n",
              "      border-color: transparent;\n",
              "      border-left-color: var(--fill-color);\n",
              "      border-top-color: var(--fill-color);\n",
              "    }\n",
              "    30% {\n",
              "      border-color: transparent;\n",
              "      border-left-color: var(--fill-color);\n",
              "      border-top-color: var(--fill-color);\n",
              "      border-right-color: var(--fill-color);\n",
              "    }\n",
              "    40% {\n",
              "      border-color: transparent;\n",
              "      border-right-color: var(--fill-color);\n",
              "      border-top-color: var(--fill-color);\n",
              "    }\n",
              "    60% {\n",
              "      border-color: transparent;\n",
              "      border-right-color: var(--fill-color);\n",
              "    }\n",
              "    80% {\n",
              "      border-color: transparent;\n",
              "      border-right-color: var(--fill-color);\n",
              "      border-bottom-color: var(--fill-color);\n",
              "    }\n",
              "    90% {\n",
              "      border-color: transparent;\n",
              "      border-bottom-color: var(--fill-color);\n",
              "    }\n",
              "  }\n",
              "</style>\n",
              "\n",
              "      <script>\n",
              "        async function quickchart(key) {\n",
              "          const quickchartButtonEl =\n",
              "            document.querySelector('#' + key + ' button');\n",
              "          quickchartButtonEl.disabled = true;  // To prevent multiple clicks.\n",
              "          quickchartButtonEl.classList.add('colab-df-spinner');\n",
              "          try {\n",
              "            const charts = await google.colab.kernel.invokeFunction(\n",
              "                'suggestCharts', [key], {});\n",
              "          } catch (error) {\n",
              "            console.error('Error during call to suggestCharts:', error);\n",
              "          }\n",
              "          quickchartButtonEl.classList.remove('colab-df-spinner');\n",
              "          quickchartButtonEl.classList.add('colab-df-quickchart-complete');\n",
              "        }\n",
              "        (() => {\n",
              "          let quickchartButtonEl =\n",
              "            document.querySelector('#df-81b8be7a-270b-4b97-8900-941e24b5ff17 button');\n",
              "          quickchartButtonEl.style.display =\n",
              "            google.colab.kernel.accessAllowed ? 'block' : 'none';\n",
              "        })();\n",
              "      </script>\n",
              "    </div>\n",
              "\n",
              "    </div>\n",
              "  </div>\n"
            ],
            "application/vnd.google.colaboratory.intrinsic+json": {
              "type": "dataframe",
              "variable_name": "songs_df",
              "summary": "{\n  \"name\": \"songs_df\",\n  \"rows\": 3,\n  \"fields\": [\n    {\n      \"column\": \"text\",\n      \"properties\": {\n        \"dtype\": \"string\",\n        \"num_unique_values\": 3,\n        \"samples\": [\n          \"I was a ghost i was alone \\uc5b4\\ub450\\uc6cc\\uc9c4 \\uc55e\\uae38 \\uc18d\\uc5d0 given the throne i didnt know how to believe i was the queen that im meant to be i lived two lives tried to play both sides but i couldnt find my own place called a problem child cause i got too wild but now thats how im getting paid \\ub05d\\uc5c6\\uc774 on stage im done hidin now im shinin like im born to be we dreamin hard we came so far now ill believe were goin up up up its our moment you know together were glowing gonna be gonna be golden up up up with our voices \\uc601\\uc6d0\\ud788 \\uae68\\uc9c8 \\uc218 \\uc5c6\\ub294 gonna be gonna be golden im done hidin now im shinin like im born to be our time no fears no lies thats who were born to be waited so long to break these walls down to wake up and feel like me put these patterns all in the past now and finally live like the girl they all see no more hiding ill be shining like im born to be cause we are hunters voices strong and i know ill believe were goin up up up its our moment you know together were glowing gonna be gonna be golden up up up with our voices \\uc601\\uc6d0\\ud788 \\uae68\\uc9c8 \\uc218 \\uc5c6\\ub294 gonna be gonna be golden im done hidin now im shining like im born to be our time no fears no lies thats who were born to be you know were gonna be gonna be golden were gonna be gonna be born to be born to be glowin \\ubc1d\\uac8c \\ube5b\\ub098\\ub294 \\uc6b0\\ub9b0 you know that its our time no fears no lies thats who were born to be\",\n          \"i heard that youre settled down that you found a girl and youre married now i heard that your dreams came true guess she gave you things i didnt give to you old friend why are you so shy aint like you to hold back or hide from the light i hate to turn up out of the blue uninvited but i couldnt stay away i couldnt fight it i had hoped youd see my face and that youd be reminded that for me it isnt over never mind ill find someone like you i wish nothing but the best for you too dont forget me i beg i remember you said sometimes it lasts in love but sometimes it hurts instead sometimes it lasts in love but sometimes it hurts instead you know how the time flies\",\n          \"Well good for you I guess you moved on really easily You found a new girl and it only took a couple weeks Remember when you said that you wanted to give me the world World And good for you I guess that youve been working on yourself I guess that therapist I found for you she really helped Now you can be a better man for your brandnew girl Well good for you you look happy and healthy Not me if you ever cared to ask Good for you youre doing great out there without me baby God I wish that I could do that Ive lost my mind Ive spent the night Crying on the floor of my bathroom But youre so unaffected I really dont get it But I guess good for you Well good for you I guess youre gettin everything you want ah You bought a new car and your careers really takin off ah Its like we never even happened baby what the fuck is up with that Ha And good for you its like you never even met me Remember when you swore to God I was the only Person who ever got you Well screw that and screw you You will never have to hurt the way you know that I do Well good for you you look happy and healthy Not me if you ever cared to ask Good for you youre doing great out there without me baby God I wish that I could do that Ive lost my mind Ive spent the night Crying on the floor of my bathroom But youre so unaffected I really dont get it But I guess good for you Ahahahah Ahahahah Maybe Im too emotional But your apathy is like a wound in salt Maybe Im too emotional Or maybe you never cared at all Maybe Im too emotional Your apathy is like a wound in salt Maybe Im too emotional Or maybe you never cared at all Well good for you you look happy and healthy Not me if you ever cared to ask Good for you youre doing great out there without me baby Like a damn sociopath Ive lost my mind Ive spent the night Crying on the floor of my bathroom But youre so unaffected I really dont get it But I guess good for you Well good for you I guess you moved on really easily\"\n        ],\n        \"semantic_type\": \"\",\n        \"description\": \"\"\n      }\n    },\n    {\n      \"column\": \"label\",\n      \"properties\": {\n        \"dtype\": \"string\",\n        \"num_unique_values\": 3,\n        \"samples\": [\n          \"happy\",\n          \"sad\",\n          \"angry\"\n        ],\n        \"semantic_type\": \"\",\n        \"description\": \"\"\n      }\n    },\n    {\n      \"column\": \"multi_probs\",\n      \"properties\": {\n        \"dtype\": \"object\",\n        \"semantic_type\": \"\",\n        \"description\": \"\"\n      }\n    },\n    {\n      \"column\": \"single_probs\",\n      \"properties\": {\n        \"dtype\": \"object\",\n        \"semantic_type\": \"\",\n        \"description\": \"\"\n      }\n    },\n    {\n      \"column\": \"top_multi\",\n      \"properties\": {\n        \"dtype\": \"string\",\n        \"num_unique_values\": 2,\n        \"samples\": [\n          \"happy\",\n          \"nocode\"\n        ],\n        \"semantic_type\": \"\",\n        \"description\": \"\"\n      }\n    },\n    {\n      \"column\": \"top_single\",\n      \"properties\": {\n        \"dtype\": \"string\",\n        \"num_unique_values\": 2,\n        \"samples\": [\n          \"happy\",\n          \"fear\"\n        ],\n        \"semantic_type\": \"\",\n        \"description\": \"\"\n      }\n    }\n  ]\n}"
            }
          },
          "metadata": {},
          "execution_count": 120
        }
      ],
      "source": [
        "# --- Load Song Dataset ---\n",
        "songs_df = pd.read_csv(\n",
        "    'https://raw.githubusercontent.com/jeelfaldu7/transformer_sentiment_analysis/refs/heads/main/datasets/song_lyrics.csv'\n",
        ")\n",
        "\n",
        "# --- Define the correct prediction functions if not already defined ---\n",
        "# Load trained multi-label model (first pass)\n",
        "trained_model = AutoModelForSequenceClassification.from_pretrained(\"raphi-l/my-sentiment-model\")\n",
        "\n",
        "def predict_sentiments(text, model=trained_model, tokenizer=roberta_tokenizer, threshold=0.5, return_probs=False):\n",
        "    \"\"\"\n",
        "    Multi-label sentiment prediction using trained RoBERTa model.\n",
        "    \"\"\"\n",
        "    model.eval()\n",
        "    model.to(device)\n",
        "    text = preprocess(text)\n",
        "\n",
        "    inputs = tokenizer(text, return_tensors=\"pt\", truncation=True, max_length=128, padding=True)\n",
        "    inputs = {k: v.to(device) for k, v in inputs.items()}\n",
        "\n",
        "    with torch.no_grad():\n",
        "        outputs = model(**inputs)\n",
        "        logits = outputs.logits\n",
        "        probs = torch.sigmoid(logits)[0].cpu().numpy()\n",
        "\n",
        "    if return_probs:\n",
        "        return {id2label[idx]: float(prob) for idx, prob in enumerate(probs)}\n",
        "    else:\n",
        "        return {id2label[idx]: float(prob) for idx, prob in enumerate(probs) if prob >= threshold}\n",
        "\n",
        "\n",
        "def predict_single_label(text, model=model_alt, tokenizer=roberta_tokenizer):\n",
        "    \"\"\"\n",
        "    Single-label sentiment prediction using alternate RoBERTa model.\n",
        "    \"\"\"\n",
        "    model.eval()\n",
        "    model.to(device)\n",
        "    text = preprocess(text)\n",
        "\n",
        "    inputs = tokenizer(text, return_tensors=\"pt\", truncation=True, max_length=128, padding=True)\n",
        "    inputs = {k: v.to(device) for k, v in inputs.items()}\n",
        "\n",
        "    with torch.no_grad():\n",
        "        outputs = model(**inputs)\n",
        "        logits = outputs.logits\n",
        "        probs = torch.softmax(logits, dim=1)[0].cpu().numpy()\n",
        "\n",
        "    return {model.config.id2label[i]: float(prob) for i, prob in enumerate(probs)}\n",
        "\n",
        "songs_df['multi_probs'] = songs_df['text'].apply(lambda x: predict_sentiments(x, return_probs=True))\n",
        "songs_df['single_probs'] = songs_df['text'].apply(lambda x: predict_single_label(x))\n",
        "songs_df['top_multi'] = songs_df['multi_probs'].apply(lambda x: max(x, key=x.get))\n",
        "songs_df['top_single'] = songs_df['single_probs'].apply(lambda x: max(x, key=x.get))\n",
        "\n",
        "songs_df.head()\n"
      ]
    },
    {
      "cell_type": "code",
      "execution_count": 121,
      "metadata": {
        "colab": {
          "base_uri": "https://localhost:8080/"
        },
        "id": "Y9TtMpER5qTF",
        "outputId": "200e2813-6604-4d3c-cd2d-57cea9623d00"
      },
      "outputs": [
        {
          "output_type": "stream",
          "name": "stdout",
          "text": [
            "Top sentiment First Pass: happy\n",
            "Top sentiment Final Model: fear\n"
          ]
        }
      ],
      "source": [
        "top_multi = max(multi_probs, key=multi_probs.get)\n",
        "top_single = max(single_probs, key=single_probs.get)\n",
        "print(f\"Top sentiment First Pass: {top_multi}\")\n",
        "print(f\"Top sentiment Final Model: {top_single}\")"
      ]
    },
    {
      "cell_type": "code",
      "execution_count": 122,
      "metadata": {
        "colab": {
          "base_uri": "https://localhost:8080/"
        },
        "id": "0CtLGm_m5qTF",
        "outputId": "443b560f-6288-4232-a4b8-ccc52abf3702"
      },
      "outputs": [
        {
          "output_type": "stream",
          "name": "stdout",
          "text": [
            "All probabilities:\n",
            "  angry: 0.2900\n",
            "  disgust: 0.0373\n",
            "  fear: 0.0126\n",
            "  happy: 0.0193\n",
            "  nocode: 0.2393\n",
            "  not-relevant: 0.2233\n",
            "  sad: 0.0636\n",
            "  surprise: 0.0472\n",
            "All probabilities:\n",
            "  angry: 0.9198\n",
            "  disgust: 0.9588\n",
            "  fear: 0.0112\n",
            "  happy: 0.1570\n"
          ]
        }
      ],
      "source": [
        "example_text = 'Shutdown With No Clear End Poses New Economic Threat' #NYT Headline 22_OCT_2025\n",
        "\n",
        "multi_probs = predict_sentiments_present(example_text, return_probs=True)\n",
        "\n",
        "single_probs = predict_sentiments_present(example_text, return_probs= True, our_model= model_final)"
      ]
    },
    {
      "cell_type": "code",
      "execution_count": 123,
      "metadata": {
        "colab": {
          "base_uri": "https://localhost:8080/",
          "height": 507
        },
        "id": "IXcqPxoL5qTF",
        "outputId": "c0f0b4fa-0084-4c79-a7de-c4e7a76a8eb8"
      },
      "outputs": [
        {
          "output_type": "display_data",
          "data": {
            "text/plain": [
              "<Figure size 1000x500 with 1 Axes>"
            ],
            "image/png": "[encoded data removed]"
          },
          "metadata": {}
        }
      ],
      "source": [
        "# Compare overall emotion frequency for song predictions\n",
        "multi_counts = songs_df['top_multi'].value_counts()\n",
        "single_counts = songs_df['top_single'].value_counts()\n",
        "\n",
        "compare_songs = pd.DataFrame({\n",
        "    'Emotion': multi_counts.index,\n",
        "    'Multi-label': multi_counts.values,\n",
        "    'Single-label': [single_counts.get(e, 0) for e in multi_counts.index]\n",
        "})\n",
        "\n",
        "compare_songs_melted = compare_songs.melt(id_vars='Emotion', var_name='Model', value_name='Count')\n",
        "\n",
        "plt.figure(figsize=(10, 5))\n",
        "sns.barplot(data=compare_songs_melted, x='Emotion', y='Count', hue='Model', palette='Set2')\n",
        "plt.title(\"Emotion Distribution in Song Lyrics: Multi-label vs Single-label RoBERTa\")\n",
        "plt.xlabel(\"Predicted Emotion\")\n",
        "plt.ylabel(\"Count\")\n",
        "plt.xticks(rotation=45)\n",
        "plt.tight_layout()\n",
        "plt.show()"
      ]
    },
    {
      "cell_type": "markdown",
      "metadata": {
        "id": "c3jrBTQ25qTF"
      },
      "source": [
        "### Song Emotion Comparison Results\n",
        "\n",
        "- The <b>multi-labbel</b> model tends to assign multiple possible emotoins to ambiguous lyrics, capturing suble tone('nocode' or mixed mood).\n",
        "- The <b>single-label</b> model focuses on dominant emotions (e.g., \u201chappy\u201d for uplifting or neutral lyrics).\n",
        "- The dataset is small, but even this graph shows how language models can interpret emotional context differently based on their training objective."
      ]
    },
    {
      "cell_type": "markdown",
      "metadata": {
        "id": "BL7OQTeL5qTF"
      },
      "source": [
        "## Conclusion\n",
        "\n",
        "In this project, we explored sentiment analysis using transformer-based NLP models from Hugging Face \u2014 specifically DistilBERT and Twitter RoBERTa. Our goal was to automatically classify textual data (such as tweets) into emotion or sentiment categories, and to compare how multi-label and single-label modeling approaches affect prediction performance and confidence.\n",
        "\n",
        "Our project demonstrates how <b>transformer-based models (RoBERTa)</b> can be fine-tuned for emotion and sentiment detection across varied text sources \u2014 from tweets to song lyrics.\n",
        "\n",
        "<strong> Key takeaways:</strong>\n",
        "- The <b>multi-label model</b> captures a wider emotional spectrum and can reflect complex tones in language.\n",
        "- The <b>single-label model</b> is simpler and faster, but it can miss emotional nuances.\n",
        "- Using visualization, we compared how these models respond to real-world and creative texts, revealing strengths and limitations in generalization.\n",
        "- Overall, both models achieved meaningful, interpretable results \u2014 showcasing the power of modern NLP for understanding human expression.\n",
        "\n",
        "<strong> Future Directions </strong>\n",
        "- <b>Model Enhancement:</b> Fine-tuning the models with a larger and more diverse dataset could improve accuracy and generalization.\n",
        "- <b> Application Expansion</b>: Extending this analysis to other forms of text, such as poetry or prose, could provide deeper insights into emotional expression in language.\n"
      ]
    },
    {
      "cell_type": "code",
      "source": [],
      "metadata": {
        "id": "VcFKbil4R_2k"
      },
      "execution_count": 123,
      "outputs": []
    }
  ],
  "metadata": {
    "accelerator": "GPU",
    "colab": {
      "gpuType": "A100",
      "provenance": []
    },
    "kernelspec": {
      "display_name": "Python 3",
      "name": "python3"
    },
    "language_info": {
      "name": "python"
    }
  },
  "nbformat": 4,
  "nbformat_minor": 0
}