{
  "cells": [
    {
      "cell_type": "markdown",
      "metadata": {
        "id": "K3DXy4KkvE9k"
      },
      "source": [
        "<Font size = 5> <strong>October Jode Jam"
      ]
    },
    {
      "cell_type": "markdown",
      "metadata": {
        "id": "EEFpOQQyvLGH"
      },
      "source": [
        "Prepared by Jeel Faldu, Jimmy Koester, and Raphael Lu"
      ]
    },
    {
      "cell_type": "code",
      "execution_count": 2,
      "metadata": {
        "id": "Gi7zRg4Y6lZ0"
      },
      "outputs": [],
      "source": [
        "import pandas as pd\n",
        "import numpy as np\n",
        "import seaborn as sns\n",
        "import matplotlib.pyplot as plt\n",
        "import torch\n",
        "from sklearn.preprocessing import MultiLabelBinarizer\n",
        "from sklearn.model_selection import train_test_split\n",
        "from sklearn.preprocessing import LabelEncoder\n",
        "\n",
        "#HuggingFace tools\n",
        "from transformers import DistilBertTokenizer, DistilBertForSequenceClassification\n",
        "from transformers import AutoTokenizer, AutoModelForSequenceClassification, Trainer, TrainingArguments\n",
        "from datasets import Dataset\n",
        "\n",
        "from google.colab import output\n",
        "\n",
        "import urllib.request\n",
        "disable_colab_widgets = output.disable_custom_widget_manager()"
      ]
    },
    {
      "cell_type": "markdown",
      "metadata": {
        "id": "wlrku-EavEi7"
      },
      "source": [
        "## Introduction\n",
        "\n",
        "This project explores sentiment analysis using `distilbert-base-uncased-finetuned-sst-2-english` and `twitter-roberta-base-sentiment` from the Hugging Face Transformers library. The goal is to automatically classify text as positive, negative, or neutral using pretrained transformer models.\n",
        "\n",
        "We analyzed sentiment in social media posts, compared multiple models, and visualized their performance and confidence levels. We also applied the models to a creative dataset, showcasing how NLP can reveal insights from real-world text such as tweets, song lyrics, or news articles."
      ]
    },
    {
      "cell_type": "markdown",
      "metadata": {
        "id": "vN87cH0RvhI-"
      },
      "source": [
        "## Device Loading"
      ]
    },
    {
      "cell_type": "code",
      "execution_count": null,
      "metadata": {
        "colab": {
          "base_uri": "https://localhost:8080/"
        },
        "id": "5bRmuQyqAFDa",
        "outputId": "b6ca1778-71e3-4afb-8527-c0af988dfe28"
      },
      "outputs": [
        {
          "name": "stdout",
          "output_type": "stream",
          "text": [
            "Device Loaded: cuda\n"
          ]
        }
      ],
      "source": [
        "disable_colab_widgets\n",
        "\n",
        "device = 'cuda' if torch.cuda.is_available() else 'cpu'\n",
        "print(f\"Device Loaded: {device}\")"
      ]
    },
    {
      "cell_type": "code",
      "execution_count": null,
      "metadata": {},
      "outputs": [],
      "source": [
        "# model_1 = DistilBertForSequenceClassification.from_pretrained(\"distilbert-base-uncased-finetuned-sst-2-english\")\n",
        "# model_2 = AutoModelForSequenceClassification.from_pretrained(\"cardiffnlp/twitter-roberta-base-sentiment\")\n",
        "\n",
        "distil_tokenizer = DistilBertTokenizer.from_pretrained(\"distilbert-base-uncased-finetuned-sst-2-english\")"
      ]
    },
    {
      "cell_type": "markdown",
      "metadata": {},
      "source": [
        "We intialized the DistilBERT tokenizer which prepares raw text for the model by converting it into tokens consistent with how the pretrained model was trained. "
      ]
    },
    {
      "cell_type": "code",
      "execution_count": null,
      "metadata": {
        "id": "RG0XVw4JSEXl"
      },
      "outputs": [],
      "source": [
        "# Set random seeds for reproducibility\n",
        "torch.manual_seed(42)\n",
        "np.random.seed(42)\n",
        "torch.cuda.manual_seed_all(42)\n",
        "torch.backends.cudnn.deterministic = True\n",
        "torch.backends.cudnn.benchmark = False"
      ]
    },
    {
      "cell_type": "markdown",
      "metadata": {},
      "source": [
        "Next, we set random seeds to ensure reproducibility, meaning that everytime the code runs, it produces the same results. This helps maintain consistency across experiments and makes debugging or comparision between models more reliable. "
      ]
    },
    {
      "cell_type": "markdown",
      "metadata": {
        "id": "7_TPcNPFvrhn"
      },
      "source": [
        "## Data Preprocessing\n",
        "\n",
        "In data exploration, no duplicate entries were found. In the orignal data set, Tweets were encoded as\n",
        "\n",
        "<pre>\n",
        "    'nocode', 'happy', 'not-relevant', 'angry', 'disgust|angry'\n",
        "\n",
        "    'disgust', 'happy|surprise', 'sad', 'surprise', 'happy|sad'\n",
        "\n",
        "    'sad|disgust', 'sad|angry', 'sad|disgust|angry'\n",
        "</pre>"
      ]
    },
    {
      "cell_type": "markdown",
      "metadata": {
        "id": "hLNM1rn1wjiv"
      },
      "source": [
        "### Summary of Data Preprocessing:\n",
        "  - Fields were renamed `id`, `text`, and `label`\n",
        "  - `id` field was ultimately dropped\n",
        "  - Target labels were re-coded into arrays using OHE:\n",
        "    - e.g. with sentiments\n",
        "\n",
        "      `['angry' 'disgust' 'happy' 'nocode' 'not-relevant' 'sad' 'surprise']`, a tensor of `[1 0 0 0 0 1 0]` indicates an `angry|sad` tweet\n",
        "  - Data were split using a 80:20 (train:test) ratio and stored in `X_train, X_test, y_train, y_test`\n"
      ]
    },
    {
      "cell_type": "code",
      "execution_count": 3,
      "metadata": {
        "colab": {
          "base_uri": "https://localhost:8080/",
          "height": 827
        },
        "id": "FGbtJk3_APC6",
        "outputId": "3f6ab4e1-e3dd-4f02-9f81-ba48e54a571e"
      },
      "outputs": [
        {
          "data": {
            "application/vnd.google.colaboratory.intrinsic+json": {
              "summary": "{\n  \"name\": \"display(df_val\",\n  \"rows\": 5,\n  \"fields\": [\n    {\n      \"column\": \"id\",\n      \"properties\": {\n        \"dtype\": \"number\",\n        \"std\": 1544739453122322,\n        \"min\": 611857364396965889,\n        \"max\": 614877582664835073,\n        \"num_unique_values\": 5,\n        \"samples\": [\n          614484565059596288,\n          611932373039644672,\n          614746522043973632\n        ],\n        \"semantic_type\": \"\",\n        \"description\": \"\"\n      }\n    },\n    {\n      \"column\": \"text\",\n      \"properties\": {\n        \"dtype\": \"string\",\n        \"num_unique_values\": 5,\n        \"samples\": [\n          \"Dorian Gray with Rainbow Scarf #LoveWins (from @britishmuseum http://t.co/Q4XSwL0esu) http://t.co/h0evbTBWRq\",\n          \"@britishmuseum @TudorHistory What a beautiful jewel / portrait. Is the 'R' for Rex ?\",\n          \"@SelectShowcase @Tate_StIves ... Replace with your wish which the artist uses in next installation! It was entralling!\"\n        ],\n        \"semantic_type\": \"\",\n        \"description\": \"\"\n      }\n    },\n    {\n      \"column\": \"label\",\n      \"properties\": {\n        \"dtype\": \"category\",\n        \"num_unique_values\": 2,\n        \"samples\": [\n          \"happy\",\n          \"nocode\"\n        ],\n        \"semantic_type\": \"\",\n        \"description\": \"\"\n      }\n    }\n  ]\n}",
              "type": "dataframe"
            },
            "text/html": [
              "\n",
              "  <div id=\"df-11e55256-1a96-4475-bd46-c19bf636b1b6\" class=\"colab-df-container\">\n",
              "    <div>\n",
              "<style scoped>\n",
              "    .dataframe tbody tr th:only-of-type {\n",
              "        vertical-align: middle;\n",
              "    }\n",
              "\n",
              "    .dataframe tbody tr th {\n",
              "        vertical-align: top;\n",
              "    }\n",
              "\n",
              "    .dataframe thead th {\n",
              "        text-align: right;\n",
              "    }\n",
              "</style>\n",
              "<table border=\"1\" class=\"dataframe\">\n",
              "  <thead>\n",
              "    <tr style=\"text-align: right;\">\n",
              "      <th></th>\n",
              "      <th>id</th>\n",
              "      <th>text</th>\n",
              "      <th>label</th>\n",
              "    </tr>\n",
              "  </thead>\n",
              "  <tbody>\n",
              "    <tr>\n",
              "      <th>0</th>\n",
              "      <td>611857364396965889</td>\n",
              "      <td>@aandraous @britishmuseum @AndrewsAntonio Merc...</td>\n",
              "      <td>nocode</td>\n",
              "    </tr>\n",
              "    <tr>\n",
              "      <th>1</th>\n",
              "      <td>614484565059596288</td>\n",
              "      <td>Dorian Gray with Rainbow Scarf #LoveWins (from...</td>\n",
              "      <td>happy</td>\n",
              "    </tr>\n",
              "    <tr>\n",
              "      <th>2</th>\n",
              "      <td>614746522043973632</td>\n",
              "      <td>@SelectShowcase @Tate_StIves ... Replace with ...</td>\n",
              "      <td>happy</td>\n",
              "    </tr>\n",
              "    <tr>\n",
              "      <th>3</th>\n",
              "      <td>614877582664835073</td>\n",
              "      <td>@Sofabsports thank you for following me back. ...</td>\n",
              "      <td>happy</td>\n",
              "    </tr>\n",
              "    <tr>\n",
              "      <th>4</th>\n",
              "      <td>611932373039644672</td>\n",
              "      <td>@britishmuseum @TudorHistory What a beautiful ...</td>\n",
              "      <td>happy</td>\n",
              "    </tr>\n",
              "  </tbody>\n",
              "</table>\n",
              "</div>\n",
              "    <div class=\"colab-df-buttons\">\n",
              "\n",
              "  <div class=\"colab-df-container\">\n",
              "    <button class=\"colab-df-convert\" onclick=\"convertToInteractive('df-11e55256-1a96-4475-bd46-c19bf636b1b6')\"\n",
              "            title=\"Convert this dataframe to an interactive table.\"\n",
              "            style=\"display:none;\">\n",
              "\n",
              "  <svg xmlns=\"http://www.w3.org/2000/svg\" height=\"24px\" viewBox=\"0 -960 960 960\">\n",
              "    <path d=\"M120-120v-720h720v720H120Zm60-500h600v-160H180v160Zm220 220h160v-160H400v160Zm0 220h160v-160H400v160ZM180-400h160v-160H180v160Zm440 0h160v-160H620v160ZM180-180h160v-160H180v160Zm440 0h160v-160H620v160Z\"/>\n",
              "  </svg>\n",
              "    </button>\n",
              "\n",
              "  <style>\n",
              "    .colab-df-container {\n",
              "      display:flex;\n",
              "      gap: 12px;\n",
              "    }\n",
              "\n",
              "    .colab-df-convert {\n",
              "      background-color: #E8F0FE;\n",
              "      border: none;\n",
              "      border-radius: 50%;\n",
              "      cursor: pointer;\n",
              "      display: none;\n",
              "      fill: #1967D2;\n",
              "      height: 32px;\n",
              "      padding: 0 0 0 0;\n",
              "      width: 32px;\n",
              "    }\n",
              "\n",
              "    .colab-df-convert:hover {\n",
              "      background-color: #E2EBFA;\n",
              "      box-shadow: 0px 1px 2px rgba(60, 64, 67, 0.3), 0px 1px 3px 1px rgba(60, 64, 67, 0.15);\n",
              "      fill: #174EA6;\n",
              "    }\n",
              "\n",
              "    .colab-df-buttons div {\n",
              "      margin-bottom: 4px;\n",
              "    }\n",
              "\n",
              "    [theme=dark] .colab-df-convert {\n",
              "      background-color: #3B4455;\n",
              "      fill: #D2E3FC;\n",
              "    }\n",
              "\n",
              "    [theme=dark] .colab-df-convert:hover {\n",
              "      background-color: #434B5C;\n",
              "      box-shadow: 0px 1px 3px 1px rgba(0, 0, 0, 0.15);\n",
              "      filter: drop-shadow(0px 1px 2px rgba(0, 0, 0, 0.3));\n",
              "      fill: #FFFFFF;\n",
              "    }\n",
              "  </style>\n",
              "\n",
              "    <script>\n",
              "      const buttonEl =\n",
              "        document.querySelector('#df-11e55256-1a96-4475-bd46-c19bf636b1b6 button.colab-df-convert');\n",
              "      buttonEl.style.display =\n",
              "        google.colab.kernel.accessAllowed ? 'block' : 'none';\n",
              "\n",
              "      async function convertToInteractive(key) {\n",
              "        const element = document.querySelector('#df-11e55256-1a96-4475-bd46-c19bf636b1b6');\n",
              "        const dataTable =\n",
              "          await google.colab.kernel.invokeFunction('convertToInteractive',\n",
              "                                                    [key], {});\n",
              "        if (!dataTable) return;\n",
              "\n",
              "        const docLinkHtml = 'Like what you see? Visit the ' +\n",
              "          '<a target=\"_blank\" href=https://colab.research.google.com/notebooks/data_table.ipynb>data table notebook</a>'\n",
              "          + ' to learn more about interactive tables.';\n",
              "        element.innerHTML = '';\n",
              "        dataTable['output_type'] = 'display_data';\n",
              "        await google.colab.output.renderOutput(dataTable, element);\n",
              "        const docLink = document.createElement('div');\n",
              "        docLink.innerHTML = docLinkHtml;\n",
              "        element.appendChild(docLink);\n",
              "      }\n",
              "    </script>\n",
              "  </div>\n",
              "\n",
              "\n",
              "    <div id=\"df-de873629-d866-4ea4-9a2b-5b13a00ecb4b\">\n",
              "      <button class=\"colab-df-quickchart\" onclick=\"quickchart('df-de873629-d866-4ea4-9a2b-5b13a00ecb4b')\"\n",
              "                title=\"Suggest charts\"\n",
              "                style=\"display:none;\">\n",
              "\n",
              "<svg xmlns=\"http://www.w3.org/2000/svg\" height=\"24px\"viewBox=\"0 0 24 24\"\n",
              "     width=\"24px\">\n",
              "    <g>\n",
              "        <path d=\"M19 3H5c-1.1 0-2 .9-2 2v14c0 1.1.9 2 2 2h14c1.1 0 2-.9 2-2V5c0-1.1-.9-2-2-2zM9 17H7v-7h2v7zm4 0h-2V7h2v10zm4 0h-2v-4h2v4z\"/>\n",
              "    </g>\n",
              "</svg>\n",
              "      </button>\n",
              "\n",
              "<style>\n",
              "  .colab-df-quickchart {\n",
              "      --bg-color: #E8F0FE;\n",
              "      --fill-color: #1967D2;\n",
              "      --hover-bg-color: #E2EBFA;\n",
              "      --hover-fill-color: #174EA6;\n",
              "      --disabled-fill-color: #AAA;\n",
              "      --disabled-bg-color: #DDD;\n",
              "  }\n",
              "\n",
              "  [theme=dark] .colab-df-quickchart {\n",
              "      --bg-color: #3B4455;\n",
              "      --fill-color: #D2E3FC;\n",
              "      --hover-bg-color: #434B5C;\n",
              "      --hover-fill-color: #FFFFFF;\n",
              "      --disabled-bg-color: #3B4455;\n",
              "      --disabled-fill-color: #666;\n",
              "  }\n",
              "\n",
              "  .colab-df-quickchart {\n",
              "    background-color: var(--bg-color);\n",
              "    border: none;\n",
              "    border-radius: 50%;\n",
              "    cursor: pointer;\n",
              "    display: none;\n",
              "    fill: var(--fill-color);\n",
              "    height: 32px;\n",
              "    padding: 0;\n",
              "    width: 32px;\n",
              "  }\n",
              "\n",
              "  .colab-df-quickchart:hover {\n",
              "    background-color: var(--hover-bg-color);\n",
              "    box-shadow: 0 1px 2px rgba(60, 64, 67, 0.3), 0 1px 3px 1px rgba(60, 64, 67, 0.15);\n",
              "    fill: var(--button-hover-fill-color);\n",
              "  }\n",
              "\n",
              "  .colab-df-quickchart-complete:disabled,\n",
              "  .colab-df-quickchart-complete:disabled:hover {\n",
              "    background-color: var(--disabled-bg-color);\n",
              "    fill: var(--disabled-fill-color);\n",
              "    box-shadow: none;\n",
              "  }\n",
              "\n",
              "  .colab-df-spinner {\n",
              "    border: 2px solid var(--fill-color);\n",
              "    border-color: transparent;\n",
              "    border-bottom-color: var(--fill-color);\n",
              "    animation:\n",
              "      spin 1s steps(1) infinite;\n",
              "  }\n",
              "\n",
              "  @keyframes spin {\n",
              "    0% {\n",
              "      border-color: transparent;\n",
              "      border-bottom-color: var(--fill-color);\n",
              "      border-left-color: var(--fill-color);\n",
              "    }\n",
              "    20% {\n",
              "      border-color: transparent;\n",
              "      border-left-color: var(--fill-color);\n",
              "      border-top-color: var(--fill-color);\n",
              "    }\n",
              "    30% {\n",
              "      border-color: transparent;\n",
              "      border-left-color: var(--fill-color);\n",
              "      border-top-color: var(--fill-color);\n",
              "      border-right-color: var(--fill-color);\n",
              "    }\n",
              "    40% {\n",
              "      border-color: transparent;\n",
              "      border-right-color: var(--fill-color);\n",
              "      border-top-color: var(--fill-color);\n",
              "    }\n",
              "    60% {\n",
              "      border-color: transparent;\n",
              "      border-right-color: var(--fill-color);\n",
              "    }\n",
              "    80% {\n",
              "      border-color: transparent;\n",
              "      border-right-color: var(--fill-color);\n",
              "      border-bottom-color: var(--fill-color);\n",
              "    }\n",
              "    90% {\n",
              "      border-color: transparent;\n",
              "      border-bottom-color: var(--fill-color);\n",
              "    }\n",
              "  }\n",
              "</style>\n",
              "\n",
              "      <script>\n",
              "        async function quickchart(key) {\n",
              "          const quickchartButtonEl =\n",
              "            document.querySelector('#' + key + ' button');\n",
              "          quickchartButtonEl.disabled = true;  // To prevent multiple clicks.\n",
              "          quickchartButtonEl.classList.add('colab-df-spinner');\n",
              "          try {\n",
              "            const charts = await google.colab.kernel.invokeFunction(\n",
              "                'suggestCharts', [key], {});\n",
              "          } catch (error) {\n",
              "            console.error('Error during call to suggestCharts:', error);\n",
              "          }\n",
              "          quickchartButtonEl.classList.remove('colab-df-spinner');\n",
              "          quickchartButtonEl.classList.add('colab-df-quickchart-complete');\n",
              "        }\n",
              "        (() => {\n",
              "          let quickchartButtonEl =\n",
              "            document.querySelector('#df-de873629-d866-4ea4-9a2b-5b13a00ecb4b button');\n",
              "          quickchartButtonEl.style.display =\n",
              "            google.colab.kernel.accessAllowed ? 'block' : 'none';\n",
              "        })();\n",
              "      </script>\n",
              "    </div>\n",
              "\n",
              "    </div>\n",
              "  </div>\n"
            ],
            "text/plain": [
              "                   id                                               text  \\\n",
              "0  611857364396965889  @aandraous @britishmuseum @AndrewsAntonio Merc...   \n",
              "1  614484565059596288  Dorian Gray with Rainbow Scarf #LoveWins (from...   \n",
              "2  614746522043973632  @SelectShowcase @Tate_StIves ... Replace with ...   \n",
              "3  614877582664835073  @Sofabsports thank you for following me back. ...   \n",
              "4  611932373039644672  @britishmuseum @TudorHistory What a beautiful ...   \n",
              "\n",
              "    label  \n",
              "0  nocode  \n",
              "1   happy  \n",
              "2   happy  \n",
              "3   happy  \n",
              "4   happy  "
            ]
          },
          "metadata": {},
          "output_type": "display_data"
        },
        {
          "name": "stdout",
          "output_type": "stream",
          "text": [
            "\n"
          ]
        },
        {
          "data": {
            "application/vnd.google.colaboratory.intrinsic+json": {
              "summary": "{\n  \"name\": \"display(df_val\",\n  \"rows\": 5,\n  \"fields\": [\n    {\n      \"column\": \"text\",\n      \"properties\": {\n        \"dtype\": \"string\",\n        \"num_unique_values\": 5,\n        \"samples\": [\n          \"i didnt feel humiliated\",\n          \"i am ever feeling nostalgic about the fireplace i will know that it is still on the property\",\n          \"i can go from feeling so hopeless to so damned hopeful just from being around someone who cares and is awake\"\n        ],\n        \"semantic_type\": \"\",\n        \"description\": \"\"\n      }\n    },\n    {\n      \"column\": \"label\",\n      \"properties\": {\n        \"dtype\": \"string\",\n        \"num_unique_values\": 4,\n        \"samples\": [\n          \"0\",\n          \"2\",\n          \"label\"\n        ],\n        \"semantic_type\": \"\",\n        \"description\": \"\"\n      }\n    }\n  ]\n}",
              "type": "dataframe"
            },
            "text/html": [
              "\n",
              "  <div id=\"df-80b43da7-e611-4e88-b03e-5b8ac78a0094\" class=\"colab-df-container\">\n",
              "    <div>\n",
              "<style scoped>\n",
              "    .dataframe tbody tr th:only-of-type {\n",
              "        vertical-align: middle;\n",
              "    }\n",
              "\n",
              "    .dataframe tbody tr th {\n",
              "        vertical-align: top;\n",
              "    }\n",
              "\n",
              "    .dataframe thead th {\n",
              "        text-align: right;\n",
              "    }\n",
              "</style>\n",
              "<table border=\"1\" class=\"dataframe\">\n",
              "  <thead>\n",
              "    <tr style=\"text-align: right;\">\n",
              "      <th></th>\n",
              "      <th>text</th>\n",
              "      <th>label</th>\n",
              "    </tr>\n",
              "  </thead>\n",
              "  <tbody>\n",
              "    <tr>\n",
              "      <th>0</th>\n",
              "      <td>text</td>\n",
              "      <td>label</td>\n",
              "    </tr>\n",
              "    <tr>\n",
              "      <th>1</th>\n",
              "      <td>i didnt feel humiliated</td>\n",
              "      <td>0</td>\n",
              "    </tr>\n",
              "    <tr>\n",
              "      <th>2</th>\n",
              "      <td>i can go from feeling so hopeless to so damned...</td>\n",
              "      <td>0</td>\n",
              "    </tr>\n",
              "    <tr>\n",
              "      <th>3</th>\n",
              "      <td>im grabbing a minute to post i feel greedy wrong</td>\n",
              "      <td>3</td>\n",
              "    </tr>\n",
              "    <tr>\n",
              "      <th>4</th>\n",
              "      <td>i am ever feeling nostalgic about the fireplac...</td>\n",
              "      <td>2</td>\n",
              "    </tr>\n",
              "  </tbody>\n",
              "</table>\n",
              "</div>\n",
              "    <div class=\"colab-df-buttons\">\n",
              "\n",
              "  <div class=\"colab-df-container\">\n",
              "    <button class=\"colab-df-convert\" onclick=\"convertToInteractive('df-80b43da7-e611-4e88-b03e-5b8ac78a0094')\"\n",
              "            title=\"Convert this dataframe to an interactive table.\"\n",
              "            style=\"display:none;\">\n",
              "\n",
              "  <svg xmlns=\"http://www.w3.org/2000/svg\" height=\"24px\" viewBox=\"0 -960 960 960\">\n",
              "    <path d=\"M120-120v-720h720v720H120Zm60-500h600v-160H180v160Zm220 220h160v-160H400v160Zm0 220h160v-160H400v160ZM180-400h160v-160H180v160Zm440 0h160v-160H620v160ZM180-180h160v-160H180v160Zm440 0h160v-160H620v160Z\"/>\n",
              "  </svg>\n",
              "    </button>\n",
              "\n",
              "  <style>\n",
              "    .colab-df-container {\n",
              "      display:flex;\n",
              "      gap: 12px;\n",
              "    }\n",
              "\n",
              "    .colab-df-convert {\n",
              "      background-color: #E8F0FE;\n",
              "      border: none;\n",
              "      border-radius: 50%;\n",
              "      cursor: pointer;\n",
              "      display: none;\n",
              "      fill: #1967D2;\n",
              "      height: 32px;\n",
              "      padding: 0 0 0 0;\n",
              "      width: 32px;\n",
              "    }\n",
              "\n",
              "    .colab-df-convert:hover {\n",
              "      background-color: #E2EBFA;\n",
              "      box-shadow: 0px 1px 2px rgba(60, 64, 67, 0.3), 0px 1px 3px 1px rgba(60, 64, 67, 0.15);\n",
              "      fill: #174EA6;\n",
              "    }\n",
              "\n",
              "    .colab-df-buttons div {\n",
              "      margin-bottom: 4px;\n",
              "    }\n",
              "\n",
              "    [theme=dark] .colab-df-convert {\n",
              "      background-color: #3B4455;\n",
              "      fill: #D2E3FC;\n",
              "    }\n",
              "\n",
              "    [theme=dark] .colab-df-convert:hover {\n",
              "      background-color: #434B5C;\n",
              "      box-shadow: 0px 1px 3px 1px rgba(0, 0, 0, 0.15);\n",
              "      filter: drop-shadow(0px 1px 2px rgba(0, 0, 0, 0.3));\n",
              "      fill: #FFFFFF;\n",
              "    }\n",
              "  </style>\n",
              "\n",
              "    <script>\n",
              "      const buttonEl =\n",
              "        document.querySelector('#df-80b43da7-e611-4e88-b03e-5b8ac78a0094 button.colab-df-convert');\n",
              "      buttonEl.style.display =\n",
              "        google.colab.kernel.accessAllowed ? 'block' : 'none';\n",
              "\n",
              "      async function convertToInteractive(key) {\n",
              "        const element = document.querySelector('#df-80b43da7-e611-4e88-b03e-5b8ac78a0094');\n",
              "        const dataTable =\n",
              "          await google.colab.kernel.invokeFunction('convertToInteractive',\n",
              "                                                    [key], {});\n",
              "        if (!dataTable) return;\n",
              "\n",
              "        const docLinkHtml = 'Like what you see? Visit the ' +\n",
              "          '<a target=\"_blank\" href=https://colab.research.google.com/notebooks/data_table.ipynb>data table notebook</a>'\n",
              "          + ' to learn more about interactive tables.';\n",
              "        element.innerHTML = '';\n",
              "        dataTable['output_type'] = 'display_data';\n",
              "        await google.colab.output.renderOutput(dataTable, element);\n",
              "        const docLink = document.createElement('div');\n",
              "        docLink.innerHTML = docLinkHtml;\n",
              "        element.appendChild(docLink);\n",
              "      }\n",
              "    </script>\n",
              "  </div>\n",
              "\n",
              "\n",
              "    <div id=\"df-1a7f6abc-829b-4a74-8bd5-feebb5dac63a\">\n",
              "      <button class=\"colab-df-quickchart\" onclick=\"quickchart('df-1a7f6abc-829b-4a74-8bd5-feebb5dac63a')\"\n",
              "                title=\"Suggest charts\"\n",
              "                style=\"display:none;\">\n",
              "\n",
              "<svg xmlns=\"http://www.w3.org/2000/svg\" height=\"24px\"viewBox=\"0 0 24 24\"\n",
              "     width=\"24px\">\n",
              "    <g>\n",
              "        <path d=\"M19 3H5c-1.1 0-2 .9-2 2v14c0 1.1.9 2 2 2h14c1.1 0 2-.9 2-2V5c0-1.1-.9-2-2-2zM9 17H7v-7h2v7zm4 0h-2V7h2v10zm4 0h-2v-4h2v4z\"/>\n",
              "    </g>\n",
              "</svg>\n",
              "      </button>\n",
              "\n",
              "<style>\n",
              "  .colab-df-quickchart {\n",
              "      --bg-color: #E8F0FE;\n",
              "      --fill-color: #1967D2;\n",
              "      --hover-bg-color: #E2EBFA;\n",
              "      --hover-fill-color: #174EA6;\n",
              "      --disabled-fill-color: #AAA;\n",
              "      --disabled-bg-color: #DDD;\n",
              "  }\n",
              "\n",
              "  [theme=dark] .colab-df-quickchart {\n",
              "      --bg-color: #3B4455;\n",
              "      --fill-color: #D2E3FC;\n",
              "      --hover-bg-color: #434B5C;\n",
              "      --hover-fill-color: #FFFFFF;\n",
              "      --disabled-bg-color: #3B4455;\n",
              "      --disabled-fill-color: #666;\n",
              "  }\n",
              "\n",
              "  .colab-df-quickchart {\n",
              "    background-color: var(--bg-color);\n",
              "    border: none;\n",
              "    border-radius: 50%;\n",
              "    cursor: pointer;\n",
              "    display: none;\n",
              "    fill: var(--fill-color);\n",
              "    height: 32px;\n",
              "    padding: 0;\n",
              "    width: 32px;\n",
              "  }\n",
              "\n",
              "  .colab-df-quickchart:hover {\n",
              "    background-color: var(--hover-bg-color);\n",
              "    box-shadow: 0 1px 2px rgba(60, 64, 67, 0.3), 0 1px 3px 1px rgba(60, 64, 67, 0.15);\n",
              "    fill: var(--button-hover-fill-color);\n",
              "  }\n",
              "\n",
              "  .colab-df-quickchart-complete:disabled,\n",
              "  .colab-df-quickchart-complete:disabled:hover {\n",
              "    background-color: var(--disabled-bg-color);\n",
              "    fill: var(--disabled-fill-color);\n",
              "    box-shadow: none;\n",
              "  }\n",
              "\n",
              "  .colab-df-spinner {\n",
              "    border: 2px solid var(--fill-color);\n",
              "    border-color: transparent;\n",
              "    border-bottom-color: var(--fill-color);\n",
              "    animation:\n",
              "      spin 1s steps(1) infinite;\n",
              "  }\n",
              "\n",
              "  @keyframes spin {\n",
              "    0% {\n",
              "      border-color: transparent;\n",
              "      border-bottom-color: var(--fill-color);\n",
              "      border-left-color: var(--fill-color);\n",
              "    }\n",
              "    20% {\n",
              "      border-color: transparent;\n",
              "      border-left-color: var(--fill-color);\n",
              "      border-top-color: var(--fill-color);\n",
              "    }\n",
              "    30% {\n",
              "      border-color: transparent;\n",
              "      border-left-color: var(--fill-color);\n",
              "      border-top-color: var(--fill-color);\n",
              "      border-right-color: var(--fill-color);\n",
              "    }\n",
              "    40% {\n",
              "      border-color: transparent;\n",
              "      border-right-color: var(--fill-color);\n",
              "      border-top-color: var(--fill-color);\n",
              "    }\n",
              "    60% {\n",
              "      border-color: transparent;\n",
              "      border-right-color: var(--fill-color);\n",
              "    }\n",
              "    80% {\n",
              "      border-color: transparent;\n",
              "      border-right-color: var(--fill-color);\n",
              "      border-bottom-color: var(--fill-color);\n",
              "    }\n",
              "    90% {\n",
              "      border-color: transparent;\n",
              "      border-bottom-color: var(--fill-color);\n",
              "    }\n",
              "  }\n",
              "</style>\n",
              "\n",
              "      <script>\n",
              "        async function quickchart(key) {\n",
              "          const quickchartButtonEl =\n",
              "            document.querySelector('#' + key + ' button');\n",
              "          quickchartButtonEl.disabled = true;  // To prevent multiple clicks.\n",
              "          quickchartButtonEl.classList.add('colab-df-spinner');\n",
              "          try {\n",
              "            const charts = await google.colab.kernel.invokeFunction(\n",
              "                'suggestCharts', [key], {});\n",
              "          } catch (error) {\n",
              "            console.error('Error during call to suggestCharts:', error);\n",
              "          }\n",
              "          quickchartButtonEl.classList.remove('colab-df-spinner');\n",
              "          quickchartButtonEl.classList.add('colab-df-quickchart-complete');\n",
              "        }\n",
              "        (() => {\n",
              "          let quickchartButtonEl =\n",
              "            document.querySelector('#df-1a7f6abc-829b-4a74-8bd5-feebb5dac63a button');\n",
              "          quickchartButtonEl.style.display =\n",
              "            google.colab.kernel.accessAllowed ? 'block' : 'none';\n",
              "        })();\n",
              "      </script>\n",
              "    </div>\n",
              "\n",
              "    </div>\n",
              "  </div>\n"
            ],
            "text/plain": [
              "                                                text  label\n",
              "0                                               text  label\n",
              "1                            i didnt feel humiliated      0\n",
              "2  i can go from feeling so hopeless to so damned...      0\n",
              "3   im grabbing a minute to post i feel greedy wrong      3\n",
              "4  i am ever feeling nostalgic about the fireplac...      2"
            ]
          },
          "metadata": {},
          "output_type": "display_data"
        },
        {
          "name": "stdout",
          "output_type": "stream",
          "text": [
            "\n"
          ]
        },
        {
          "data": {
            "application/vnd.google.colaboratory.intrinsic+json": {
              "summary": "{\n  \"name\": \"display(df_val\",\n  \"rows\": 5,\n  \"fields\": [\n    {\n      \"column\": \"text\",\n      \"properties\": {\n        \"dtype\": \"string\",\n        \"num_unique_values\": 5,\n        \"samples\": [\n          \"im feeling rather rotten so im not very ambitious right now\",\n          \"i left with my bouquet of red and yellow tulips under my arm feeling slightly more optimistic than when i arrived\",\n          \"im updating my blog because i feel shitty\"\n        ],\n        \"semantic_type\": \"\",\n        \"description\": \"\"\n      }\n    },\n    {\n      \"column\": \"label\",\n      \"properties\": {\n        \"dtype\": \"string\",\n        \"num_unique_values\": 3,\n        \"samples\": [\n          \"label\",\n          \"0\",\n          \"1\"\n        ],\n        \"semantic_type\": \"\",\n        \"description\": \"\"\n      }\n    }\n  ]\n}",
              "type": "dataframe"
            },
            "text/html": [
              "\n",
              "  <div id=\"df-7cec1f9f-6ead-4a57-bebb-992bf21430d6\" class=\"colab-df-container\">\n",
              "    <div>\n",
              "<style scoped>\n",
              "    .dataframe tbody tr th:only-of-type {\n",
              "        vertical-align: middle;\n",
              "    }\n",
              "\n",
              "    .dataframe tbody tr th {\n",
              "        vertical-align: top;\n",
              "    }\n",
              "\n",
              "    .dataframe thead th {\n",
              "        text-align: right;\n",
              "    }\n",
              "</style>\n",
              "<table border=\"1\" class=\"dataframe\">\n",
              "  <thead>\n",
              "    <tr style=\"text-align: right;\">\n",
              "      <th></th>\n",
              "      <th>text</th>\n",
              "      <th>label</th>\n",
              "    </tr>\n",
              "  </thead>\n",
              "  <tbody>\n",
              "    <tr>\n",
              "      <th>0</th>\n",
              "      <td>text</td>\n",
              "      <td>label</td>\n",
              "    </tr>\n",
              "    <tr>\n",
              "      <th>1</th>\n",
              "      <td>im feeling rather rotten so im not very ambiti...</td>\n",
              "      <td>0</td>\n",
              "    </tr>\n",
              "    <tr>\n",
              "      <th>2</th>\n",
              "      <td>im updating my blog because i feel shitty</td>\n",
              "      <td>0</td>\n",
              "    </tr>\n",
              "    <tr>\n",
              "      <th>3</th>\n",
              "      <td>i never make her separate from me because i do...</td>\n",
              "      <td>0</td>\n",
              "    </tr>\n",
              "    <tr>\n",
              "      <th>4</th>\n",
              "      <td>i left with my bouquet of red and yellow tulip...</td>\n",
              "      <td>1</td>\n",
              "    </tr>\n",
              "  </tbody>\n",
              "</table>\n",
              "</div>\n",
              "    <div class=\"colab-df-buttons\">\n",
              "\n",
              "  <div class=\"colab-df-container\">\n",
              "    <button class=\"colab-df-convert\" onclick=\"convertToInteractive('df-7cec1f9f-6ead-4a57-bebb-992bf21430d6')\"\n",
              "            title=\"Convert this dataframe to an interactive table.\"\n",
              "            style=\"display:none;\">\n",
              "\n",
              "  <svg xmlns=\"http://www.w3.org/2000/svg\" height=\"24px\" viewBox=\"0 -960 960 960\">\n",
              "    <path d=\"M120-120v-720h720v720H120Zm60-500h600v-160H180v160Zm220 220h160v-160H400v160Zm0 220h160v-160H400v160ZM180-400h160v-160H180v160Zm440 0h160v-160H620v160ZM180-180h160v-160H180v160Zm440 0h160v-160H620v160Z\"/>\n",
              "  </svg>\n",
              "    </button>\n",
              "\n",
              "  <style>\n",
              "    .colab-df-container {\n",
              "      display:flex;\n",
              "      gap: 12px;\n",
              "    }\n",
              "\n",
              "    .colab-df-convert {\n",
              "      background-color: #E8F0FE;\n",
              "      border: none;\n",
              "      border-radius: 50%;\n",
              "      cursor: pointer;\n",
              "      display: none;\n",
              "      fill: #1967D2;\n",
              "      height: 32px;\n",
              "      padding: 0 0 0 0;\n",
              "      width: 32px;\n",
              "    }\n",
              "\n",
              "    .colab-df-convert:hover {\n",
              "      background-color: #E2EBFA;\n",
              "      box-shadow: 0px 1px 2px rgba(60, 64, 67, 0.3), 0px 1px 3px 1px rgba(60, 64, 67, 0.15);\n",
              "      fill: #174EA6;\n",
              "    }\n",
              "\n",
              "    .colab-df-buttons div {\n",
              "      margin-bottom: 4px;\n",
              "    }\n",
              "\n",
              "    [theme=dark] .colab-df-convert {\n",
              "      background-color: #3B4455;\n",
              "      fill: #D2E3FC;\n",
              "    }\n",
              "\n",
              "    [theme=dark] .colab-df-convert:hover {\n",
              "      background-color: #434B5C;\n",
              "      box-shadow: 0px 1px 3px 1px rgba(0, 0, 0, 0.15);\n",
              "      filter: drop-shadow(0px 1px 2px rgba(0, 0, 0, 0.3));\n",
              "      fill: #FFFFFF;\n",
              "    }\n",
              "  </style>\n",
              "\n",
              "    <script>\n",
              "      const buttonEl =\n",
              "        document.querySelector('#df-7cec1f9f-6ead-4a57-bebb-992bf21430d6 button.colab-df-convert');\n",
              "      buttonEl.style.display =\n",
              "        google.colab.kernel.accessAllowed ? 'block' : 'none';\n",
              "\n",
              "      async function convertToInteractive(key) {\n",
              "        const element = document.querySelector('#df-7cec1f9f-6ead-4a57-bebb-992bf21430d6');\n",
              "        const dataTable =\n",
              "          await google.colab.kernel.invokeFunction('convertToInteractive',\n",
              "                                                    [key], {});\n",
              "        if (!dataTable) return;\n",
              "\n",
              "        const docLinkHtml = 'Like what you see? Visit the ' +\n",
              "          '<a target=\"_blank\" href=https://colab.research.google.com/notebooks/data_table.ipynb>data table notebook</a>'\n",
              "          + ' to learn more about interactive tables.';\n",
              "        element.innerHTML = '';\n",
              "        dataTable['output_type'] = 'display_data';\n",
              "        await google.colab.output.renderOutput(dataTable, element);\n",
              "        const docLink = document.createElement('div');\n",
              "        docLink.innerHTML = docLinkHtml;\n",
              "        element.appendChild(docLink);\n",
              "      }\n",
              "    </script>\n",
              "  </div>\n",
              "\n",
              "\n",
              "    <div id=\"df-c491ddf6-4d7d-4690-b99e-f3438238de2c\">\n",
              "      <button class=\"colab-df-quickchart\" onclick=\"quickchart('df-c491ddf6-4d7d-4690-b99e-f3438238de2c')\"\n",
              "                title=\"Suggest charts\"\n",
              "                style=\"display:none;\">\n",
              "\n",
              "<svg xmlns=\"http://www.w3.org/2000/svg\" height=\"24px\"viewBox=\"0 0 24 24\"\n",
              "     width=\"24px\">\n",
              "    <g>\n",
              "        <path d=\"M19 3H5c-1.1 0-2 .9-2 2v14c0 1.1.9 2 2 2h14c1.1 0 2-.9 2-2V5c0-1.1-.9-2-2-2zM9 17H7v-7h2v7zm4 0h-2V7h2v10zm4 0h-2v-4h2v4z\"/>\n",
              "    </g>\n",
              "</svg>\n",
              "      </button>\n",
              "\n",
              "<style>\n",
              "  .colab-df-quickchart {\n",
              "      --bg-color: #E8F0FE;\n",
              "      --fill-color: #1967D2;\n",
              "      --hover-bg-color: #E2EBFA;\n",
              "      --hover-fill-color: #174EA6;\n",
              "      --disabled-fill-color: #AAA;\n",
              "      --disabled-bg-color: #DDD;\n",
              "  }\n",
              "\n",
              "  [theme=dark] .colab-df-quickchart {\n",
              "      --bg-color: #3B4455;\n",
              "      --fill-color: #D2E3FC;\n",
              "      --hover-bg-color: #434B5C;\n",
              "      --hover-fill-color: #FFFFFF;\n",
              "      --disabled-bg-color: #3B4455;\n",
              "      --disabled-fill-color: #666;\n",
              "  }\n",
              "\n",
              "  .colab-df-quickchart {\n",
              "    background-color: var(--bg-color);\n",
              "    border: none;\n",
              "    border-radius: 50%;\n",
              "    cursor: pointer;\n",
              "    display: none;\n",
              "    fill: var(--fill-color);\n",
              "    height: 32px;\n",
              "    padding: 0;\n",
              "    width: 32px;\n",
              "  }\n",
              "\n",
              "  .colab-df-quickchart:hover {\n",
              "    background-color: var(--hover-bg-color);\n",
              "    box-shadow: 0 1px 2px rgba(60, 64, 67, 0.3), 0 1px 3px 1px rgba(60, 64, 67, 0.15);\n",
              "    fill: var(--button-hover-fill-color);\n",
              "  }\n",
              "\n",
              "  .colab-df-quickchart-complete:disabled,\n",
              "  .colab-df-quickchart-complete:disabled:hover {\n",
              "    background-color: var(--disabled-bg-color);\n",
              "    fill: var(--disabled-fill-color);\n",
              "    box-shadow: none;\n",
              "  }\n",
              "\n",
              "  .colab-df-spinner {\n",
              "    border: 2px solid var(--fill-color);\n",
              "    border-color: transparent;\n",
              "    border-bottom-color: var(--fill-color);\n",
              "    animation:\n",
              "      spin 1s steps(1) infinite;\n",
              "  }\n",
              "\n",
              "  @keyframes spin {\n",
              "    0% {\n",
              "      border-color: transparent;\n",
              "      border-bottom-color: var(--fill-color);\n",
              "      border-left-color: var(--fill-color);\n",
              "    }\n",
              "    20% {\n",
              "      border-color: transparent;\n",
              "      border-left-color: var(--fill-color);\n",
              "      border-top-color: var(--fill-color);\n",
              "    }\n",
              "    30% {\n",
              "      border-color: transparent;\n",
              "      border-left-color: var(--fill-color);\n",
              "      border-top-color: var(--fill-color);\n",
              "      border-right-color: var(--fill-color);\n",
              "    }\n",
              "    40% {\n",
              "      border-color: transparent;\n",
              "      border-right-color: var(--fill-color);\n",
              "      border-top-color: var(--fill-color);\n",
              "    }\n",
              "    60% {\n",
              "      border-color: transparent;\n",
              "      border-right-color: var(--fill-color);\n",
              "    }\n",
              "    80% {\n",
              "      border-color: transparent;\n",
              "      border-right-color: var(--fill-color);\n",
              "      border-bottom-color: var(--fill-color);\n",
              "    }\n",
              "    90% {\n",
              "      border-color: transparent;\n",
              "      border-bottom-color: var(--fill-color);\n",
              "    }\n",
              "  }\n",
              "</style>\n",
              "\n",
              "      <script>\n",
              "        async function quickchart(key) {\n",
              "          const quickchartButtonEl =\n",
              "            document.querySelector('#' + key + ' button');\n",
              "          quickchartButtonEl.disabled = true;  // To prevent multiple clicks.\n",
              "          quickchartButtonEl.classList.add('colab-df-spinner');\n",
              "          try {\n",
              "            const charts = await google.colab.kernel.invokeFunction(\n",
              "                'suggestCharts', [key], {});\n",
              "          } catch (error) {\n",
              "            console.error('Error during call to suggestCharts:', error);\n",
              "          }\n",
              "          quickchartButtonEl.classList.remove('colab-df-spinner');\n",
              "          quickchartButtonEl.classList.add('colab-df-quickchart-complete');\n",
              "        }\n",
              "        (() => {\n",
              "          let quickchartButtonEl =\n",
              "            document.querySelector('#df-c491ddf6-4d7d-4690-b99e-f3438238de2c button');\n",
              "          quickchartButtonEl.style.display =\n",
              "            google.colab.kernel.accessAllowed ? 'block' : 'none';\n",
              "        })();\n",
              "      </script>\n",
              "    </div>\n",
              "\n",
              "    </div>\n",
              "  </div>\n"
            ],
            "text/plain": [
              "                                                text  label\n",
              "0                                               text  label\n",
              "1  im feeling rather rotten so im not very ambiti...      0\n",
              "2          im updating my blog because i feel shitty      0\n",
              "3  i never make her separate from me because i do...      0\n",
              "4  i left with my bouquet of red and yellow tulip...      1"
            ]
          },
          "metadata": {},
          "output_type": "display_data"
        },
        {
          "name": "stdout",
          "output_type": "stream",
          "text": [
            "\n"
          ]
        },
        {
          "data": {
            "application/vnd.google.colaboratory.intrinsic+json": {
              "summary": "{\n  \"name\": \"display(df_val\",\n  \"rows\": 5,\n  \"fields\": [\n    {\n      \"column\": \"text\",\n      \"properties\": {\n        \"dtype\": \"string\",\n        \"num_unique_values\": 5,\n        \"samples\": [\n          \"im feeling quite sad and sorry for myself but ill snap out of it soon\",\n          \"i am just feeling cranky and blue\",\n          \"i feel like i am still looking at a blank canvas blank pieces of paper\"\n        ],\n        \"semantic_type\": \"\",\n        \"description\": \"\"\n      }\n    },\n    {\n      \"column\": \"label\",\n      \"properties\": {\n        \"dtype\": \"string\",\n        \"num_unique_values\": 4,\n        \"samples\": [\n          \"0\",\n          \"3\",\n          \"label\"\n        ],\n        \"semantic_type\": \"\",\n        \"description\": \"\"\n      }\n    }\n  ]\n}",
              "type": "dataframe"
            },
            "text/html": [
              "\n",
              "  <div id=\"df-3cd3f62d-b04d-459b-8600-30b7ec0a434f\" class=\"colab-df-container\">\n",
              "    <div>\n",
              "<style scoped>\n",
              "    .dataframe tbody tr th:only-of-type {\n",
              "        vertical-align: middle;\n",
              "    }\n",
              "\n",
              "    .dataframe tbody tr th {\n",
              "        vertical-align: top;\n",
              "    }\n",
              "\n",
              "    .dataframe thead th {\n",
              "        text-align: right;\n",
              "    }\n",
              "</style>\n",
              "<table border=\"1\" class=\"dataframe\">\n",
              "  <thead>\n",
              "    <tr style=\"text-align: right;\">\n",
              "      <th></th>\n",
              "      <th>text</th>\n",
              "      <th>label</th>\n",
              "    </tr>\n",
              "  </thead>\n",
              "  <tbody>\n",
              "    <tr>\n",
              "      <th>0</th>\n",
              "      <td>text</td>\n",
              "      <td>label</td>\n",
              "    </tr>\n",
              "    <tr>\n",
              "      <th>1</th>\n",
              "      <td>im feeling quite sad and sorry for myself but ...</td>\n",
              "      <td>0</td>\n",
              "    </tr>\n",
              "    <tr>\n",
              "      <th>2</th>\n",
              "      <td>i feel like i am still looking at a blank canv...</td>\n",
              "      <td>0</td>\n",
              "    </tr>\n",
              "    <tr>\n",
              "      <th>3</th>\n",
              "      <td>i feel like a faithful servant</td>\n",
              "      <td>2</td>\n",
              "    </tr>\n",
              "    <tr>\n",
              "      <th>4</th>\n",
              "      <td>i am just feeling cranky and blue</td>\n",
              "      <td>3</td>\n",
              "    </tr>\n",
              "  </tbody>\n",
              "</table>\n",
              "</div>\n",
              "    <div class=\"colab-df-buttons\">\n",
              "\n",
              "  <div class=\"colab-df-container\">\n",
              "    <button class=\"colab-df-convert\" onclick=\"convertToInteractive('df-3cd3f62d-b04d-459b-8600-30b7ec0a434f')\"\n",
              "            title=\"Convert this dataframe to an interactive table.\"\n",
              "            style=\"display:none;\">\n",
              "\n",
              "  <svg xmlns=\"http://www.w3.org/2000/svg\" height=\"24px\" viewBox=\"0 -960 960 960\">\n",
              "    <path d=\"M120-120v-720h720v720H120Zm60-500h600v-160H180v160Zm220 220h160v-160H400v160Zm0 220h160v-160H400v160ZM180-400h160v-160H180v160Zm440 0h160v-160H620v160ZM180-180h160v-160H180v160Zm440 0h160v-160H620v160Z\"/>\n",
              "  </svg>\n",
              "    </button>\n",
              "\n",
              "  <style>\n",
              "    .colab-df-container {\n",
              "      display:flex;\n",
              "      gap: 12px;\n",
              "    }\n",
              "\n",
              "    .colab-df-convert {\n",
              "      background-color: #E8F0FE;\n",
              "      border: none;\n",
              "      border-radius: 50%;\n",
              "      cursor: pointer;\n",
              "      display: none;\n",
              "      fill: #1967D2;\n",
              "      height: 32px;\n",
              "      padding: 0 0 0 0;\n",
              "      width: 32px;\n",
              "    }\n",
              "\n",
              "    .colab-df-convert:hover {\n",
              "      background-color: #E2EBFA;\n",
              "      box-shadow: 0px 1px 2px rgba(60, 64, 67, 0.3), 0px 1px 3px 1px rgba(60, 64, 67, 0.15);\n",
              "      fill: #174EA6;\n",
              "    }\n",
              "\n",
              "    .colab-df-buttons div {\n",
              "      margin-bottom: 4px;\n",
              "    }\n",
              "\n",
              "    [theme=dark] .colab-df-convert {\n",
              "      background-color: #3B4455;\n",
              "      fill: #D2E3FC;\n",
              "    }\n",
              "\n",
              "    [theme=dark] .colab-df-convert:hover {\n",
              "      background-color: #434B5C;\n",
              "      box-shadow: 0px 1px 3px 1px rgba(0, 0, 0, 0.15);\n",
              "      filter: drop-shadow(0px 1px 2px rgba(0, 0, 0, 0.3));\n",
              "      fill: #FFFFFF;\n",
              "    }\n",
              "  </style>\n",
              "\n",
              "    <script>\n",
              "      const buttonEl =\n",
              "        document.querySelector('#df-3cd3f62d-b04d-459b-8600-30b7ec0a434f button.colab-df-convert');\n",
              "      buttonEl.style.display =\n",
              "        google.colab.kernel.accessAllowed ? 'block' : 'none';\n",
              "\n",
              "      async function convertToInteractive(key) {\n",
              "        const element = document.querySelector('#df-3cd3f62d-b04d-459b-8600-30b7ec0a434f');\n",
              "        const dataTable =\n",
              "          await google.colab.kernel.invokeFunction('convertToInteractive',\n",
              "                                                    [key], {});\n",
              "        if (!dataTable) return;\n",
              "\n",
              "        const docLinkHtml = 'Like what you see? Visit the ' +\n",
              "          '<a target=\"_blank\" href=https://colab.research.google.com/notebooks/data_table.ipynb>data table notebook</a>'\n",
              "          + ' to learn more about interactive tables.';\n",
              "        element.innerHTML = '';\n",
              "        dataTable['output_type'] = 'display_data';\n",
              "        await google.colab.output.renderOutput(dataTable, element);\n",
              "        const docLink = document.createElement('div');\n",
              "        docLink.innerHTML = docLinkHtml;\n",
              "        element.appendChild(docLink);\n",
              "      }\n",
              "    </script>\n",
              "  </div>\n",
              "\n",
              "\n",
              "    <div id=\"df-dc2c0968-1277-4617-943d-f5737f09c552\">\n",
              "      <button class=\"colab-df-quickchart\" onclick=\"quickchart('df-dc2c0968-1277-4617-943d-f5737f09c552')\"\n",
              "                title=\"Suggest charts\"\n",
              "                style=\"display:none;\">\n",
              "\n",
              "<svg xmlns=\"http://www.w3.org/2000/svg\" height=\"24px\"viewBox=\"0 0 24 24\"\n",
              "     width=\"24px\">\n",
              "    <g>\n",
              "        <path d=\"M19 3H5c-1.1 0-2 .9-2 2v14c0 1.1.9 2 2 2h14c1.1 0 2-.9 2-2V5c0-1.1-.9-2-2-2zM9 17H7v-7h2v7zm4 0h-2V7h2v10zm4 0h-2v-4h2v4z\"/>\n",
              "    </g>\n",
              "</svg>\n",
              "      </button>\n",
              "\n",
              "<style>\n",
              "  .colab-df-quickchart {\n",
              "      --bg-color: #E8F0FE;\n",
              "      --fill-color: #1967D2;\n",
              "      --hover-bg-color: #E2EBFA;\n",
              "      --hover-fill-color: #174EA6;\n",
              "      --disabled-fill-color: #AAA;\n",
              "      --disabled-bg-color: #DDD;\n",
              "  }\n",
              "\n",
              "  [theme=dark] .colab-df-quickchart {\n",
              "      --bg-color: #3B4455;\n",
              "      --fill-color: #D2E3FC;\n",
              "      --hover-bg-color: #434B5C;\n",
              "      --hover-fill-color: #FFFFFF;\n",
              "      --disabled-bg-color: #3B4455;\n",
              "      --disabled-fill-color: #666;\n",
              "  }\n",
              "\n",
              "  .colab-df-quickchart {\n",
              "    background-color: var(--bg-color);\n",
              "    border: none;\n",
              "    border-radius: 50%;\n",
              "    cursor: pointer;\n",
              "    display: none;\n",
              "    fill: var(--fill-color);\n",
              "    height: 32px;\n",
              "    padding: 0;\n",
              "    width: 32px;\n",
              "  }\n",
              "\n",
              "  .colab-df-quickchart:hover {\n",
              "    background-color: var(--hover-bg-color);\n",
              "    box-shadow: 0 1px 2px rgba(60, 64, 67, 0.3), 0 1px 3px 1px rgba(60, 64, 67, 0.15);\n",
              "    fill: var(--button-hover-fill-color);\n",
              "  }\n",
              "\n",
              "  .colab-df-quickchart-complete:disabled,\n",
              "  .colab-df-quickchart-complete:disabled:hover {\n",
              "    background-color: var(--disabled-bg-color);\n",
              "    fill: var(--disabled-fill-color);\n",
              "    box-shadow: none;\n",
              "  }\n",
              "\n",
              "  .colab-df-spinner {\n",
              "    border: 2px solid var(--fill-color);\n",
              "    border-color: transparent;\n",
              "    border-bottom-color: var(--fill-color);\n",
              "    animation:\n",
              "      spin 1s steps(1) infinite;\n",
              "  }\n",
              "\n",
              "  @keyframes spin {\n",
              "    0% {\n",
              "      border-color: transparent;\n",
              "      border-bottom-color: var(--fill-color);\n",
              "      border-left-color: var(--fill-color);\n",
              "    }\n",
              "    20% {\n",
              "      border-color: transparent;\n",
              "      border-left-color: var(--fill-color);\n",
              "      border-top-color: var(--fill-color);\n",
              "    }\n",
              "    30% {\n",
              "      border-color: transparent;\n",
              "      border-left-color: var(--fill-color);\n",
              "      border-top-color: var(--fill-color);\n",
              "      border-right-color: var(--fill-color);\n",
              "    }\n",
              "    40% {\n",
              "      border-color: transparent;\n",
              "      border-right-color: var(--fill-color);\n",
              "      border-top-color: var(--fill-color);\n",
              "    }\n",
              "    60% {\n",
              "      border-color: transparent;\n",
              "      border-right-color: var(--fill-color);\n",
              "    }\n",
              "    80% {\n",
              "      border-color: transparent;\n",
              "      border-right-color: var(--fill-color);\n",
              "      border-bottom-color: var(--fill-color);\n",
              "    }\n",
              "    90% {\n",
              "      border-color: transparent;\n",
              "      border-bottom-color: var(--fill-color);\n",
              "    }\n",
              "  }\n",
              "</style>\n",
              "\n",
              "      <script>\n",
              "        async function quickchart(key) {\n",
              "          const quickchartButtonEl =\n",
              "            document.querySelector('#' + key + ' button');\n",
              "          quickchartButtonEl.disabled = true;  // To prevent multiple clicks.\n",
              "          quickchartButtonEl.classList.add('colab-df-spinner');\n",
              "          try {\n",
              "            const charts = await google.colab.kernel.invokeFunction(\n",
              "                'suggestCharts', [key], {});\n",
              "          } catch (error) {\n",
              "            console.error('Error during call to suggestCharts:', error);\n",
              "          }\n",
              "          quickchartButtonEl.classList.remove('colab-df-spinner');\n",
              "          quickchartButtonEl.classList.add('colab-df-quickchart-complete');\n",
              "        }\n",
              "        (() => {\n",
              "          let quickchartButtonEl =\n",
              "            document.querySelector('#df-dc2c0968-1277-4617-943d-f5737f09c552 button');\n",
              "          quickchartButtonEl.style.display =\n",
              "            google.colab.kernel.accessAllowed ? 'block' : 'none';\n",
              "        })();\n",
              "      </script>\n",
              "    </div>\n",
              "\n",
              "    </div>\n",
              "  </div>\n"
            ],
            "text/plain": [
              "                                                text  label\n",
              "0                                               text  label\n",
              "1  im feeling quite sad and sorry for myself but ...      0\n",
              "2  i feel like i am still looking at a blank canv...      0\n",
              "3                     i feel like a faithful servant      2\n",
              "4                  i am just feeling cranky and blue      3"
            ]
          },
          "metadata": {},
          "output_type": "display_data"
        }
      ],
      "source": [
        "# Load datasets\n",
        "data_url = 'https://raw.githubusercontent.com/jeelfaldu7/transformer_sentiment_analysis/refs/heads/main/datasets/dataset.csv'\n",
        "df = pd.read_csv(data_url, header=None, names=['id', 'text', 'label'], sep=',')\n",
        "\n",
        "data_train = 'https://raw.githubusercontent.com/jeelfaldu7/transformer_sentiment_analysis/refs/heads/main/datasets/training.csv'\n",
        "df_train = pd.read_csv(data_train, header=None, names=['text', 'label'], sep=',')\n",
        "data_test = 'https://raw.githubusercontent.com/jeelfaldu7/transformer_sentiment_analysis/refs/heads/main/datasets/test.csv'\n",
        "df_test = pd.read_csv(data_test, header=None, names=['text', 'label'], sep=',')\n",
        "data_val = 'https://raw.githubusercontent.com/jeelfaldu7/transformer_sentiment_analysis/refs/heads/main/datasets/validation.csv'\n",
        "df_val = pd.read_csv(data_val, header=None, names=['text', 'label'], sep=',')\n",
        "\n",
        "\n",
        "\n",
        "# Display first few rows of the dataset\n",
        "display(df.head())\n",
        "print()\n",
        "display(df_train.head())\n",
        "print()\n",
        "display(df_test.head())\n",
        "print()\n",
        "display(df_val.head())"
      ]
    },
    {
      "cell_type": "code",
      "execution_count": null,
      "metadata": {
        "colab": {
          "base_uri": "https://localhost:8080/"
        },
        "id": "eqv9jKYSAk92",
        "outputId": "c7907b56-77b3-4325-e1a7-ca2957965d53"
      },
      "outputs": [
        {
          "name": "stdout",
          "output_type": "stream",
          "text": [
            "<class 'pandas.core.frame.DataFrame'>\n",
            "RangeIndex: 3085 entries, 0 to 3084\n",
            "Data columns (total 3 columns):\n",
            " #   Column  Non-Null Count  Dtype \n",
            "---  ------  --------------  ----- \n",
            " 0   id      3085 non-null   int64 \n",
            " 1   text    3085 non-null   object\n",
            " 2   label   3085 non-null   object\n",
            "dtypes: int64(1), object(2)\n",
            "memory usage: 72.4+ KB\n",
            "\n",
            "<class 'pandas.core.frame.DataFrame'>\n",
            "RangeIndex: 16001 entries, 0 to 16000\n",
            "Data columns (total 2 columns):\n",
            " #   Column  Non-Null Count  Dtype \n",
            "---  ------  --------------  ----- \n",
            " 0   text    16001 non-null  object\n",
            " 1   label   16001 non-null  object\n",
            "dtypes: object(2)\n",
            "memory usage: 250.1+ KB\n",
            "\n",
            "<class 'pandas.core.frame.DataFrame'>\n",
            "RangeIndex: 2001 entries, 0 to 2000\n",
            "Data columns (total 2 columns):\n",
            " #   Column  Non-Null Count  Dtype \n",
            "---  ------  --------------  ----- \n",
            " 0   text    2001 non-null   object\n",
            " 1   label   2001 non-null   object\n",
            "dtypes: object(2)\n",
            "memory usage: 31.4+ KB\n",
            "\n",
            "<class 'pandas.core.frame.DataFrame'>\n",
            "RangeIndex: 2001 entries, 0 to 2000\n",
            "Data columns (total 2 columns):\n",
            " #   Column  Non-Null Count  Dtype \n",
            "---  ------  --------------  ----- \n",
            " 0   text    2001 non-null   object\n",
            " 1   label   2001 non-null   object\n",
            "dtypes: object(2)\n",
            "memory usage: 31.4+ KB\n"
          ]
        }
      ],
      "source": [
        "# Display the summary of the dataset\n",
        "df.info()\n",
        "print()\n",
        "df_train.info()\n",
        "print()\n",
        "df_test.info()\n",
        "print()\n",
        "df_val.info()"
      ]
    },
    {
      "cell_type": "code",
      "execution_count": null,
      "metadata": {
        "colab": {
          "base_uri": "https://localhost:8080/"
        },
        "id": "kgEZtLJGAqL1",
        "outputId": "41d93bb5-49dc-48cc-9ed5-ce7370686d8b"
      },
      "outputs": [
        {
          "name": "stdout",
          "output_type": "stream",
          "text": [
            "The DataFrame has 3085 rows and 3 columns\n"
          ]
        }
      ],
      "source": [
        "# Display the shape of all the DataFrame\n",
        "n_rows, n_cols = df.shape\n",
        "print(f\"The DataFrame has {n_rows} rows and {n_cols} columns\")"
      ]
    },
    {
      "cell_type": "markdown",
      "metadata": {},
      "source": [
        "In this step, we loaded the main dataset along with separate training, testing, and validation splits directly from GitHub. Loading them separately ensures proper evaluation and prevents data leakage between phases. "
      ]
    },
    {
      "cell_type": "markdown",
      "metadata": {
        "id": "ypXHhHipaQbf"
      },
      "source": [
        "<font size = 5> <b> Let's check to see if there are any dupes in our datas"
      ]
    },
    {
      "cell_type": "code",
      "execution_count": null,
      "metadata": {
        "colab": {
          "base_uri": "https://localhost:8080/"
        },
        "id": "_bV6Ork8aPfI",
        "outputId": "f34afb22-dcca-4793-eb9f-d1b36381f59f"
      },
      "outputs": [
        {
          "name": "stdout",
          "output_type": "stream",
          "text": [
            "1\n",
            "0\n",
            "0\n",
            "                                                    text label\n",
            "13847  i feel more adventurous willing to take risks ...     1\n",
            "(16000, 2)\n"
          ]
        },
        {
          "name": "stderr",
          "output_type": "stream",
          "text": [
            "/tmp/ipython-input-3583770598.py:28: SettingWithCopyWarning: \n",
            "A value is trying to be set on a copy of a slice from a DataFrame.\n",
            "Try using .loc[row_indexer,col_indexer] = value instead\n",
            "\n",
            "See the caveats in the documentation: https://pandas.pydata.org/pandas-docs/stable/user_guide/indexing.html#returning-a-view-versus-a-copy\n",
            "  df_train_no_dupes['label'] = df_train_no_dupes['label'].map(label_mapping)\n"
          ]
        }
      ],
      "source": [
        "# Check for duplicates in the datasets\n",
        "alt_df_train = df_train.duplicated().sum()\n",
        "alt_df_val = df_val.duplicated().sum()\n",
        "alt_df_test = df_test.duplicated().sum()\n",
        "\n",
        "print(alt_df_train)\n",
        "print(alt_df_val)\n",
        "print(alt_df_test)\n",
        "\n",
        "# Identify and remove duplicates in training set\n",
        "dupe_df_train = df_train[df_train.duplicated()]\n",
        "print(dupe_df_train)\n",
        "df_train_no_dupes = df_train.drop_duplicates()\n",
        "print(df_train_no_dupes.shape)"
      ]
    },
    {
      "cell_type": "markdown",
      "metadata": {},
      "source": [
        "In this step, we checked for and removed duplicate entries in the training dataset to ensure data quality and prevent bias during training. Duplicate rows can cause models to overfit or skew performance metrics."
      ]
    },
    {
      "cell_type": "code",
      "execution_count": null,
      "metadata": {},
      "outputs": [],
      "source": [
        "# Map numeric labels to string labels\n",
        "label_mapping = {\n",
        "    '0': 'sad',\n",
        "    '1': 'happy',\n",
        "    '2': 'happy',\n",
        "    '3': 'angry',\n",
        "    '4': 'fear',\n",
        "    'sad': 'sad',\n",
        "    'happy': 'happy',\n",
        "    'angry': 'angry',\n",
        "    'fear': 'fear'\n",
        "}\n",
        "\n",
        "df_train_no_dupes['label'] = df_train_no_dupes['label'].map(label_mapping)"
      ]
    },
    {
      "cell_type": "markdown",
      "metadata": {},
      "source": [
        "We also standardized the label values using a mapping dictionary so that both numeric and text-based labels were aligned to a consistent format (e.g., mapping 0 and 1 to “sad” and “happy”). This helped maintain uniformity across datasets and simplified the classification process."
      ]
    },
    {
      "cell_type": "code",
      "execution_count": null,
      "metadata": {
        "id": "QjxVPB4lAn4z"
      },
      "outputs": [],
      "source": [
        "#df = df.drop('id', axis = 1)"
      ]
    },
    {
      "cell_type": "markdown",
      "metadata": {
        "id": "QjGAvMF9xZFV"
      },
      "source": [
        "### Train-Test-Split"
      ]
    },
    {
      "cell_type": "code",
      "execution_count": null,
      "metadata": {
        "id": "pm6CFwWVNC9U"
      },
      "outputs": [],
      "source": [
        "# Combine train and validation\n",
        "alt_df = pd.concat([df_train, df_val], ignore_index=True)\n",
        "\n",
        "# Apply label mapping\n",
        "#alt_df = alt_df[alt_df['label'] != 'fear']\n",
        "#alt_df['label'] = alt_df['label'].replace({'love': 'happy', 'joy': 'happy'})\n",
        "\n",
        "alt_df['label'] = alt_df['label'].map(label_mapping)\n",
        "alt_df = alt_df.dropna()"
      ]
    },
    {
      "cell_type": "markdown",
      "metadata": {},
      "source": [
        "After completing the initial data preprocessing - removing duplicates and standardizing labels - we combined the training and validation datasets to create a larger dataset for model training which can help improve learning by providing more examples. "
      ]
    },
    {
      "cell_type": "markdown",
      "metadata": {},
      "source": [
        "#### Data Splits for RoBERTa Model"
      ]
    },
    {
      "cell_type": "code",
      "execution_count": null,
      "metadata": {
        "colab": {
          "base_uri": "https://localhost:8080/"
        },
        "id": "UirgdfyUA5RW",
        "outputId": "28c99415-5322-4034-cb48-d8124d3ba3d1"
      },
      "outputs": [
        {
          "name": "stdout",
          "output_type": "stream",
          "text": [
            "(2468, 2) (2468, 8)\n",
            "(617, 2) (617, 8)\n",
            "\n",
            "Label classes:\n",
            "['angry' 'disgust' 'fear' 'happy' 'nocode' 'not-relevant' 'sad' 'surprise']\n"
          ]
        }
      ],
      "source": [
        "# Train two different test splits for the Roberta Model\n",
        "train_df, test_df = train_test_split(df, test_size=0.2, random_state=42)\n",
        "\n",
        "# Prepare training and testing features\n",
        "X_train = train_df.drop('label', axis = 1)\n",
        "X_test = test_df.drop('label', axis = 1)\n",
        "\n",
        "# Combine all labels for fitting\n",
        "all_labels = pd.concat([train_df['label'], alt_df['label']])\n",
        "mlb = MultiLabelBinarizer()\n",
        "mlb.fit(all_labels.str.split('|'))\n",
        "\n",
        "# Transform labels\n",
        "y_train = mlb.transform(train_df['label'].str.split('|'))\n",
        "y_test = mlb.transform(test_df['label'].str.split('|'))"
      ]
    },
    {
      "cell_type": "code",
      "execution_count": null,
      "metadata": {},
      "outputs": [],
      "source": [
        "# Display shapes of the datasets\n",
        "print(X_train.shape, y_train.shape)\n",
        "print(X_test.shape, y_test.shape)\n",
        "\n",
        "# Check label mapping\n",
        "print(\"\\nLabel classes:\")\n",
        "print(mlb.classes_)\n",
        "\n",
        "# Check a sample label\n",
        "print(mlb.classes_)\n",
        "print(y_train[92])"
      ]
    },
    {
      "cell_type": "markdown",
      "metadata": {},
      "source": [
        "At this stage, we prepared the data specifically for the RoBERTa model. We split the dataset into training and test sets and separated the features (text) from the labels. To handle multi-label emotions, we combined all labels from the training and combined dataset and applied a multi-label binarizer, which converts each label into a one-hot encoded vector. This step ensures the model can handle tweets that express multiple emotions at once. The resulting shapes and label classes confirm that the data is correctly formatted and ready for model training."
      ]
    },
    {
      "cell_type": "code",
      "execution_count": null,
      "metadata": {
        "colab": {
          "base_uri": "https://localhost:8080/",
          "height": 564
        },
        "id": "khpdjU1pHliY",
        "outputId": "4140bde0-8d7e-4e77-bd96-92a35dd45f10"
      },
      "outputs": [
        {
          "data": {
            "image/png": "[encoded data removed]",
            "text/plain": [
              "<Figure size 1000x600 with 1 Axes>"
            ]
          },
          "metadata": {},
          "output_type": "display_data"
        }
      ],
      "source": [
        "# Visualize label distribution through exploding multi-labels\n",
        "df['label_split'] = df['label'].str.split('|')\n",
        "exploded_labels = df.explode('label_split')\n",
        "\n",
        "plt.figure(figsize=(10, 6))\n",
        "sns.countplot(y=exploded_labels['label_split'], order=exploded_labels['label_split'].value_counts().index)\n",
        "plt.title(\"Sentiment Label Distribution\")\n",
        "plt.xlabel(\"Count\")\n",
        "plt.ylabel(\"Sentiment\")\n",
        "plt.show()"
      ]
    },
    {
      "cell_type": "markdown",
      "metadata": {},
      "source": [
        "This graph shows how different sentiment labels appear across the dataset. Each bar represents the number of times a particular emotion or label occurs. The results show that “nocode” and “happy” dominate the dataset — meaning most entries either don’t express any clear emotion (nocode) or convey a positive tone (happy). In contrast, labels like “not-relevant”, “angry”, “sad”, “surprise”, and “disgust” appear far less frequently.\n",
        "\n",
        "Overall, the dataset is skewed toward neutral and positive sentiments, with far fewer examples of negative emotions. This is important to keep in mind if the data is being used to train a sentiment analysis model, since the model may become better at recognizing positive emotions simply because there are more examples of them. In short, most of the text in this dataset tends to reflect a neutral or upbeat mood, with relatively few negative or emotional outliers."
      ]
    },
    {
      "cell_type": "markdown",
      "metadata": {
        "id": "tNA4CR-Uxn1_"
      },
      "source": [
        "## Data Pre-processing for roBERTa model\n",
        "\n",
        "- Tweets were processed using recommend method in model [documentation](https://huggingface.co/cardiffnlp/twitter-roberta-base-sentiment)\n",
        "  - Specifically usernames and hyperlinks were reduced to `@user` and `http` respectively\n",
        "- Tweets were tokenized and stored in X2_train and X2_test"
      ]
    },
    {
      "cell_type": "code",
      "execution_count": null,
      "metadata": {
        "colab": {
          "base_uri": "https://localhost:8080/",
          "height": 206
        },
        "id": "sMTrMWvmBDAJ",
        "outputId": "f9f20a9e-0342-4c1f-eb3e-48ef9b4f19ae"
      },
      "outputs": [
        {
          "data": {
            "application/vnd.google.colaboratory.intrinsic+json": {
              "summary": "{\n  \"name\": \"display(alt_df\",\n  \"rows\": 5,\n  \"fields\": [\n    {\n      \"column\": \"text\",\n      \"properties\": {\n        \"dtype\": \"string\",\n        \"num_unique_values\": 5,\n        \"samples\": [\n          \"i can go from feeling so hopeless to so damned hopeful just from being around someone who cares and is awake\",\n          \"i am feeling grouchy\",\n          \"im grabbing a minute to post i feel greedy wrong\"\n        ],\n        \"semantic_type\": \"\",\n        \"description\": \"\"\n      }\n    },\n    {\n      \"column\": \"label\",\n      \"properties\": {\n        \"dtype\": \"string\",\n        \"num_unique_values\": 3,\n        \"samples\": [\n          \"sad\",\n          \"angry\",\n          \"happy\"\n        ],\n        \"semantic_type\": \"\",\n        \"description\": \"\"\n      }\n    }\n  ]\n}",
              "type": "dataframe"
            },
            "text/html": [
              "\n",
              "  <div id=\"df-991984c5-32d5-4c3c-88bb-dbb500fe8cd4\" class=\"colab-df-container\">\n",
              "    <div>\n",
              "<style scoped>\n",
              "    .dataframe tbody tr th:only-of-type {\n",
              "        vertical-align: middle;\n",
              "    }\n",
              "\n",
              "    .dataframe tbody tr th {\n",
              "        vertical-align: top;\n",
              "    }\n",
              "\n",
              "    .dataframe thead th {\n",
              "        text-align: right;\n",
              "    }\n",
              "</style>\n",
              "<table border=\"1\" class=\"dataframe\">\n",
              "  <thead>\n",
              "    <tr style=\"text-align: right;\">\n",
              "      <th></th>\n",
              "      <th>text</th>\n",
              "      <th>label</th>\n",
              "    </tr>\n",
              "  </thead>\n",
              "  <tbody>\n",
              "    <tr>\n",
              "      <th>1</th>\n",
              "      <td>i didnt feel humiliated</td>\n",
              "      <td>sad</td>\n",
              "    </tr>\n",
              "    <tr>\n",
              "      <th>2</th>\n",
              "      <td>i can go from feeling so hopeless to so damned...</td>\n",
              "      <td>sad</td>\n",
              "    </tr>\n",
              "    <tr>\n",
              "      <th>3</th>\n",
              "      <td>im grabbing a minute to post i feel greedy wrong</td>\n",
              "      <td>angry</td>\n",
              "    </tr>\n",
              "    <tr>\n",
              "      <th>4</th>\n",
              "      <td>i am ever feeling nostalgic about the fireplac...</td>\n",
              "      <td>happy</td>\n",
              "    </tr>\n",
              "    <tr>\n",
              "      <th>5</th>\n",
              "      <td>i am feeling grouchy</td>\n",
              "      <td>angry</td>\n",
              "    </tr>\n",
              "  </tbody>\n",
              "</table>\n",
              "</div>\n",
              "    <div class=\"colab-df-buttons\">\n",
              "\n",
              "  <div class=\"colab-df-container\">\n",
              "    <button class=\"colab-df-convert\" onclick=\"convertToInteractive('df-991984c5-32d5-4c3c-88bb-dbb500fe8cd4')\"\n",
              "            title=\"Convert this dataframe to an interactive table.\"\n",
              "            style=\"display:none;\">\n",
              "\n",
              "  <svg xmlns=\"http://www.w3.org/2000/svg\" height=\"24px\" viewBox=\"0 -960 960 960\">\n",
              "    <path d=\"M120-120v-720h720v720H120Zm60-500h600v-160H180v160Zm220 220h160v-160H400v160Zm0 220h160v-160H400v160ZM180-400h160v-160H180v160Zm440 0h160v-160H620v160ZM180-180h160v-160H180v160Zm440 0h160v-160H620v160Z\"/>\n",
              "  </svg>\n",
              "    </button>\n",
              "\n",
              "  <style>\n",
              "    .colab-df-container {\n",
              "      display:flex;\n",
              "      gap: 12px;\n",
              "    }\n",
              "\n",
              "    .colab-df-convert {\n",
              "      background-color: #E8F0FE;\n",
              "      border: none;\n",
              "      border-radius: 50%;\n",
              "      cursor: pointer;\n",
              "      display: none;\n",
              "      fill: #1967D2;\n",
              "      height: 32px;\n",
              "      padding: 0 0 0 0;\n",
              "      width: 32px;\n",
              "    }\n",
              "\n",
              "    .colab-df-convert:hover {\n",
              "      background-color: #E2EBFA;\n",
              "      box-shadow: 0px 1px 2px rgba(60, 64, 67, 0.3), 0px 1px 3px 1px rgba(60, 64, 67, 0.15);\n",
              "      fill: #174EA6;\n",
              "    }\n",
              "\n",
              "    .colab-df-buttons div {\n",
              "      margin-bottom: 4px;\n",
              "    }\n",
              "\n",
              "    [theme=dark] .colab-df-convert {\n",
              "      background-color: #3B4455;\n",
              "      fill: #D2E3FC;\n",
              "    }\n",
              "\n",
              "    [theme=dark] .colab-df-convert:hover {\n",
              "      background-color: #434B5C;\n",
              "      box-shadow: 0px 1px 3px 1px rgba(0, 0, 0, 0.15);\n",
              "      filter: drop-shadow(0px 1px 2px rgba(0, 0, 0, 0.3));\n",
              "      fill: #FFFFFF;\n",
              "    }\n",
              "  </style>\n",
              "\n",
              "    <script>\n",
              "      const buttonEl =\n",
              "        document.querySelector('#df-991984c5-32d5-4c3c-88bb-dbb500fe8cd4 button.colab-df-convert');\n",
              "      buttonEl.style.display =\n",
              "        google.colab.kernel.accessAllowed ? 'block' : 'none';\n",
              "\n",
              "      async function convertToInteractive(key) {\n",
              "        const element = document.querySelector('#df-991984c5-32d5-4c3c-88bb-dbb500fe8cd4');\n",
              "        const dataTable =\n",
              "          await google.colab.kernel.invokeFunction('convertToInteractive',\n",
              "                                                    [key], {});\n",
              "        if (!dataTable) return;\n",
              "\n",
              "        const docLinkHtml = 'Like what you see? Visit the ' +\n",
              "          '<a target=\"_blank\" href=https://colab.research.google.com/notebooks/data_table.ipynb>data table notebook</a>'\n",
              "          + ' to learn more about interactive tables.';\n",
              "        element.innerHTML = '';\n",
              "        dataTable['output_type'] = 'display_data';\n",
              "        await google.colab.output.renderOutput(dataTable, element);\n",
              "        const docLink = document.createElement('div');\n",
              "        docLink.innerHTML = docLinkHtml;\n",
              "        element.appendChild(docLink);\n",
              "      }\n",
              "    </script>\n",
              "  </div>\n",
              "\n",
              "\n",
              "    <div id=\"df-76f5775d-c8bb-4f15-ae4e-f0eda8518e44\">\n",
              "      <button class=\"colab-df-quickchart\" onclick=\"quickchart('df-76f5775d-c8bb-4f15-ae4e-f0eda8518e44')\"\n",
              "                title=\"Suggest charts\"\n",
              "                style=\"display:none;\">\n",
              "\n",
              "<svg xmlns=\"http://www.w3.org/2000/svg\" height=\"24px\"viewBox=\"0 0 24 24\"\n",
              "     width=\"24px\">\n",
              "    <g>\n",
              "        <path d=\"M19 3H5c-1.1 0-2 .9-2 2v14c0 1.1.9 2 2 2h14c1.1 0 2-.9 2-2V5c0-1.1-.9-2-2-2zM9 17H7v-7h2v7zm4 0h-2V7h2v10zm4 0h-2v-4h2v4z\"/>\n",
              "    </g>\n",
              "</svg>\n",
              "      </button>\n",
              "\n",
              "<style>\n",
              "  .colab-df-quickchart {\n",
              "      --bg-color: #E8F0FE;\n",
              "      --fill-color: #1967D2;\n",
              "      --hover-bg-color: #E2EBFA;\n",
              "      --hover-fill-color: #174EA6;\n",
              "      --disabled-fill-color: #AAA;\n",
              "      --disabled-bg-color: #DDD;\n",
              "  }\n",
              "\n",
              "  [theme=dark] .colab-df-quickchart {\n",
              "      --bg-color: #3B4455;\n",
              "      --fill-color: #D2E3FC;\n",
              "      --hover-bg-color: #434B5C;\n",
              "      --hover-fill-color: #FFFFFF;\n",
              "      --disabled-bg-color: #3B4455;\n",
              "      --disabled-fill-color: #666;\n",
              "  }\n",
              "\n",
              "  .colab-df-quickchart {\n",
              "    background-color: var(--bg-color);\n",
              "    border: none;\n",
              "    border-radius: 50%;\n",
              "    cursor: pointer;\n",
              "    display: none;\n",
              "    fill: var(--fill-color);\n",
              "    height: 32px;\n",
              "    padding: 0;\n",
              "    width: 32px;\n",
              "  }\n",
              "\n",
              "  .colab-df-quickchart:hover {\n",
              "    background-color: var(--hover-bg-color);\n",
              "    box-shadow: 0 1px 2px rgba(60, 64, 67, 0.3), 0 1px 3px 1px rgba(60, 64, 67, 0.15);\n",
              "    fill: var(--button-hover-fill-color);\n",
              "  }\n",
              "\n",
              "  .colab-df-quickchart-complete:disabled,\n",
              "  .colab-df-quickchart-complete:disabled:hover {\n",
              "    background-color: var(--disabled-bg-color);\n",
              "    fill: var(--disabled-fill-color);\n",
              "    box-shadow: none;\n",
              "  }\n",
              "\n",
              "  .colab-df-spinner {\n",
              "    border: 2px solid var(--fill-color);\n",
              "    border-color: transparent;\n",
              "    border-bottom-color: var(--fill-color);\n",
              "    animation:\n",
              "      spin 1s steps(1) infinite;\n",
              "  }\n",
              "\n",
              "  @keyframes spin {\n",
              "    0% {\n",
              "      border-color: transparent;\n",
              "      border-bottom-color: var(--fill-color);\n",
              "      border-left-color: var(--fill-color);\n",
              "    }\n",
              "    20% {\n",
              "      border-color: transparent;\n",
              "      border-left-color: var(--fill-color);\n",
              "      border-top-color: var(--fill-color);\n",
              "    }\n",
              "    30% {\n",
              "      border-color: transparent;\n",
              "      border-left-color: var(--fill-color);\n",
              "      border-top-color: var(--fill-color);\n",
              "      border-right-color: var(--fill-color);\n",
              "    }\n",
              "    40% {\n",
              "      border-color: transparent;\n",
              "      border-right-color: var(--fill-color);\n",
              "      border-top-color: var(--fill-color);\n",
              "    }\n",
              "    60% {\n",
              "      border-color: transparent;\n",
              "      border-right-color: var(--fill-color);\n",
              "    }\n",
              "    80% {\n",
              "      border-color: transparent;\n",
              "      border-right-color: var(--fill-color);\n",
              "      border-bottom-color: var(--fill-color);\n",
              "    }\n",
              "    90% {\n",
              "      border-color: transparent;\n",
              "      border-bottom-color: var(--fill-color);\n",
              "    }\n",
              "  }\n",
              "</style>\n",
              "\n",
              "      <script>\n",
              "        async function quickchart(key) {\n",
              "          const quickchartButtonEl =\n",
              "            document.querySelector('#' + key + ' button');\n",
              "          quickchartButtonEl.disabled = true;  // To prevent multiple clicks.\n",
              "          quickchartButtonEl.classList.add('colab-df-spinner');\n",
              "          try {\n",
              "            const charts = await google.colab.kernel.invokeFunction(\n",
              "                'suggestCharts', [key], {});\n",
              "          } catch (error) {\n",
              "            console.error('Error during call to suggestCharts:', error);\n",
              "          }\n",
              "          quickchartButtonEl.classList.remove('colab-df-spinner');\n",
              "          quickchartButtonEl.classList.add('colab-df-quickchart-complete');\n",
              "        }\n",
              "        (() => {\n",
              "          let quickchartButtonEl =\n",
              "            document.querySelector('#df-76f5775d-c8bb-4f15-ae4e-f0eda8518e44 button');\n",
              "          quickchartButtonEl.style.display =\n",
              "            google.colab.kernel.accessAllowed ? 'block' : 'none';\n",
              "        })();\n",
              "      </script>\n",
              "    </div>\n",
              "\n",
              "    </div>\n",
              "  </div>\n"
            ],
            "text/plain": [
              "                                                text  label\n",
              "1                            i didnt feel humiliated    sad\n",
              "2  i can go from feeling so hopeless to so damned...    sad\n",
              "3   im grabbing a minute to post i feel greedy wrong  angry\n",
              "4  i am ever feeling nostalgic about the fireplac...  happy\n",
              "5                               i am feeling grouchy  angry"
            ]
          },
          "metadata": {},
          "output_type": "display_data"
        }
      ],
      "source": [
        "def preprocess(text):\n",
        "    new_text = []\n",
        "    for t in text.split(\" \"):\n",
        "        t = '@user' if t.startswith('@') and len(t) > 1 else t\n",
        "        t = 'http' if t.startswith('http') else t\n",
        "        new_text.append(t)\n",
        "    return \" \".join(new_text)\n",
        "\n",
        "alt_df['text'] = alt_df['text'].apply(preprocess)\n",
        "display(alt_df.head())"
      ]
    },
    {
      "cell_type": "code",
      "execution_count": null,
      "metadata": {
        "colab": {
          "base_uri": "https://localhost:8080/",
          "height": 241
        },
        "id": "0vPkDI1UBjkp",
        "outputId": "3efb84d6-e86a-4a77-d2f5-41511b1a80f2"
      },
      "outputs": [
        {
          "data": {
            "text/html": [
              "<div>\n",
              "<style scoped>\n",
              "    .dataframe tbody tr th:only-of-type {\n",
              "        vertical-align: middle;\n",
              "    }\n",
              "\n",
              "    .dataframe tbody tr th {\n",
              "        vertical-align: top;\n",
              "    }\n",
              "\n",
              "    .dataframe thead th {\n",
              "        text-align: right;\n",
              "    }\n",
              "</style>\n",
              "<table border=\"1\" class=\"dataframe\">\n",
              "  <thead>\n",
              "    <tr style=\"text-align: right;\">\n",
              "      <th></th>\n",
              "      <th>text</th>\n",
              "    </tr>\n",
              "  </thead>\n",
              "  <tbody>\n",
              "    <tr>\n",
              "      <th>2634</th>\n",
              "      <td>I'm at @user in London, Greater London http</td>\n",
              "    </tr>\n",
              "    <tr>\n",
              "      <th>2373</th>\n",
              "      <td>My favourite #oilpainting  'Tiger Tiger Burnin...</td>\n",
              "    </tr>\n",
              "    <tr>\n",
              "      <th>839</th>\n",
              "      <td>Currently @user to discuss #DefeatingDepressio...</td>\n",
              "    </tr>\n",
              "    <tr>\n",
              "      <th>2857</th>\n",
              "      <td>@user thanks for the Favourite!</td>\n",
              "    </tr>\n",
              "    <tr>\n",
              "      <th>761</th>\n",
              "      <td>Farron Gorey selfies before his performance at...</td>\n",
              "    </tr>\n",
              "  </tbody>\n",
              "</table>\n",
              "</div><br><label><b>dtype:</b> object</label>"
            ],
            "text/plain": [
              "2634          I'm at @user in London, Greater London http\n",
              "2373    My favourite #oilpainting  'Tiger Tiger Burnin...\n",
              "839     Currently @user to discuss #DefeatingDepressio...\n",
              "2857                      @user thanks for the Favourite!\n",
              "761     Farron Gorey selfies before his performance at...\n",
              "Name: text, dtype: object"
            ]
          },
          "execution_count": 26,
          "metadata": {},
          "output_type": "execute_result"
        }
      ],
      "source": [
        "X2_train = X_train['text'].apply(preprocess)\n",
        "X2_test = X_test['text'].apply(preprocess)\n",
        "X2_train.head()"
      ]
    },
    {
      "cell_type": "code",
      "execution_count": null,
      "metadata": {
        "colab": {
          "base_uri": "https://localhost:8080/",
          "height": 145,
          "referenced_widgets": [
            "3762e1b169f04810802741f2cb31c925",
            "d65692312cd749e783aa83d66c386f80",
            "31644ecf3213483a98557e9aa2603b17",
            "2b22a1ab705e43aabe0da8c3bf4d9f91",
            "dd6ee850dfb74292a2d94fb0da93f226",
            "eb4c6e1c8e414fe8b96105d4bd1b2ed9",
            "5778053397f8451e81d2d18f7a54c6a6",
            "b588106a36464b7b860c4233ad3b6806",
            "37010e2104204adab02be88d9948aa09",
            "f0e45729161c49e68393214b8957b9f2",
            "748cde0c820b44efa572c96c7acda1b2",
            "4f30f47e2ca34391aebd688017a1b1cb",
            "087fa30438504a16b8d58efb99dea3ee",
            "0e72219150e345b987c6d22fe76840e3",
            "712b1d185ee54d3482354f5d7a15de8e",
            "25e54ea2230346abac389a9dc4a414c4",
            "2cfab6c41eaf4d30a5d7b114443f9edb",
            "52eb8f7c5a084fc38338f18a415d65d9",
            "4c723af521714ef2bb2a12b0f3539bb0",
            "62c55847f4c2459cab48d680c0136258",
            "205f31969ab04c7bb31cc0ac83213a14",
            "2ba0f81209a04e2ea33e64193fab90a8",
            "444aaa27eb34408fb7f74277481d04c6",
            "94a1243157744bbaab03c81e056fea76",
            "374d1c92afa34051921642a44601ec80",
            "2347a08356ef4f108c86e26a53cdc26b",
            "b30f223dd888441c95c8ad4c83516645",
            "8dabc1fb302f4a8ba976500f80f73dd2",
            "3ec241153b494b1782fff54a79b4b664",
            "916f3558d72d497395fc833671b542c0",
            "b9a827f88b7b4f78918aee93d887c6c0",
            "666f3024d289464081b9d58db805aedf",
            "5dfbbf9c39164d2ca1449cb44f0ec887",
            "cfe4b3fcc3fc479ea9f72a66fa33a9c0",
            "eeab0dff9b6d439f832fd59d7810d2bf",
            "afa39a2d10fb4607a7706ea597c4fb0a",
            "b9fbb502f6414af59b204d0cf0dcfc91",
            "8e78ded15fd54b8b80c27aaf22d4de40",
            "91a935f64b5a4be6bf8cac9946a2371b",
            "538fbdcaf28b42a99eb6b0ca89081b85",
            "9a84f8781569445a859b2b8cb8810be6",
            "a6850b68ab104e4fba503a223c289fcc",
            "413c1590751245168c25d605b62f7a62",
            "31d7a3cd39194345853bfaf1ee53ef33"
          ]
        },
        "id": "YLFYLZ0QBlti",
        "outputId": "d4dd3359-5bac-4d63-ede5-6b4dfbb3eab3"
      },
      "outputs": [
        {
          "data": {
            "application/vnd.jupyter.widget-view+json": {
              "model_id": "3762e1b169f04810802741f2cb31c925",
              "version_major": 2,
              "version_minor": 0
            },
            "text/plain": [
              "config.json:   0%|          | 0.00/747 [00:00<?, ?B/s]"
            ]
          },
          "metadata": {},
          "output_type": "display_data"
        },
        {
          "data": {
            "application/vnd.jupyter.widget-view+json": {
              "model_id": "4f30f47e2ca34391aebd688017a1b1cb",
              "version_major": 2,
              "version_minor": 0
            },
            "text/plain": [
              "vocab.json: 0.00B [00:00, ?B/s]"
            ]
          },
          "metadata": {},
          "output_type": "display_data"
        },
        {
          "data": {
            "application/vnd.jupyter.widget-view+json": {
              "model_id": "444aaa27eb34408fb7f74277481d04c6",
              "version_major": 2,
              "version_minor": 0
            },
            "text/plain": [
              "merges.txt: 0.00B [00:00, ?B/s]"
            ]
          },
          "metadata": {},
          "output_type": "display_data"
        },
        {
          "data": {
            "application/vnd.jupyter.widget-view+json": {
              "model_id": "cfe4b3fcc3fc479ea9f72a66fa33a9c0",
              "version_major": 2,
              "version_minor": 0
            },
            "text/plain": [
              "special_tokens_map.json:   0%|          | 0.00/150 [00:00<?, ?B/s]"
            ]
          },
          "metadata": {},
          "output_type": "display_data"
        }
      ],
      "source": [
        "disable_colab_widgets\n",
        "\n",
        "roberta_tokenizer = AutoTokenizer.from_pretrained(\"cardiffnlp/twitter-roberta-base-sentiment\")\n",
        "\n"
      ]
    },
    {
      "cell_type": "code",
      "execution_count": null,
      "metadata": {
        "id": "JMkHoqGNX23r"
      },
      "outputs": [],
      "source": [
        "le_alt = LabelEncoder()\n",
        "alt_df['label_enc'] = le_alt.fit_transform(alt_df['label'])  # This gives you integer class labels\n",
        "\n",
        "# Split again to maintain consistency\n",
        "alt_train, alt_eval = train_test_split(alt_df, test_size=0.2, random_state=42)\n",
        "\n",
        "# Tokenize\n",
        "tokens_train = roberta_tokenizer(alt_train['text'].tolist(), padding=True, truncation=True, max_length=128, return_tensors=\"pt\")\n",
        "tokens_eval = roberta_tokenizer(alt_eval['text'].tolist(), padding=True, truncation=True, max_length=128, return_tensors=\"pt\")\n",
        "\n",
        "# Integer labels for single-label classification\n",
        "y_alt_train = alt_train['label_enc'].tolist()\n",
        "y_alt_eval = alt_eval['label_enc'].tolist()"
      ]
    },
    {
      "cell_type": "code",
      "execution_count": null,
      "metadata": {
        "id": "hnFgnYVdBrav"
      },
      "outputs": [],
      "source": [
        "base_sentiments = mlb.classes_\n",
        "\n",
        "label2id = {label: idx for idx, label in enumerate(base_sentiments)}\n",
        "id2label = {idx: label for idx, label in enumerate(base_sentiments)}"
      ]
    },
    {
      "cell_type": "code",
      "execution_count": null,
      "metadata": {
        "colab": {
          "base_uri": "https://localhost:8080/",
          "height": 232,
          "referenced_widgets": [
            "8e75736adda74f8180cfeeffcd6832eb",
            "2cc90f3dfc734e1a8b12412858619d1e",
            "3062c95ac2a24c8b8654d2e18afc6cf0",
            "075a2a8442654d56989ccb6ec19c94df",
            "66dbce7d72564486a40f5be7f4c9ed53",
            "68f8b657634649778ab37f4002b790e8",
            "54735193629e40778ed14be845061c1b",
            "6c8311554df1482aa35ff715173c1c3c",
            "92a56a3fbf564caa94d71caed3f08782",
            "fae60e282b394bd39e0b67b6ce8e3980",
            "64a95afc456647c9901064101af604fd",
            "4ea2429da89143fd9c27ae54002b20ac",
            "419ee4617c284e2fbe91fb7449e8370b",
            "a9fceea891494b90b152cb5b7e735bf8",
            "a581a3176d15478890721d6b97c757db",
            "b4afa6e01e564a8ea985a639397ce5e9",
            "5e01b9422fe448e28100ecb3bf1c26d2",
            "2a5f2f0ea6d6493fb98344c42c6c3a73",
            "b1fd2591f7334002805be0daeead28bf",
            "2991be12c9cf4a18b2c5cdf0d4cc593b",
            "51019a6fd484480da3a228102098c71c",
            "1e04148c83f64bdfb12578714f2af57b"
          ]
        },
        "id": "58L6oTexWWUl",
        "outputId": "138f4d33-610d-48fb-a30b-4643173fe3c0"
      },
      "outputs": [
        {
          "data": {
            "application/vnd.jupyter.widget-view+json": {
              "model_id": "8e75736adda74f8180cfeeffcd6832eb",
              "version_major": 2,
              "version_minor": 0
            },
            "text/plain": [
              "pytorch_model.bin:   0%|          | 0.00/499M [00:00<?, ?B/s]"
            ]
          },
          "metadata": {},
          "output_type": "display_data"
        },
        {
          "name": "stderr",
          "output_type": "stream",
          "text": [
            "Some weights of RobertaForSequenceClassification were not initialized from the model checkpoint at cardiffnlp/twitter-roberta-base-sentiment and are newly initialized because the shapes did not match:\n",
            "- classifier.out_proj.weight: found shape torch.Size([3, 768]) in the checkpoint and torch.Size([4, 768]) in the model instantiated\n",
            "- classifier.out_proj.bias: found shape torch.Size([3]) in the checkpoint and torch.Size([4]) in the model instantiated\n",
            "You should probably TRAIN this model on a down-stream task to be able to use it for predictions and inference.\n"
          ]
        },
        {
          "data": {
            "application/vnd.jupyter.widget-view+json": {
              "model_id": "4ea2429da89143fd9c27ae54002b20ac",
              "version_major": 2,
              "version_minor": 0
            },
            "text/plain": [
              "model.safetensors:   0%|          | 0.00/499M [00:00<?, ?B/s]"
            ]
          },
          "metadata": {},
          "output_type": "display_data"
        },
        {
          "name": "stderr",
          "output_type": "stream",
          "text": [
            "Some weights of RobertaForSequenceClassification were not initialized from the model checkpoint at cardiffnlp/twitter-roberta-base-sentiment and are newly initialized because the shapes did not match:\n",
            "- classifier.out_proj.weight: found shape torch.Size([3, 768]) in the checkpoint and torch.Size([8, 768]) in the model instantiated\n",
            "- classifier.out_proj.bias: found shape torch.Size([3]) in the checkpoint and torch.Size([8]) in the model instantiated\n",
            "You should probably TRAIN this model on a down-stream task to be able to use it for predictions and inference.\n"
          ]
        }
      ],
      "source": [
        "disable_colab_widgets\n",
        "\n",
        "# Build Hugging Face Datasets\n",
        "train_dataset_alt = Dataset.from_dict({\n",
        "    'input_ids': tokens_train['input_ids'],\n",
        "    'attention_mask': tokens_train['attention_mask'],\n",
        "    'labels': y_alt_train\n",
        "})\n",
        "\n",
        "model_alt = AutoModelForSequenceClassification.from_pretrained(\n",
        "    \"cardiffnlp/twitter-roberta-base-sentiment\",\n",
        "    num_labels=len(le_alt.classes_),\n",
        "    problem_type=\"single_label_classification\",\n",
        "    id2label={i: l for i, l in enumerate(le_alt.classes_)},\n",
        "    label2id={l: i for i, l in enumerate(le_alt.classes_)},\n",
        "    ignore_mismatched_sizes=True\n",
        ").to(device)\n",
        "\n",
        "eval_dataset_alt = Dataset.from_dict({\n",
        "    'input_ids': tokens_eval['input_ids'],\n",
        "    'attention_mask': tokens_eval['attention_mask'],\n",
        "    'labels': y_alt_eval\n",
        "})\n",
        "model_2 = AutoModelForSequenceClassification.from_pretrained(\n",
        "    \"cardiffnlp/twitter-roberta-base-sentiment\",\n",
        "    num_labels=len(base_sentiments),\n",
        "    id2label=id2label,\n",
        "    label2id=label2id,\n",
        "    ignore_mismatched_sizes=True,\n",
        "    problem_type=\"multi_label_classification\"\n",
        ").to(device)"
      ]
    },
    {
      "cell_type": "code",
      "execution_count": null,
      "metadata": {
        "id": "n3Rn3EQUBoF6"
      },
      "outputs": [],
      "source": [
        "X2_train_tokens = roberta_tokenizer(X2_train.tolist(),\n",
        "                                    padding=True,\n",
        "                                    truncation=True,\n",
        "                                    max_length=128,\n",
        "                                    return_tensors=\"pt\")\n",
        "\n",
        "X2_test_tokens = roberta_tokenizer(X2_test.tolist(),\n",
        "                                    padding=True,\n",
        "                                    truncation=True,\n",
        "                                    max_length=128,\n",
        "                                    return_tensors=\"pt\")\n",
        "\n",
        "tokens_alt = roberta_tokenizer(alt_df['text'].tolist(),\n",
        "                                    padding=True,\n",
        "                                    truncation=True,\n",
        "                                    max_length=128,\n",
        "                                    return_tensors=\"pt\")\n"
      ]
    },
    {
      "cell_type": "code",
      "execution_count": null,
      "metadata": {
        "id": "9etZcYTeBu3x"
      },
      "outputs": [],
      "source": [
        "train_dataset = Dataset.from_dict({\n",
        "    'input_ids': X2_train_tokens['input_ids'],\n",
        "    'attention_mask': X2_train_tokens['attention_mask'],\n",
        "    'labels': y_train.astype('float32').tolist()\n",
        "})\n",
        "\n",
        "test_dataset = Dataset.from_dict({\n",
        "    'input_ids': X2_test_tokens['input_ids'],\n",
        "    'attention_mask': X2_test_tokens['attention_mask'],\n",
        "    'labels': y_test.astype('float32').tolist()\n",
        "})"
      ]
    },
    {
      "cell_type": "code",
      "execution_count": null,
      "metadata": {
        "colab": {
          "base_uri": "https://localhost:8080/",
          "height": 611
        },
        "id": "IJ-3Mu6LB_u-",
        "outputId": "fe6ab4af-651f-4c2c-f222-96162db04be2"
      },
      "outputs": [
        {
          "name": "stderr",
          "output_type": "stream",
          "text": [
            "/tmp/ipython-input-4268022929.py:15: FutureWarning: `tokenizer` is deprecated and will be removed in version 5.0.0 for `Trainer.__init__`. Use `processing_class` instead.\n",
            "  roberta_trainer = Trainer(model=model_2,\n",
            "/tmp/ipython-input-4268022929.py:20: FutureWarning: `tokenizer` is deprecated and will be removed in version 5.0.0 for `Trainer.__init__`. Use `processing_class` instead.\n",
            "  trainer_alt = Trainer(\n"
          ]
        },
        {
          "name": "stdout",
          "output_type": "stream",
          "text": [
            "roBERTA First Pass\n"
          ]
        },
        {
          "data": {
            "text/html": [
              "\n",
              "    <div>\n",
              "      \n",
              "      <progress value='620' max='620' style='width:300px; height:20px; vertical-align: middle;'></progress>\n",
              "      [620/620 08:58, Epoch 4/4]\n",
              "    </div>\n",
              "    <table border=\"1\" class=\"dataframe\">\n",
              "  <thead>\n",
              " <tr style=\"text-align: left;\">\n",
              "      <th>Epoch</th>\n",
              "      <th>Training Loss</th>\n",
              "      <th>Validation Loss</th>\n",
              "    </tr>\n",
              "  </thead>\n",
              "  <tbody>\n",
              "    <tr>\n",
              "      <td>1</td>\n",
              "      <td>No log</td>\n",
              "      <td>0.144456</td>\n",
              "    </tr>\n",
              "    <tr>\n",
              "      <td>2</td>\n",
              "      <td>No log</td>\n",
              "      <td>0.141701</td>\n",
              "    </tr>\n",
              "    <tr>\n",
              "      <td>3</td>\n",
              "      <td>No log</td>\n",
              "      <td>0.151936</td>\n",
              "    </tr>\n",
              "    <tr>\n",
              "      <td>4</td>\n",
              "      <td>0.113400</td>\n",
              "      <td>0.147414</td>\n",
              "    </tr>\n",
              "  </tbody>\n",
              "</table><p>"
            ],
            "text/plain": [
              "<IPython.core.display.HTML object>"
            ]
          },
          "metadata": {},
          "output_type": "display_data"
        },
        {
          "name": "stdout",
          "output_type": "stream",
          "text": [
            "roBERTA Second Pass\n"
          ]
        },
        {
          "data": {
            "text/html": [
              "\n",
              "    <div>\n",
              "      \n",
              "      <progress value='3472' max='3472' style='width:300px; height:20px; vertical-align: middle;'></progress>\n",
              "      [3472/3472 20:43, Epoch 4/4]\n",
              "    </div>\n",
              "    <table border=\"1\" class=\"dataframe\">\n",
              "  <thead>\n",
              " <tr style=\"text-align: left;\">\n",
              "      <th>Epoch</th>\n",
              "      <th>Training Loss</th>\n",
              "      <th>Validation Loss</th>\n",
              "    </tr>\n",
              "  </thead>\n",
              "  <tbody>\n",
              "    <tr>\n",
              "      <td>1</td>\n",
              "      <td>0.357900</td>\n",
              "      <td>0.189217</td>\n",
              "    </tr>\n",
              "    <tr>\n",
              "      <td>2</td>\n",
              "      <td>0.099400</td>\n",
              "      <td>0.097262</td>\n",
              "    </tr>\n",
              "    <tr>\n",
              "      <td>3</td>\n",
              "      <td>0.053500</td>\n",
              "      <td>0.106370</td>\n",
              "    </tr>\n",
              "    <tr>\n",
              "      <td>4</td>\n",
              "      <td>0.036600</td>\n",
              "      <td>0.128682</td>\n",
              "    </tr>\n",
              "  </tbody>\n",
              "</table><p>"
            ],
            "text/plain": [
              "<IPython.core.display.HTML object>"
            ]
          },
          "metadata": {},
          "output_type": "display_data"
        },
        {
          "data": {
            "text/plain": [
              "('./my-emotion-model/tokenizer_config.json',\n",
              " './my-emotion-model/special_tokens_map.json',\n",
              " './my-emotion-model/vocab.json',\n",
              " './my-emotion-model/merges.txt',\n",
              " './my-emotion-model/added_tokens.json',\n",
              " './my-emotion-model/tokenizer.json')"
            ]
          },
          "execution_count": 26,
          "metadata": {},
          "output_type": "execute_result"
        }
      ],
      "source": [
        "disable_colab_widgets\n",
        "\n",
        "training_args = TrainingArguments(output_dir=\"./sentiment-model\",\n",
        "                                  num_train_epochs=4,\n",
        "                                  per_device_train_batch_size=16,\n",
        "                                  per_device_eval_batch_size=16,\n",
        "                                  learning_rate=5e-5,\n",
        "                                  weight_decay=0.1,\n",
        "                                  eval_strategy=\"epoch\",\n",
        "                                  save_strategy=\"epoch\",\n",
        "                                  load_best_model_at_end=True,\n",
        "                                  report_to=\"none\",\n",
        "                                  seed = 42)\n",
        "\n",
        "roberta_trainer = Trainer(model=model_2,\n",
        "                  args=training_args,\n",
        "                  train_dataset=train_dataset,\n",
        "                  eval_dataset=test_dataset,\n",
        "                  tokenizer=roberta_tokenizer)\n",
        "trainer_alt = Trainer(\n",
        "    model=model_alt,\n",
        "    args=training_args,\n",
        "    train_dataset=train_dataset_alt,\n",
        "    eval_dataset=eval_dataset_alt,\n",
        "    tokenizer=roberta_tokenizer\n",
        ")\n",
        "\n",
        "print('roBERTA First Pass')\n",
        "roberta_trainer.train()\n",
        "\n",
        "print('roBERTA Second Pass')\n",
        "trainer_alt.train()\n",
        "\n",
        "model_2.save_pretrained(\"./my-sentiment-model\")\n",
        "roberta_tokenizer.save_pretrained(\"./my-sentiment-model\")\n",
        "model_alt.save_pretrained(\"./my-emotion-model\")\n",
        "roberta_tokenizer.save_pretrained(\"./my-emotion-model\")"
      ]
    },
    {
      "cell_type": "code",
      "execution_count": null,
      "metadata": {
        "id": "NZ2XEBX-bYK0"
      },
      "outputs": [],
      "source": [
        "from transformers import AutoTokenizer, AutoModelForSequenceClassification\n",
        "\n",
        "# Load first model\n",
        "model_2 = AutoModelForSequenceClassification.from_pretrained(\"raphi-l/my-sentiment-model\")\n",
        "roberta_tokenizer = AutoTokenizer.from_pretrained(\"raphi-l/my-sentiment-model\")\n",
        "\n",
        "# Load second model\n",
        "model_alt = AutoModelForSequenceClassification.from_pretrained(\"raphi-l/roberta_second_pass\")"
      ]
    },
    {
      "cell_type": "code",
      "execution_count": null,
      "metadata": {
        "colab": {
          "base_uri": "https://localhost:8080/"
        },
        "id": "fWn0amcJCBqi",
        "outputId": "1246b8f7-b92f-4655-af11-eb2ab6cfdac7"
      },
      "outputs": [
        {
          "name": "stdout",
          "output_type": "stream",
          "text": [
            "All probabilities:\n",
            "  angry: 0.1723\n",
            "  disgust: 0.0380\n",
            "  fear: 0.0110\n",
            "  happy: 0.0866\n",
            "  nocode: 0.1464\n",
            "  not-relevant: 0.0537\n",
            "  sad: 0.1156\n",
            "  surprise: 0.1225\n",
            "Sentiments: {}\n"
          ]
        }
      ],
      "source": [
        "def predict_sentiments_debug(text, threshold=0.5):\n",
        "    inputs = roberta_tokenizer(text, return_tensors=\"pt\", truncation=True, max_length=128)\n",
        "    inputs = {k: v.to(device) for k, v in inputs.items()}\n",
        "\n",
        "    with torch.no_grad():\n",
        "        outputs = model_2(**inputs)\n",
        "\n",
        "    logits = outputs.logits\n",
        "    probs = torch.sigmoid(logits)[0].cpu().numpy()\n",
        "\n",
        "    print(\"All probabilities:\")\n",
        "    for idx, prob in enumerate(probs):\n",
        "        sentiment = id2label[idx]\n",
        "        print(f\"  {sentiment}: {prob:.4f}\")\n",
        "\n",
        "    predictions = {}\n",
        "    for idx, prob in enumerate(probs):\n",
        "        sentiment = id2label[idx]\n",
        "        if prob >= threshold:\n",
        "            predictions[sentiment] = float(prob)\n",
        "\n",
        "    return predictions\n",
        "\n",
        "result = predict_sentiments_debug(\"I'm so scared of the recent politcs from both parties\", threshold=0.3)\n",
        "print(f\"Sentiments: {result}\")"
      ]
    },
    {
      "cell_type": "markdown",
      "metadata": {
        "id": "vSWgNH1SyZD1"
      },
      "source": [
        "## Visualization of Model Predictions and Confidence\n",
        "\n",
        "Our model was found to be most confident in the prediction of `nocode` labels. This is expected as it was the most frequent label in our training dataset. Our model tends to overfit on the happiness label."
      ]
    },
    {
      "cell_type": "markdown",
      "metadata": {
        "id": "9e3fd012"
      },
      "source": [
        "<font size = 5> Here is the graph of our sentiment Label Distribution."
      ]
    },
    {
      "cell_type": "code",
      "execution_count": null,
      "metadata": {
        "colab": {
          "base_uri": "https://localhost:8080/",
          "height": 507
        },
        "id": "DHka3_9nLEYS",
        "outputId": "8d7ed6ef-f628-4029-9796-c88c55a1e653"
      },
      "outputs": [
        {
          "data": {
            "text/html": [],
            "text/plain": [
              "<IPython.core.display.HTML object>"
            ]
          },
          "metadata": {},
          "output_type": "display_data"
        },
        {
          "data": {
            "image/png": "[encoded data removed]",
            "text/plain": [
              "<Figure size 700x500 with 2 Axes>"
            ]
          },
          "metadata": {},
          "output_type": "display_data"
        }
      ],
      "source": [
        "output.disable_custom_widget_manager()\n",
        "\n",
        "# Calculate average predicted probability per label in test set\n",
        "preds = roberta_trainer.predict(test_dataset)\n",
        "probs = torch.sigmoid(torch.tensor(preds.predictions)).numpy()\n",
        "avg_probs = probs.mean(axis=0)\n",
        "\n",
        "# Label frequency\n",
        "label_freq = exploded_labels['label_split'].value_counts()\n",
        "\n",
        "# Create a Series for average predicted probabilities\n",
        "avg_probs_series = pd.Series(avg_probs, index=mlb.classes_)\n",
        "\n",
        "# Combine into one DataFrame\n",
        "analysis_df = pd.DataFrame({\n",
        "    'Frequency': label_freq.reindex(mlb.classes_, fill_value=0),\n",
        "    'Avg_Model_Confidence': avg_probs_series\n",
        "})\n",
        "\n",
        "fig, ax1 = plt.subplots(figsize=(7, 5))\n",
        "\n",
        "# Bar plot for frequency (left y-axis)\n",
        "color = 'tab:blue'\n",
        "ax1.set_xlabel('Sentiment Labels')\n",
        "ax1.set_ylabel('Frequency', color=color)\n",
        "ax1.bar(analysis_df.index, analysis_df['Frequency'], color=color, label='Frequency')\n",
        "ax1.tick_params(axis='y', labelcolor=color)\n",
        "ax1.tick_params(axis='x', rotation=45)\n",
        "\n",
        "# Twin axis for model confidence (right y-axis)\n",
        "ax2 = ax1.twinx()\n",
        "color = 'tab:orange'\n",
        "ax2.set_ylabel('Avg Model Confidence', color=color)\n",
        "ax2.plot(analysis_df.index, analysis_df['Avg_Model_Confidence'], color=color, marker='o', label='Avg_Model_Confidence')\n",
        "ax2.tick_params(axis='y', labelcolor=color)\n",
        "\n",
        "plt.title('Label Frequency vs Model Confidence')\n",
        "plt.tight_layout()\n",
        "plt.grid(True)\n",
        "plt.show()"
      ]
    },
    {
      "cell_type": "code",
      "execution_count": null,
      "metadata": {
        "colab": {
          "base_uri": "https://localhost:8080/",
          "height": 1000
        },
        "id": "w6B5SqqRLccP",
        "outputId": "b11d4dbb-21d8-445d-c596-cc941d4a55a6"
      },
      "outputs": [
        {
          "data": {
            "image/png": "[encoded data removed]",
            "text/plain": [
              "<Figure size 1000x1000 with 2 Axes>"
            ]
          },
          "metadata": {},
          "output_type": "display_data"
        }
      ],
      "source": [
        "# Define labels\n",
        "labels = ['angry', 'disgust', 'happy', 'nocode', 'not-relevant', 'sad', 'surprise']\n",
        "\n",
        "# Simulated frequency and confidence values (replace with your real data)\n",
        "freq_model1 = [100, 80, 200, 300, 50, 120, 70]         # From exploded `df`\n",
        "conf_model1 = [0.6, 0.55, 0.72, 0.9, 0.5, 0.62, 0.57]   # From model_2 predictions\n",
        "\n",
        "freq_model2 = [90, 60, 210, 280, 40, 100, 60]          # From exploded `alt_df`\n",
        "conf_model2 = [0.58, 0.53, 0.75, 0.88, 0.48, 0.59, 0.55]# From model_alt predictions\n",
        "\n",
        "# Create DataFrames\n",
        "df_model1 = pd.DataFrame({\n",
        "    'Label': labels,\n",
        "    'Frequency': freq_model1,\n",
        "    'Avg_Model_Confidence': conf_model1,\n",
        "    'Model': 'Multi-label (model_2)'\n",
        "})\n",
        "\n",
        "df_model2 = pd.DataFrame({\n",
        "    'Label': labels,\n",
        "    'Frequency': freq_model2,\n",
        "    'Avg_Model_Confidence': conf_model2,\n",
        "    'Model': 'Single-label (model_alt)'\n",
        "})\n",
        "\n",
        "combined_df = pd.concat([df_model1, df_model2])\n",
        "\n",
        "# Plotting\n",
        "fig, axes = plt.subplots(2, 1, figsize=(10, 10), sharex=True)\n",
        "\n",
        "# Frequency bar chart\n",
        "sns.barplot(data=combined_df, x='Label', y='Frequency', hue='Model', ax=axes[0])\n",
        "axes[0].set_title('Label Frequency Comparison')\n",
        "axes[0].set_ylabel('Frequency')\n",
        "\n",
        "# Confidence line chart\n",
        "sns.lineplot(data=combined_df, x='Label', y='Avg_Model_Confidence', hue='Model', marker='o', ax=axes[1])\n",
        "axes[1].set_title('Average Model Confidence Comparison')\n",
        "axes[1].set_ylabel('Avg Confidence')\n",
        "axes[1].set_ylim(0, 1)\n",
        "axes[1].set_xlabel('Sentiment Labels')\n",
        "\n",
        "plt.tight_layout()\n",
        "plt.show()"
      ]
    },
    {
      "cell_type": "code",
      "execution_count": null,
      "metadata": {
        "id": "MLHSUE0193z3"
      },
      "outputs": [],
      "source": [
        "# After training model_2 and roberta_tokenizer\n",
        "\n",
        "# Load first model\n",
        "model_2 = AutoModelForSequenceClassification.from_pretrained(\"raphi-l/my-sentiment-model\")\n",
        "roberta_tokenizer = AutoTokenizer.from_pretrained(\"raphi-l/my-sentiment-model\")\n",
        "\n",
        "# Load second model\n",
        "model_final = AutoModelForSequenceClassification.from_pretrained(\"raphi-l/roberta_second_pass\")"
      ]
    },
    {
      "cell_type": "code",
      "execution_count": null,
      "metadata": {
        "id": "gzh4zLBE-f94"
      },
      "outputs": [],
      "source": [
        "def predict_sentiments_present(text, our_model=model_2, threshold=0.5, return_probs= False):\n",
        "    inputs = roberta_tokenizer(text, return_tensors=\"pt\", truncation=True, max_length=128)\n",
        "    inputs = {k: v.to(device) for k, v in inputs.items()}\n",
        "\n",
        "    our_model.to(device)\n",
        "\n",
        "    with torch.no_grad():\n",
        "        outputs = our_model(**inputs)\n",
        "\n",
        "    logits = outputs.logits\n",
        "    probs = torch.sigmoid(logits)[0].cpu().numpy()\n",
        "\n",
        "    print(\"All probabilities:\")\n",
        "    for idx, prob in enumerate(probs):\n",
        "        sentiment = id2label[idx]\n",
        "        print(f\"  {sentiment}: {prob:.4f}\")\n",
        "\n",
        "    predictions = {}\n",
        "    for idx, prob in enumerate(probs):\n",
        "        sentiment = id2label[idx]\n",
        "        if prob >= threshold:\n",
        "            predictions[sentiment] = float(prob)\n",
        "\n",
        "    if return_probs:\n",
        "        return {id2label[idx]: float(prob) for idx, prob in enumerate(probs)}\n",
        "\n",
        "    return predictions"
      ]
    },
    {
      "cell_type": "code",
      "execution_count": null,
      "metadata": {
        "colab": {
          "base_uri": "https://localhost:8080/"
        },
        "id": "XIjrACSvmtYK",
        "outputId": "56b27520-4491-46d0-f8fd-c74ce841ea92"
      },
      "outputs": [
        {
          "name": "stdout",
          "output_type": "stream",
          "text": [
            "All probabilities:\n",
            "  angry: 0.2011\n",
            "  disgust: 0.0549\n",
            "  fear: 0.0141\n",
            "  happy: 0.3001\n",
            "  nocode: 0.0677\n",
            "  not-relevant: 0.0383\n",
            "  sad: 0.2119\n",
            "  surprise: 0.0901\n",
            "Predicted Sentiments (threshold=0.2):\n",
            "{}\n"
          ]
        }
      ],
      "source": [
        "# Try prediction sample\n",
        "example_text = \"I'm not feeling great about the direction of things lately.\"\n",
        "results = predict_sentiments_present(example_text)\n",
        "print(\"Predicted Sentiments (threshold=0.2):\")\n",
        "print(results)"
      ]
    },
    {
      "cell_type": "code",
      "execution_count": null,
      "metadata": {
        "colab": {
          "base_uri": "https://localhost:8080/"
        },
        "id": "1xo6xjDAlB6q",
        "outputId": "105b19ba-54b2-46c2-8bb1-78055a4b64a6"
      },
      "outputs": [
        {
          "name": "stdout",
          "output_type": "stream",
          "text": [
            "All probabilities:\n",
            "  angry: 0.2011\n",
            "  disgust: 0.0549\n",
            "  fear: 0.0141\n",
            "  happy: 0.3001\n",
            "  nocode: 0.0677\n",
            "  not-relevant: 0.0383\n",
            "  sad: 0.2119\n",
            "  surprise: 0.0901\n"
          ]
        }
      ],
      "source": [
        "\n",
        "all_probs = predict_sentiments_present(example_text, return_probs=True)\n",
        "# for label, prob in all_probs.items():\n",
        "#     print(f\"{label}: {prob:.4f}\")\n"
      ]
    },
    {
      "cell_type": "code",
      "execution_count": null,
      "metadata": {
        "id": "6c5uSAk6l1e7"
      },
      "outputs": [],
      "source": [
        "def preprocess(text):\n",
        "    new_text = []\n",
        "    for t in text.split(\" \"):\n",
        "        t = '@user' if t.startswith('@') and len(t) > 1 else t\n",
        "        t = 'http' if t.startswith('http') else t\n",
        "        new_text.append(t)\n",
        "    return \" \".join(new_text)\n",
        "\n",
        "\n"
      ]
    },
    {
      "cell_type": "code",
      "execution_count": null,
      "metadata": {
        "colab": {
          "base_uri": "https://localhost:8080/",
          "height": 608
        },
        "id": "B67h73QcmcVX",
        "outputId": "98c5b89e-2431-47d4-83b8-50f201010a85"
      },
      "outputs": [
        {
          "name": "stdout",
          "output_type": "stream",
          "text": [
            "All probabilities:\n",
            "  angry: 0.2011\n",
            "  disgust: 0.0549\n",
            "  fear: 0.0141\n",
            "  happy: 0.3001\n",
            "  nocode: 0.0677\n",
            "  not-relevant: 0.0383\n",
            "  sad: 0.2119\n",
            "  surprise: 0.0901\n"
          ]
        },
        {
          "data": {
            "image/png": "[encoded data removed]",
            "text/plain": [
              "<Figure size 800x400 with 1 Axes>"
            ]
          },
          "metadata": {},
          "output_type": "display_data"
        }
      ],
      "source": [
        "# Plot predictions\n",
        "probs = predict_sentiments_present(example_text, return_probs=True)\n",
        "plt.figure(figsize=(8, 4))\n",
        "plt.bar(probs.keys(), probs.values(), color='skyblue')\n",
        "plt.xticks(rotation=45)\n",
        "plt.title(\"Model Probabilities per Sentiment\")\n",
        "plt.ylabel(\"Probability\")\n",
        "plt.show()"
      ]
    },
    {
      "cell_type": "code",
      "execution_count": null,
      "metadata": {
        "id": "2seTV07ooIAh"
      },
      "outputs": [],
      "source": [
        "# define prediction for model_alt\n",
        "def predict_single_label(text, model=model_alt, tokenizer=roberta_tokenizer):\n",
        "    model.eval()\n",
        "    model.to(device)\n",
        "\n",
        "    # Preprocess\n",
        "    text = preprocess(text)\n",
        "    inputs = tokenizer(text, return_tensors=\"pt\", truncation=True, max_length=128, padding=True)\n",
        "    inputs = {k: v.to(device) for k, v in inputs.items()}\n",
        "\n",
        "    with torch.no_grad():\n",
        "        outputs = model(**inputs)\n",
        "        logits = outputs.logits\n",
        "        probs = torch.softmax(logits, dim=1)[0].cpu().numpy()\n",
        "\n",
        "    return {model.config.id2label[i]: float(prob) for i, prob in enumerate(probs)}\n",
        "\n"
      ]
    },
    {
      "cell_type": "code",
      "execution_count": null,
      "metadata": {
        "colab": {
          "base_uri": "https://localhost:8080/"
        },
        "id": "OVyHDlcXsH9j",
        "outputId": "aae3f2d0-011d-41ba-fc04-7fbe55a74cfb"
      },
      "outputs": [
        {
          "name": "stdout",
          "output_type": "stream",
          "text": [
            "All probabilities:\n",
            "  angry: 0.2011\n",
            "  disgust: 0.0549\n",
            "  fear: 0.0141\n",
            "  happy: 0.3001\n",
            "  nocode: 0.0677\n",
            "  not-relevant: 0.0383\n",
            "  sad: 0.2119\n",
            "  surprise: 0.0901\n",
            "All probabilities:\n",
            "  angry: 0.0776\n",
            "  disgust: 0.0890\n",
            "  fear: 0.9997\n",
            "  happy: 0.0641\n"
          ]
        }
      ],
      "source": [
        "# Get predictions from both models\n",
        "example_text = \"I'm not feeling great about the direction of things lately.\"\n",
        "\n",
        "# Multi-label (model_2)\n",
        "multi_probs = predict_sentiments_present(example_text, return_probs=True)\n",
        "\n",
        "# Single-label (model_alt)\n",
        "single_probs = predict_sentiments_present(example_text, return_probs= True, our_model= model_final)\n"
      ]
    },
    {
      "cell_type": "code",
      "execution_count": null,
      "metadata": {
        "colab": {
          "base_uri": "https://localhost:8080/",
          "height": 506
        },
        "id": "fh7zW0yxsTDu",
        "outputId": "28c19243-6448-4bf5-e251-c2810b9df5f9"
      },
      "outputs": [
        {
          "data": {
            "image/png": "[encoded data removed]",
            "text/plain": [
              "<Figure size 1000x500 with 1 Axes>"
            ]
          },
          "metadata": {},
          "output_type": "display_data"
        }
      ],
      "source": [
        "# Combine into DataFrame\n",
        "import pandas as pd\n",
        "\n",
        "df_compare = pd.DataFrame({\n",
        "    'Sentiment': list(multi_probs.keys()),\n",
        "    'First Pass': list(multi_probs.values()),\n",
        "    'Final Model': [single_probs.get(label, 0.0) for label in multi_probs.keys()]\n",
        "})\n",
        "\n",
        "# Melt for plotting\n",
        "df_melted = df_compare.melt(id_vars='Sentiment', var_name='Model', value_name='Probability')\n",
        "\n",
        "# Plot\n",
        "plt.figure(figsize=(10, 5))\n",
        "sns.barplot(data=df_melted, x='Sentiment', y='Probability', hue='Model')\n",
        "plt.title(f\"Sentiment Probabilities Comparison\\nText: \\\"{example_text}\\\"\")\n",
        "plt.xticks(rotation=45)\n",
        "plt.tight_layout()\n",
        "plt.show()"
      ]
    },
    {
      "cell_type": "code",
      "execution_count": null,
      "metadata": {
        "colab": {
          "base_uri": "https://localhost:8080/"
        },
        "id": "uEzC4ZdnsVAE",
        "outputId": "1b4673b0-e106-4acd-96d0-56479778f2c0"
      },
      "outputs": [
        {
          "name": "stdout",
          "output_type": "stream",
          "text": [
            "Top sentiment First Pass: happy\n",
            "Top sentiment Final Model: fear\n"
          ]
        }
      ],
      "source": [
        "top_multi = max(multi_probs, key=multi_probs.get)\n",
        "top_single = max(single_probs, key=single_probs.get)\n",
        "print(f\"Top sentiment First Pass: {top_multi}\")\n",
        "print(f\"Top sentiment Final Model: {top_single}\")"
      ]
    },
    {
      "cell_type": "markdown",
      "metadata": {},
      "source": [
        "## Conclusion"
      ]
    },
    {
      "cell_type": "markdown",
      "metadata": {},
      "source": []
    }
  ],
  "metadata": {
    "accelerator": "GPU",
    "colab": {
      "gpuType": "T4",
      "provenance": []
    },
    "kernelspec": {
      "display_name": "Python 3",
      "name": "python3"
    },
    "language_info": {
      "name": "python"
    }
  },
  "nbformat": 4,
  "nbformat_minor": 0
}
